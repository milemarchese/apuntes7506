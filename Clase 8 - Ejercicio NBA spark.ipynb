{
 "cells": [
  {
   "cell_type": "code",
   "execution_count": 1,
   "metadata": {},
   "outputs": [],
   "source": [
    "import findspark\n",
    "findspark.init()\n",
    "import pyspark\n",
    "\n",
    "from pyspark.sql import *\n",
    "from pyspark.sql.functions import *\n",
    "from pyspark import SparkContext\n",
    "from pyspark.sql import SQLContext\n",
    "import pandas as pd"
   ]
  },
  {
   "cell_type": "code",
   "execution_count": 2,
   "metadata": {
    "colab": {},
    "colab_type": "code",
    "id": "CoqqUqNV3wFZ"
   },
   "outputs": [],
   "source": [
    "# create the Spark Session\n",
    "spark = SparkSession.builder.getOrCreate()\n",
    "\n",
    "# create the Spark Context\n",
    "sc = spark.sparkContext\n",
    "sqlContext = SQLContext(sc)"
   ]
  },
  {
   "cell_type": "markdown",
   "metadata": {},
   "source": [
    "### Datos\n",
    "https://www.kaggle.com/noahgift/social-power-nba"
   ]
  },
  {
   "cell_type": "code",
   "execution_count": 3,
   "metadata": {
    "colab": {},
    "colab_type": "code",
    "id": "fs4qfZ-zhy_h"
   },
   "outputs": [],
   "source": [
    "nba = sqlContext.read.csv('./Datasets/nba.csv', header=True).rdd.cache()\n",
    "twitter = sqlContext.read.csv('./Datasets/twitter.csv', header=True).rdd.cache()"
   ]
  },
  {
   "cell_type": "code",
   "execution_count": 4,
   "metadata": {
    "colab": {
     "base_uri": "https://localhost:8080/",
     "height": 54
    },
    "colab_type": "code",
    "id": "Be2Qdv3likOU",
    "outputId": "d87b96f4-2682-40ef-f144-acdb7ad7089f"
   },
   "outputs": [
    {
     "data": {
      "text/plain": [
       "Row(PLAYER='Russell Westbrook', TEAM='OKC', AGE='28', GP='81', W='46', L='35', MIN='34.6', OFFRTG='107.9', DEFRTG='104.6', NETRTG='3.3', AST%='54.3', AST/TO='1.92', AST RATIO='23.4', OREB%='5.3', DREB%='27.9', REB%='16.7', TO RATIO='12.2', EFG%='47.6', TS%='55.4', USG%='40.8', PACE='102.31', PIE='23')"
      ]
     },
     "execution_count": 4,
     "metadata": {},
     "output_type": "execute_result"
    }
   ],
   "source": [
    "nba.first()"
   ]
  },
  {
   "cell_type": "code",
   "execution_count": 5,
   "metadata": {
    "colab": {
     "base_uri": "https://localhost:8080/",
     "height": 34
    },
    "colab_type": "code",
    "id": "WWm3umWOinjd",
    "outputId": "7bfcd652-4310-4d92-ae56-4f4262aec4d0"
   },
   "outputs": [
    {
     "data": {
      "text/plain": [
       "Row(PLAYER='Russell Westbrook', TWITTER_FAVORITE_COUNT='2130.5', TWITTER_RETWEET_COUNT='559')"
      ]
     },
     "execution_count": 5,
     "metadata": {},
     "output_type": "execute_result"
    }
   ],
   "source": [
    "twitter.first()"
   ]
  },
  {
   "cell_type": "code",
   "execution_count": 6,
   "metadata": {
    "colab": {
     "base_uri": "https://localhost:8080/",
     "height": 34
    },
    "colab_type": "code",
    "id": "fVxpVKDOivVx",
    "outputId": "f1512369-d69c-493f-efd4-0f07c7bed27d"
   },
   "outputs": [
    {
     "data": {
      "text/plain": [
       "486"
      ]
     },
     "execution_count": 6,
     "metadata": {},
     "output_type": "execute_result"
    }
   ],
   "source": [
    "nba.count()"
   ]
  },
  {
   "cell_type": "code",
   "execution_count": 7,
   "metadata": {
    "colab": {
     "base_uri": "https://localhost:8080/",
     "height": 34
    },
    "colab_type": "code",
    "id": "SXbzRsFGizOl",
    "outputId": "87fc8db4-909b-4d9a-d63b-25b562397d18"
   },
   "outputs": [
    {
     "data": {
      "text/plain": [
       "329"
      ]
     },
     "execution_count": 7,
     "metadata": {},
     "output_type": "execute_result"
    }
   ],
   "source": [
    "twitter.count()"
   ]
  },
  {
   "cell_type": "markdown",
   "metadata": {
    "colab_type": "text",
    "id": "325tu3zIjL9e"
   },
   "source": [
    "### Ejercicios\n",
    "\n",
    "1.   Cuantos jugadores hay por equipo?\n",
    "2.   Obtener el jugador con mayor edad del equipo Cleveland (CLE).\n",
    "3.   Obtener promedio de edad de todos los jugadores.\n",
    "4.   Obtener promedio de edad por equipo ordenados de mayor a menor.\n",
    "5.   Indicar para cada equipo cuales son los jugadores que poseen mayor edad que el promedio de edad del equipo.\n",
    "6.   Obtener el top 10 de jugadores en base al puntaje de popularidad calculado como: GP \\* 5 + W \\* 10 + TWITTER_FAVORITE_COUNT / 2 + TWITTER_RETWEET_COUNT\n",
    "7.   Calcular el promedio del puntaje de popularidad general teniendo en cuenta a todos los jugadores.\n",
    "8.   Calcular el promedio del puntaje de popularidad para cada equipo.\n",
    "9.   Calcular para cada equipo cuantos jugadores superan el promedio de popularidad general (calculado en el punto 7).\n",
    "10.   Para cada jugador obtener el porcentaje de partidos ganados sobre partidos jugados. Calcular el promedio para cada equipo, teniendo en cuenta solo a los jugadores que hayan jugado al menos el 20% de los juegos del promedio de juegos jugados para los compañeros de su equipo. Obtener los 5 jugadores que poseen los promedios más superiores con relación al promedio de su equipo (si el promedio del equipo es 0,70 y el valor para el jugador es 0,82, el número a tener en cuenta es (0,82-0,70)/0,70)."
   ]
  },
  {
   "cell_type": "markdown",
   "metadata": {
    "colab_type": "text",
    "id": "Qp1W0UvjO9ou"
   },
   "source": [
    "1. Cuantos jugadores hay por equipo?"
   ]
  },
  {
   "cell_type": "code",
   "execution_count": 8,
   "metadata": {
    "colab": {},
    "colab_type": "code",
    "id": "c7gaFRNVegvV"
   },
   "outputs": [],
   "source": [
    "team_by_age = nba.map(lambda x: (x.TEAM, 1)).reduceByKey(lambda x, y: x + y).cache()"
   ]
  },
  {
   "cell_type": "code",
   "execution_count": 9,
   "metadata": {
    "colab": {
     "base_uri": "https://localhost:8080/",
     "height": 34
    },
    "colab_type": "code",
    "id": "ow4p4gtmnkGI",
    "outputId": "bf6adf67-c207-4f14-8e60-35ccf549584d"
   },
   "outputs": [
    {
     "data": {
      "text/plain": [
       "30"
      ]
     },
     "execution_count": 9,
     "metadata": {},
     "output_type": "execute_result"
    }
   ],
   "source": [
    "teams = team_by_age.count()\n",
    "teams"
   ]
  },
  {
   "cell_type": "code",
   "execution_count": 10,
   "metadata": {
    "colab": {
     "base_uri": "https://localhost:8080/",
     "height": 527
    },
    "colab_type": "code",
    "id": "pyyt_mwknsTL",
    "outputId": "2452473f-5f95-4b45-840d-f983e297669c"
   },
   "outputs": [
    {
     "data": {
      "text/plain": [
       "[('OKC', 15),\n",
       " ('DET', 15),\n",
       " ('BOS', 15),\n",
       " ('NOP', 17),\n",
       " ('HOU', 15),\n",
       " ('GSW', 16),\n",
       " ('CLE', 19),\n",
       " ('LAC', 15),\n",
       " ('MIL', 17),\n",
       " ('SAS', 16),\n",
       " ('PHI', 16),\n",
       " ('MIN', 15),\n",
       " ('DEN', 17),\n",
       " ('CHI', 16),\n",
       " ('MIA', 14),\n",
       " ('UTA', 15),\n",
       " ('MEM', 16),\n",
       " ('POR', 14),\n",
       " ('TOR', 16),\n",
       " ('WAS', 17),\n",
       " ('ATL', 18),\n",
       " ('ORL', 18),\n",
       " ('PHX', 17),\n",
       " ('CHA', 17),\n",
       " ('IND', 16),\n",
       " ('DAL', 19),\n",
       " ('NYK', 15),\n",
       " ('BKN', 18),\n",
       " ('SAC', 16),\n",
       " ('LAL', 16)]"
      ]
     },
     "execution_count": 10,
     "metadata": {},
     "output_type": "execute_result"
    }
   ],
   "source": [
    "team_by_age.collect()"
   ]
  },
  {
   "cell_type": "markdown",
   "metadata": {
    "colab_type": "text",
    "id": "HBwqdaY0h0lH"
   },
   "source": [
    "2. Obtener el jugador con mayor edad del equipo Cleveland (CLE)."
   ]
  },
  {
   "cell_type": "code",
   "execution_count": 11,
   "metadata": {
    "colab": {
     "base_uri": "https://localhost:8080/",
     "height": 54
    },
    "colab_type": "code",
    "id": "Nt2CygcnerWw",
    "outputId": "6a0f012f-934c-4a90-8602-b7cd79d4869f"
   },
   "outputs": [
    {
     "data": {
      "text/plain": [
       "Row(PLAYER='Chris Andersen', TEAM='CLE', AGE='38', GP='12', W='8', L='4', MIN='9.5', OFFRTG='112.7', DEFRTG='108.4', NETRTG='4.3', AST%='6.3', AST/TO='1', AST RATIO='13.1', OREB%='9.8', DREB%='19.1', REB%='15', TO RATIO='13.1', EFG%='40.9', TS%='49.7', USG%='13.6', PACE='96.5', PIE='6.3')"
      ]
     },
     "execution_count": 11,
     "metadata": {},
     "output_type": "execute_result"
    }
   ],
   "source": [
    "nba.filter(lambda x: x.TEAM == 'CLE').reduce(lambda x, y: x if x.AGE > y.AGE else y)"
   ]
  },
  {
   "cell_type": "markdown",
   "metadata": {
    "colab_type": "text",
    "id": "uYxrGnsSi1Y3"
   },
   "source": [
    "3. Obtener promedio de edad de todos los jugadores."
   ]
  },
  {
   "cell_type": "code",
   "execution_count": 12,
   "metadata": {
    "colab": {},
    "colab_type": "code",
    "id": "lDDS6kzperja"
   },
   "outputs": [],
   "source": [
    "total = nba.map(lambda x: int(x.AGE)).reduce(lambda x, y: x + y)"
   ]
  },
  {
   "cell_type": "code",
   "execution_count": 13,
   "metadata": {
    "colab": {},
    "colab_type": "code",
    "id": "wQ2KwdvNek8U"
   },
   "outputs": [],
   "source": [
    "count = nba.count()"
   ]
  },
  {
   "cell_type": "code",
   "execution_count": 14,
   "metadata": {
    "colab": {
     "base_uri": "https://localhost:8080/",
     "height": 34
    },
    "colab_type": "code",
    "id": "tnTl43s2kyib",
    "outputId": "ff56d1fe-b11e-497d-af79-b287e4ed9587"
   },
   "outputs": [
    {
     "data": {
      "text/plain": [
       "26.847736625514404"
      ]
     },
     "execution_count": 14,
     "metadata": {},
     "output_type": "execute_result"
    }
   ],
   "source": [
    "total/count"
   ]
  },
  {
   "cell_type": "markdown",
   "metadata": {
    "colab_type": "text",
    "id": "oPRM-0B9mIKo"
   },
   "source": [
    "4. Obtener promedio de edad por equipo ordenados de mayor a menor."
   ]
  },
  {
   "cell_type": "code",
   "execution_count": 15,
   "metadata": {
    "colab": {},
    "colab_type": "code",
    "id": "ePW0jcm6mE4V"
   },
   "outputs": [],
   "source": [
    "teams_avg_age = nba.map(lambda x: (x.TEAM, (int(x.AGE), 1))).reduceByKey(lambda x, y: (x[0] + y[0], x[1] + y[1]))\\\n",
    "    .map(lambda x: (x[0], x[1][0] / x[1][1]))"
   ]
  },
  {
   "cell_type": "code",
   "execution_count": 16,
   "metadata": {
    "colab": {
     "base_uri": "https://localhost:8080/",
     "height": 527
    },
    "colab_type": "code",
    "id": "swc6-zHYodyd",
    "outputId": "ca982438-7436-49ab-a183-5b91c22f0a13"
   },
   "outputs": [
    {
     "data": {
      "text/plain": [
       "[('CLE', 30.42105263157895),\n",
       " ('LAC', 30.066666666666666),\n",
       " ('SAS', 29.0),\n",
       " ('GSW', 28.625),\n",
       " ('ATL', 28.5),\n",
       " ('MEM', 27.8125),\n",
       " ('IND', 27.5),\n",
       " ('MIA', 27.357142857142858),\n",
       " ('NYK', 27.266666666666666),\n",
       " ('DAL', 27.263157894736842),\n",
       " ('NOP', 26.88235294117647),\n",
       " ('UTA', 26.733333333333334),\n",
       " ('BKN', 26.555555555555557),\n",
       " ('LAL', 26.5),\n",
       " ('HOU', 26.466666666666665),\n",
       " ('SAC', 26.4375),\n",
       " ('DEN', 26.352941176470587),\n",
       " ('MIL', 26.294117647058822),\n",
       " ('OKC', 26.133333333333333),\n",
       " ('MIN', 26.133333333333333),\n",
       " ('WAS', 26.058823529411764),\n",
       " ('CHI', 26.0),\n",
       " ('DET', 25.933333333333334),\n",
       " ('CHA', 25.823529411764707),\n",
       " ('ORL', 25.77777777777778),\n",
       " ('BOS', 25.733333333333334),\n",
       " ('TOR', 25.6875),\n",
       " ('PHX', 25.58823529411765),\n",
       " ('PHI', 25.1875),\n",
       " ('POR', 24.571428571428573)]"
      ]
     },
     "execution_count": 16,
     "metadata": {},
     "output_type": "execute_result"
    }
   ],
   "source": [
    "teams_avg_age.takeOrdered(teams, lambda x: -x[1])"
   ]
  },
  {
   "cell_type": "markdown",
   "metadata": {
    "colab_type": "text",
    "id": "HYgC4YcloQtd"
   },
   "source": [
    "5. Indicar para cada equipo cuales son los jugadores que poseen mayor edad que el promedio de edad del equipo."
   ]
  },
  {
   "cell_type": "code",
   "execution_count": 17,
   "metadata": {
    "colab": {
     "base_uri": "https://localhost:8080/",
     "height": 34
    },
    "colab_type": "code",
    "id": "glbXzCaDqGjl",
    "outputId": "0abb2c4b-8a08-4b3d-adb0-5a2d4855dd7c"
   },
   "outputs": [
    {
     "data": {
      "text/plain": [
       "[('OKC', ('Russell Westbrook', 28))]"
      ]
     },
     "execution_count": 17,
     "metadata": {},
     "output_type": "execute_result"
    }
   ],
   "source": [
    "nba_by_age = nba.map(lambda x: (x.TEAM, (x.PLAYER, int(x.AGE)))).cache()\n",
    "nba_by_age.take(1)"
   ]
  },
  {
   "cell_type": "code",
   "execution_count": 18,
   "metadata": {
    "colab": {
     "base_uri": "https://localhost:8080/",
     "height": 1000
    },
    "colab_type": "code",
    "id": "2Py99NJCoPFi",
    "outputId": "9ecbee54-190f-435a-97b0-390d2a447c96"
   },
   "outputs": [
    {
     "data": {
      "text/plain": [
       "[('DET',\n",
       "  [(('Boban Marjanovic', 28), 25.933333333333334),\n",
       "   (('Beno Udrih', 34), 25.933333333333334),\n",
       "   (('Ish Smith', 28), 25.933333333333334),\n",
       "   (('Jon Leuer', 28), 25.933333333333334),\n",
       "   (('Reggie Jackson', 27), 25.933333333333334),\n",
       "   (('Aron Baynes', 30), 25.933333333333334),\n",
       "   (('Reggie Bullock', 26), 25.933333333333334),\n",
       "   (('Marcus Morris', 27), 25.933333333333334)]),\n",
       " ('BOS',\n",
       "  [(('Isaiah Thomas', 28), 25.733333333333334),\n",
       "   (('Al Horford', 31), 25.733333333333334),\n",
       "   (('Kelly Olynyk', 26), 25.733333333333334),\n",
       "   (('Jae Crowder', 26), 25.733333333333334),\n",
       "   (('Avery Bradley', 26), 25.733333333333334),\n",
       "   (('Amir Johnson', 30), 25.733333333333334),\n",
       "   (('Tyler Zeller', 27), 25.733333333333334),\n",
       "   (('Gerald Green', 31), 25.733333333333334),\n",
       "   (('Jonas Jerebko', 30), 25.733333333333334)]),\n",
       " ('HOU',\n",
       "  [(('James Harden', 27), 26.466666666666665),\n",
       "   (('Lou Williams', 30), 26.466666666666665),\n",
       "   (('Nene', 34), 26.466666666666665),\n",
       "   (('Patrick Beverley', 28), 26.466666666666665),\n",
       "   (('Trevor Ariza', 32), 26.466666666666665),\n",
       "   (('Eric Gordon', 28), 26.466666666666665),\n",
       "   (('Ryan Anderson', 29), 26.466666666666665),\n",
       "   (('Bobby Brown', 32), 26.466666666666665)]),\n",
       " ('GSW',\n",
       "  [(('Stephen Curry', 29), 28.625),\n",
       "   (('JaVale McGee', 29), 28.625),\n",
       "   (('David West', 36), 28.625),\n",
       "   (('Andre Iguodala', 33), 28.625),\n",
       "   (('Zaza Pachulia', 33), 28.625),\n",
       "   (('Matt Barnes', 37), 28.625),\n",
       "   (('Shaun Livingston', 31), 28.625),\n",
       "   (('Anderson Varejao', 34), 28.625)]),\n",
       " ('MIL',\n",
       "  [(('Greg Monroe', 27), 26.294117647058822),\n",
       "   (('Michael Beasley', 28), 26.294117647058822),\n",
       "   (('Spencer Hawes', 29), 26.294117647058822),\n",
       "   (('Mirza Teletovic', 31), 26.294117647058822),\n",
       "   (('Jason Terry', 39), 26.294117647058822),\n",
       "   (('Steve Novak', 34), 26.294117647058822)]),\n",
       " ('SAS',\n",
       "  [(('Pau Gasol', 36), 29.0),\n",
       "   (('David Lee', 34), 29.0),\n",
       "   (('LaMarcus Aldridge', 31), 29.0),\n",
       "   (('Tony Parker', 35), 29.0),\n",
       "   (('Joel Anthony', 34), 29.0),\n",
       "   (('Manu Ginobili', 39), 29.0),\n",
       "   (('Danny Green', 30), 29.0)]),\n",
       " ('MIN',\n",
       "  [(('Gorgui Dieng', 27), 26.133333333333333),\n",
       "   (('Nemanja Bjelica', 29), 26.133333333333333),\n",
       "   (('Cole Aldrich', 28), 26.133333333333333),\n",
       "   (('John Lucas III', 34), 26.133333333333333),\n",
       "   (('Omri Casspi', 29), 26.133333333333333),\n",
       "   (('Brandon Rush', 31), 26.133333333333333),\n",
       "   (('Jordan Hill', 29), 26.133333333333333)]),\n",
       " ('DEN',\n",
       "  [(('Kenneth Faried', 27), 26.352941176470587),\n",
       "   (('Danilo Gallinari', 28), 26.352941176470587),\n",
       "   (('Mason Plumlee', 27), 26.352941176470587),\n",
       "   (('Wilson Chandler', 30), 26.352941176470587),\n",
       "   (('Mike Miller', 37), 26.352941176470587),\n",
       "   (('Darrell Arthur', 29), 26.352941176470587),\n",
       "   (('Jameer Nelson', 35), 26.352941176470587),\n",
       "   (('Roy Hibbert', 30), 26.352941176470587),\n",
       "   (('Alonzo Gee', 30), 26.352941176470587)]),\n",
       " ('CHI',\n",
       "  [(('Jimmy Butler', 27), 26.0),\n",
       "   (('Dwyane Wade', 35), 26.0),\n",
       "   (('Rajon Rondo', 31), 26.0),\n",
       "   (('Robin Lopez', 29), 26.0),\n",
       "   (('Anthony Morrow', 31), 26.0)]),\n",
       " ('UTA',\n",
       "  [(('Gordon Hayward', 27), 26.733333333333334),\n",
       "   (('George Hill', 31), 26.733333333333334),\n",
       "   (('Jeff Withey', 27), 26.733333333333334),\n",
       "   (('Joe Johnson', 36), 26.733333333333334),\n",
       "   (('Joe Ingles', 29), 26.733333333333334),\n",
       "   (('Shelvin Mack', 27), 26.733333333333334),\n",
       "   (('Boris Diaw', 35), 26.733333333333334)]),\n",
       " ('POR',\n",
       "  [(('Damian Lillard', 26), 24.571428571428573),\n",
       "   (('CJ McCollum', 25), 24.571428571428573),\n",
       "   (('Shabazz Napier', 25), 24.571428571428573),\n",
       "   (('Al-Farouq Aminu', 26), 24.571428571428573),\n",
       "   (('Evan Turner', 28), 24.571428571428573),\n",
       "   (('Allen Crabbe', 25), 24.571428571428573),\n",
       "   (('Ed Davis', 28), 24.571428571428573),\n",
       "   (('Meyers Leonard', 25), 24.571428571428573)]),\n",
       " ('TOR',\n",
       "  [(('DeMar DeRozan', 27), 25.6875),\n",
       "   (('Kyle Lowry', 31), 25.6875),\n",
       "   (('Serge Ibaka', 27), 25.6875),\n",
       "   (('PJ Tucker', 32), 25.6875),\n",
       "   (('Patrick Patterson', 28), 25.6875),\n",
       "   (('DeMarre Carroll', 30), 25.6875)]),\n",
       " ('ATL',\n",
       "  [(('Dwight Howard', 31), 28.5),\n",
       "   (('Paul Millsap', 32), 28.5),\n",
       "   (('Ersan Ilyasova', 30), 28.5),\n",
       "   (('Kris Humphries', 32), 28.5),\n",
       "   (('Thabo Sefolosha', 33), 28.5),\n",
       "   (('Jose Calderon', 35), 28.5),\n",
       "   (('Mike Dunleavy', 36), 28.5),\n",
       "   (('Gary Neal', 32), 28.5)]),\n",
       " ('ORL',\n",
       "  [(('Nikola Vucevic', 26), 25.77777777777778),\n",
       "   (('Jodie Meeks', 29), 25.77777777777778),\n",
       "   (('D.J. Augustin', 29), 25.77777777777778),\n",
       "   (('Terrence Ross', 26), 25.77777777777778),\n",
       "   (('Jeff Green', 30), 25.77777777777778),\n",
       "   (('C.J. Watson', 33), 25.77777777777778),\n",
       "   (('Arinze Onuaku', 29), 25.77777777777778),\n",
       "   (('Damjan Rudez', 31), 25.77777777777778),\n",
       "   (('CJ Wilcox', 26), 25.77777777777778)]),\n",
       " ('PHX',\n",
       "  [(('Eric Bledsoe', 27), 25.58823529411765),\n",
       "   (('Tyson Chandler', 34), 25.58823529411765),\n",
       "   (('John Jenkins', 26), 25.58823529411765),\n",
       "   (('Leandro Barbosa', 34), 25.58823529411765),\n",
       "   (('Jared Dudley', 31), 25.58823529411765),\n",
       "   (('Ronnie Price', 34), 25.58823529411765),\n",
       "   (('Elijah Millsap', 29), 25.58823529411765)]),\n",
       " ('CHA',\n",
       "  [(('Kemba Walker', 27), 25.823529411764707),\n",
       "   (('Nicolas Batum', 28), 25.823529411764707),\n",
       "   (('Marvin Williams', 31), 25.823529411764707),\n",
       "   (('Marco Belinelli', 31), 25.823529411764707),\n",
       "   (('Ramon Sessions', 31), 25.823529411764707),\n",
       "   (('Brian Roberts', 31), 25.823529411764707),\n",
       "   (('Miles Plumlee', 28), 25.823529411764707)]),\n",
       " ('NYK',\n",
       "  [(('Carmelo Anthony', 33), 27.266666666666666),\n",
       "   (('Derrick Rose', 28), 27.266666666666666),\n",
       "   (('Joakim Noah', 32), 27.266666666666666),\n",
       "   (('Justin Holiday', 28), 27.266666666666666),\n",
       "   (('Courtney Lee', 31), 27.266666666666666),\n",
       "   (('Sasha Vujacic', 33), 27.266666666666666),\n",
       "   (('Lance Thomas', 29), 27.266666666666666)]),\n",
       " ('LAL',\n",
       "  [(('Luol Deng', 32), 26.5),\n",
       "   (('Nick Young', 32), 26.5),\n",
       "   (('Timofey Mozgov', 30), 26.5),\n",
       "   (('Marcelo Huertas', 34), 26.5),\n",
       "   (('Corey Brewer', 31), 26.5),\n",
       "   (('Metta World Peace', 37), 26.5)]),\n",
       " ('OKC',\n",
       "  [(('Russell Westbrook', 28), 26.133333333333333),\n",
       "   (('Nick Collison', 36), 26.133333333333333),\n",
       "   (('Taj Gibson', 32), 26.133333333333333),\n",
       "   (('Kyle Singler', 29), 26.133333333333333),\n",
       "   (('Norris Cole', 28), 26.133333333333333)]),\n",
       " ('NOP',\n",
       "  [(('Jrue Holiday', 27), 26.88235294117647),\n",
       "   (('Jordan Crawford', 28), 26.88235294117647),\n",
       "   (('Alexis Ajinca', 29), 26.88235294117647),\n",
       "   (('Reggie Williams', 30), 26.88235294117647),\n",
       "   ((\"E'Twaun Moore\", 28), 26.88235294117647),\n",
       "   (('Omer Asik', 30), 26.88235294117647),\n",
       "   (('Dante Cunningham', 30), 26.88235294117647),\n",
       "   (('Jarrett Jack', 33), 26.88235294117647)]),\n",
       " ('CLE',\n",
       "  [(('LeBron James', 32), 30.42105263157895),\n",
       "   (('Channing Frye', 34), 30.42105263157895),\n",
       "   (('Deron Williams', 33), 30.42105263157895),\n",
       "   (('Andrew Bogut', 32), 30.42105263157895),\n",
       "   (('Kyle Korver', 36), 30.42105263157895),\n",
       "   (('Dahntay Jones', 36), 30.42105263157895),\n",
       "   (('James Jones', 36), 30.42105263157895),\n",
       "   (('Chris Andersen', 38), 30.42105263157895),\n",
       "   (('Richard Jefferson', 37), 30.42105263157895),\n",
       "   (('JR Smith', 31), 30.42105263157895)]),\n",
       " ('LAC',\n",
       "  [(('Chris Paul', 32), 30.066666666666666),\n",
       "   (('Brandon Bass', 32), 30.066666666666666),\n",
       "   (('JJ Redick', 33), 30.066666666666666),\n",
       "   (('Jamal Crawford', 37), 30.066666666666666),\n",
       "   (('Raymond Felton', 33), 30.066666666666666),\n",
       "   (('Paul Pierce', 39), 30.066666666666666),\n",
       "   (('Alan Anderson', 34), 30.066666666666666)]),\n",
       " ('PHI',\n",
       "  [(('Tiago Splitter', 32), 25.1875),\n",
       "   (('Jerryd Bayless', 28), 25.1875),\n",
       "   (('Sergio Rodriguez', 31), 25.1875),\n",
       "   (('Robert Covington', 26), 25.1875),\n",
       "   (('Gerald Henderson', 29), 25.1875),\n",
       "   (('Justin Harper', 27), 25.1875)]),\n",
       " ('MIA',\n",
       "  [(('Hassan Whiteside', 28), 27.357142857142858),\n",
       "   (('Goran Dragic', 31), 27.357142857142858),\n",
       "   (('James Johnson', 30), 27.357142857142858),\n",
       "   (('Wayne Ellington', 29), 27.357142857142858),\n",
       "   (('Udonis Haslem', 37), 27.357142857142858),\n",
       "   (('Josh McRoberts', 30), 27.357142857142858),\n",
       "   (('Luke Babbitt', 28), 27.357142857142858)]),\n",
       " ('MEM',\n",
       "  [(('Mike Conley', 29), 27.8125),\n",
       "   (('Zach Randolph', 35), 27.8125),\n",
       "   (('Marc Gasol', 32), 27.8125),\n",
       "   (('Brandan Wright', 29), 27.8125),\n",
       "   (('Tony Allen', 35), 27.8125),\n",
       "   (('Vince Carter', 40), 27.8125),\n",
       "   (('Toney Douglas', 31), 27.8125),\n",
       "   (('Chandler Parsons', 28), 27.8125)]),\n",
       " ('WAS',\n",
       "  [(('Marcin Gortat', 33), 26.058823529411764),\n",
       "   (('Bojan Bogdanovic', 28), 26.058823529411764),\n",
       "   (('Brandon Jennings', 27), 26.058823529411764),\n",
       "   (('Markieff Morris', 27), 26.058823529411764),\n",
       "   (('Jason Smith', 31), 26.058823529411764),\n",
       "   (('Ian Mahinmi', 30), 26.058823529411764),\n",
       "   (('Marcus Thornton', 30), 26.058823529411764)]),\n",
       " ('IND',\n",
       "  [(('Al Jefferson', 32), 27.5),\n",
       "   (('Jeff Teague', 29), 27.5),\n",
       "   (('Thaddeus Young', 29), 27.5),\n",
       "   (('CJ Miles', 30), 27.5),\n",
       "   (('Rodney Stuckey', 31), 27.5),\n",
       "   (('Lavoy Allen', 28), 27.5),\n",
       "   (('Monta Ellis', 31), 27.5),\n",
       "   (('Aaron Brooks', 32), 27.5)]),\n",
       " ('DAL',\n",
       "  [(('J.J. Barea', 33), 27.263157894736842),\n",
       "   (('Dirk Nowitzki', 39), 27.263157894736842),\n",
       "   (('Salah Mejri', 31), 27.263157894736842),\n",
       "   (('Devin Harris', 34), 27.263157894736842),\n",
       "   (('Wesley Matthews', 30), 27.263157894736842),\n",
       "   (('Jonathan Gibson', 29), 27.263157894736842),\n",
       "   (('DeAndre Liggins', 29), 27.263157894736842)]),\n",
       " ('BKN',\n",
       "  [(('Jeremy Lin', 28), 26.555555555555557),\n",
       "   (('Trevor Booker', 29), 26.555555555555557),\n",
       "   (('Brook Lopez', 29), 26.555555555555557),\n",
       "   (('Sean Kilpatrick', 27), 26.555555555555557),\n",
       "   (('Justin Hamilton', 27), 26.555555555555557),\n",
       "   (('Luis Scola', 37), 26.555555555555557),\n",
       "   (('Randy Foye', 33), 26.555555555555557),\n",
       "   (('Andrew Nicholson', 27), 26.555555555555557),\n",
       "   (('Greivis Vasquez', 30), 26.555555555555557)]),\n",
       " ('SAC',\n",
       "  [(('Rudy Gay', 30), 26.4375),\n",
       "   (('Tyreke Evans', 27), 26.4375),\n",
       "   (('Ty Lawson', 29), 26.4375),\n",
       "   (('Darren Collison', 29), 26.4375),\n",
       "   (('Kosta Koufos', 28), 26.4375),\n",
       "   (('Jordan Farmar', 30), 26.4375),\n",
       "   (('Anthony Tolliver', 32), 26.4375),\n",
       "   (('Garrett Temple', 31), 26.4375),\n",
       "   (('Arron Afflalo', 31), 26.4375)])]"
      ]
     },
     "execution_count": 18,
     "metadata": {},
     "output_type": "execute_result"
    }
   ],
   "source": [
    "nba_by_age.join(teams_avg_age).filter(lambda x: x[1][0][1] > x[1][1]).groupByKey()\\\n",
    "          .map(lambda x: (x[0], list(x[1]))).collect()\n"
   ]
  },
  {
   "cell_type": "markdown",
   "metadata": {
    "colab_type": "text",
    "id": "mZ_zVJlzsf9E"
   },
   "source": [
    "6. Obtener el top 10 de jugadores en base al puntaje de popularidad calculado como: GP * 5 + W * 10 + TWITTER_FAVORITE_COUNT / 2 + TWITTER_RETWEET_COUNT"
   ]
  },
  {
   "cell_type": "code",
   "execution_count": 19,
   "metadata": {
    "colab": {
     "base_uri": "https://localhost:8080/",
     "height": 54
    },
    "colab_type": "code",
    "id": "6GwBw24Cr_yU",
    "outputId": "63851085-6a54-44ce-f53c-e347c97cd821"
   },
   "outputs": [
    {
     "data": {
      "text/plain": [
       "[Row(PLAYER='Russell Westbrook', TEAM='OKC', AGE='28', GP='81', W='46', L='35', MIN='34.6', OFFRTG='107.9', DEFRTG='104.6', NETRTG='3.3', AST%='54.3', AST/TO='1.92', AST RATIO='23.4', OREB%='5.3', DREB%='27.9', REB%='16.7', TO RATIO='12.2', EFG%='47.6', TS%='55.4', USG%='40.8', PACE='102.31', PIE='23')]"
      ]
     },
     "execution_count": 19,
     "metadata": {},
     "output_type": "execute_result"
    }
   ],
   "source": [
    "nba.take(1)"
   ]
  },
  {
   "cell_type": "code",
   "execution_count": 20,
   "metadata": {
    "colab": {
     "base_uri": "https://localhost:8080/",
     "height": 34
    },
    "colab_type": "code",
    "id": "mQZH7h1nsqvt",
    "outputId": "b8b0327c-de7c-449e-f087-6f8557928c84"
   },
   "outputs": [
    {
     "data": {
      "text/plain": [
       "[Row(PLAYER='Russell Westbrook', TWITTER_FAVORITE_COUNT='2130.5', TWITTER_RETWEET_COUNT='559')]"
      ]
     },
     "execution_count": 20,
     "metadata": {},
     "output_type": "execute_result"
    }
   ],
   "source": [
    "twitter.take(1)"
   ]
  },
  {
   "cell_type": "code",
   "execution_count": 21,
   "metadata": {
    "colab": {},
    "colab_type": "code",
    "id": "XySON-nLsxU7"
   },
   "outputs": [],
   "source": [
    "players = nba.map(lambda x: (x.PLAYER, (float(x.GP), float(x.W), x.TEAM))).cache() #Team lo voy a necesitar para 8"
   ]
  },
  {
   "cell_type": "code",
   "execution_count": 22,
   "metadata": {
    "colab": {},
    "colab_type": "code",
    "id": "hb96F2O4tMGk"
   },
   "outputs": [],
   "source": [
    "twitter_by_player = twitter.filter(lambda x: x.TWITTER_FAVORITE_COUNT is not None and x.TWITTER_RETWEET_COUNT is not None)\\\n",
    "                            .map(lambda x: (x.PLAYER, (float(x.TWITTER_FAVORITE_COUNT), float(x.TWITTER_RETWEET_COUNT))))"
   ]
  },
  {
   "cell_type": "code",
   "execution_count": 23,
   "metadata": {
    "colab": {
     "base_uri": "https://localhost:8080/",
     "height": 102
    },
    "colab_type": "code",
    "id": "cMRVbaWztnQK",
    "outputId": "a8c71d84-26ee-4c2d-cb93-5e02cb5a3201"
   },
   "outputs": [
    {
     "data": {
      "text/plain": [
       "[('Boban Marjanovic', ((35.0, 16.0, 'DET'), None)),\n",
       " ('Anthony Davis', ((75.0, 31.0, 'NOP'), (368.0, 104.0))),\n",
       " ('James Harden', ((81.0, 54.0, 'HOU'), (969.0, 321.5))),\n",
       " ('Kevin Durant', ((62.0, 51.0, 'GSW'), (1425.5, 366.0))),\n",
       " ('Chris Paul', ((61.0, 43.0, 'LAC'), (829.0, 178.5)))]"
      ]
     },
     "execution_count": 23,
     "metadata": {},
     "output_type": "execute_result"
    }
   ],
   "source": [
    "twitter_players = players.leftOuterJoin(twitter_by_player)\n",
    "twitter_players.take(5)"
   ]
  },
  {
   "cell_type": "code",
   "execution_count": 24,
   "metadata": {
    "colab": {
     "base_uri": "https://localhost:8080/",
     "height": 34
    },
    "colab_type": "code",
    "id": "si1f5Islwl3o",
    "outputId": "93673c4b-e17c-4603-85a8-a1bab2af8414"
   },
   "outputs": [
    {
     "data": {
      "text/plain": [
       "('DET', 'Boban Marjanovic', 335.0)"
      ]
     },
     "execution_count": 24,
     "metadata": {},
     "output_type": "execute_result"
    }
   ],
   "source": [
    "popularity = twitter_players.map(lambda x: (x[1][0][2], x[0], x[1][0][0] * 5 + x[1][0][1] * 10 + (0 if x[1][1] is None else x[1][1][0] / 2 + x[1][1][1])))\n",
    "popularity.first()"
   ]
  },
  {
   "cell_type": "code",
   "execution_count": 25,
   "metadata": {
    "colab": {
     "base_uri": "https://localhost:8080/",
     "height": 187
    },
    "colab_type": "code",
    "id": "79BvlEei6aWN",
    "outputId": "afa9e002-0403-425e-a810-2f89056a8267"
   },
   "outputs": [
    {
     "data": {
      "text/plain": [
       "[('GSW', 'Stephen Curry', 10077.0),\n",
       " ('PHI', 'Joel Embiid', 6652.25),\n",
       " ('CLE', 'LeBron James', 5148.25),\n",
       " ('NYK', 'Derrick Rose', 4016.5),\n",
       " ('SAS', 'Kawhi Leonard', 2977.25),\n",
       " ('OKC', 'Russell Westbrook', 2489.25),\n",
       " ('CLE', 'Kyrie Irving', 2295.5),\n",
       " ('GSW', 'Kevin Durant', 1898.75),\n",
       " ('DAL', 'Dirk Nowitzki', 1782.5),\n",
       " ('HOU', 'James Harden', 1751.0)]"
      ]
     },
     "execution_count": 25,
     "metadata": {},
     "output_type": "execute_result"
    }
   ],
   "source": [
    "popularity.takeOrdered(10, lambda x: -x[2])"
   ]
  },
  {
   "cell_type": "markdown",
   "metadata": {
    "colab_type": "text",
    "id": "68DwJZWKzvwv"
   },
   "source": [
    "7. Calcular el promedio del puntaje de popularidad general teniendo en cuenta a todos los jugadores."
   ]
  },
  {
   "cell_type": "code",
   "execution_count": 26,
   "metadata": {
    "colab": {},
    "colab_type": "code",
    "id": "RMIEw_tr0AaX"
   },
   "outputs": [],
   "source": [
    "total_pop = popularity.map(lambda x: x[2]).reduce(lambda x, y: x + y)"
   ]
  },
  {
   "cell_type": "code",
   "execution_count": 27,
   "metadata": {
    "colab": {
     "base_uri": "https://localhost:8080/",
     "height": 34
    },
    "colab_type": "code",
    "id": "S-DPTrNu0AdJ",
    "outputId": "f1df8d01-5615-439e-a4c4-9b3869632964"
   },
   "outputs": [
    {
     "data": {
      "text/plain": [
       "486"
      ]
     },
     "execution_count": 27,
     "metadata": {},
     "output_type": "execute_result"
    }
   ],
   "source": [
    "count"
   ]
  },
  {
   "cell_type": "code",
   "execution_count": 28,
   "metadata": {
    "colab": {
     "base_uri": "https://localhost:8080/",
     "height": 34
    },
    "colab_type": "code",
    "id": "VMjvLMAs0Afi",
    "outputId": "98316a4d-5f69-4388-e9b9-83a901abce0e"
   },
   "outputs": [
    {
     "data": {
      "text/plain": [
       "646.645061728395"
      ]
     },
     "execution_count": 28,
     "metadata": {},
     "output_type": "execute_result"
    }
   ],
   "source": [
    "pop_avg = total_pop / count\n",
    "pop_avg"
   ]
  },
  {
   "cell_type": "markdown",
   "metadata": {
    "colab_type": "text",
    "id": "YJJ6Igck256I"
   },
   "source": [
    "8. Calcular el promedio del puntaje de popularidad para cada equipo."
   ]
  },
  {
   "cell_type": "code",
   "execution_count": 29,
   "metadata": {
    "colab": {
     "base_uri": "https://localhost:8080/",
     "height": 527
    },
    "colab_type": "code",
    "id": "aRjq5FZo0Ah8",
    "outputId": "64d872a1-ee70-45e7-cc1c-ca7562de3770"
   },
   "outputs": [
    {
     "data": {
      "text/plain": [
       "[('DET', 551.3166666666667),\n",
       " ('HOU', 701.5),\n",
       " ('GSW', 1553.21875),\n",
       " ('MIL', 586.3235294117648),\n",
       " ('SAS', 959.546875),\n",
       " ('MIN', 533.8666666666667),\n",
       " ('DEN', 530.0735294117648),\n",
       " ('CHI', 613.953125),\n",
       " ('UTA', 736.3666666666667),\n",
       " ('BOS', 732.15),\n",
       " ('ATL', 543.8611111111111),\n",
       " ('ORL', 458.0),\n",
       " ('TOR', 685.21875),\n",
       " ('PHX', 434.52941176470586),\n",
       " ('CHA', 469.0),\n",
       " ('POR', 636.8035714285714),\n",
       " ('NYK', 795.0666666666667),\n",
       " ('LAL', 529.203125),\n",
       " ('NOP', 412.8382352941176),\n",
       " ('LAC', 744.45),\n",
       " ('PHI', 818.921875),\n",
       " ('MIA', 593.4464285714286),\n",
       " ('OKC', 771.5),\n",
       " ('MEM', 572.6875),\n",
       " ('CLE', 889.2894736842105),\n",
       " ('DAL', 506.80263157894734),\n",
       " ('BKN', 436.5833333333333),\n",
       " ('WAS', 602.4558823529412),\n",
       " ('IND', 601.046875),\n",
       " ('SAC', 512.21875)]"
      ]
     },
     "execution_count": 29,
     "metadata": {},
     "output_type": "execute_result"
    }
   ],
   "source": [
    "popularity.map(lambda x: (x[0], (x[2], 1))).reduceByKey(lambda x, y: (x[0] + y[0], x[1] + y[1]))\\\n",
    "          .map(lambda x: (x[0], x[1][0] / x[1][1])).collect()"
   ]
  },
  {
   "cell_type": "markdown",
   "metadata": {
    "colab_type": "text",
    "id": "jQjhaCzi7wMw"
   },
   "source": [
    "9. Calcular para cada equipo cuantos jugadores superan el promedio de popularidad general (calculado en el punto 7)."
   ]
  },
  {
   "cell_type": "code",
   "execution_count": 30,
   "metadata": {
    "colab": {
     "base_uri": "https://localhost:8080/",
     "height": 527
    },
    "colab_type": "code",
    "id": "fqpVNVoa0Anz",
    "outputId": "04a6b13c-a8d3-479e-cff4-f5630445a115"
   },
   "outputs": [
    {
     "data": {
      "text/plain": [
       "[('DET', 8),\n",
       " ('HOU', 10),\n",
       " ('GSW', 14),\n",
       " ('MIL', 8),\n",
       " ('SAS', 12),\n",
       " ('MIN', 6),\n",
       " ('DEN', 5),\n",
       " ('CHI', 8),\n",
       " ('UTA', 8),\n",
       " ('BOS', 9),\n",
       " ('ATL', 9),\n",
       " ('ORL', 8),\n",
       " ('TOR', 10),\n",
       " ('PHX', 2),\n",
       " ('CHA', 7),\n",
       " ('POR', 10),\n",
       " ('NYK', 7),\n",
       " ('LAL', 5),\n",
       " ('NOP', 5),\n",
       " ('LAC', 10),\n",
       " ('PHI', 5),\n",
       " ('MIA', 8),\n",
       " ('OKC', 11),\n",
       " ('MEM', 8),\n",
       " ('CLE', 8),\n",
       " ('DAL', 8),\n",
       " ('BKN', 1),\n",
       " ('WAS', 9),\n",
       " ('IND', 9),\n",
       " ('SAC', 5)]"
      ]
     },
     "execution_count": 30,
     "metadata": {},
     "output_type": "execute_result"
    }
   ],
   "source": [
    "popularity.map(lambda x: (x[0], 1 if x[2] > pop_avg else 0)).reduceByKey(lambda x, y: x + y).take(count)"
   ]
  },
  {
   "cell_type": "markdown",
   "metadata": {
    "colab_type": "text",
    "id": "NWkigfB4_Gkf"
   },
   "source": [
    "10. Para cada jugador obtener el porcentaje de partidos ganados sobre partidos jugados. Calcular el promedio para cada equipo, teniendo en cuenta solo a los jugadores que hayan jugado al menos el 20% de los juegos del promedio de juegos jugados para los compañeros de su equipo. Obtener los 5 jugadores que poseen los promedios más superiores con relación al promedio de su equipo (si el promedio del equipo es 0,70 y el valor para el jugador es 0,82, el número a tener en cuenta es (0,82-0,70)/0,70)."
   ]
  },
  {
   "cell_type": "code",
   "execution_count": 31,
   "metadata": {
    "colab": {
     "base_uri": "https://localhost:8080/",
     "height": 54
    },
    "colab_type": "code",
    "id": "4_A1TMK40AqG",
    "outputId": "3d158bcf-7608-437d-bb34-7601afced5e6"
   },
   "outputs": [
    {
     "data": {
      "text/plain": [
       "[Row(PLAYER='Russell Westbrook', TEAM='OKC', AGE='28', GP='81', W='46', L='35', MIN='34.6', OFFRTG='107.9', DEFRTG='104.6', NETRTG='3.3', AST%='54.3', AST/TO='1.92', AST RATIO='23.4', OREB%='5.3', DREB%='27.9', REB%='16.7', TO RATIO='12.2', EFG%='47.6', TS%='55.4', USG%='40.8', PACE='102.31', PIE='23')]"
      ]
     },
     "execution_count": 31,
     "metadata": {},
     "output_type": "execute_result"
    }
   ],
   "source": [
    "nba.take(1)"
   ]
  },
  {
   "cell_type": "code",
   "execution_count": 32,
   "metadata": {
    "colab": {
     "base_uri": "https://localhost:8080/",
     "height": 102
    },
    "colab_type": "code",
    "id": "T1KHeDPc_PIb",
    "outputId": "532cf904-7762-41ae-fe90-af8a14cb000b"
   },
   "outputs": [
    {
     "data": {
      "text/plain": [
       "[('OKC', ('Russell Westbrook', 56.79012345679012)),\n",
       " ('DET', ('Boban Marjanovic', 45.714285714285715)),\n",
       " ('BOS', ('Demetrius Jackson', 20.0)),\n",
       " ('NOP', ('Anthony Davis', 41.333333333333336)),\n",
       " ('HOU', ('James Harden', 66.66666666666666))]"
      ]
     },
     "execution_count": 32,
     "metadata": {},
     "output_type": "execute_result"
    }
   ],
   "source": [
    "nba.map(lambda x: (x.TEAM, (x.PLAYER, int(x.W) / int(x.GP) * 100))).take(5)"
   ]
  }
 ],
 "metadata": {
  "colab": {
   "collapsed_sections": [],
   "name": "Clase 8 - Ejercicio NBA",
   "provenance": []
  },
  "kernelspec": {
   "display_name": "Python 3",
   "language": "python",
   "name": "python3"
  },
  "language_info": {
   "codemirror_mode": {
    "name": "ipython",
    "version": 3
   },
   "file_extension": ".py",
   "mimetype": "text/x-python",
   "name": "python",
   "nbconvert_exporter": "python",
   "pygments_lexer": "ipython3",
   "version": "3.7.7"
  }
 },
 "nbformat": 4,
 "nbformat_minor": 1
}
