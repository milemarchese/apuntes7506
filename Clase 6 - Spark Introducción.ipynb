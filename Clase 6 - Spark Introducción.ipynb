{
 "cells": [
  {
   "cell_type": "markdown",
   "metadata": {},
   "source": [
    "## Spark ##\n",
    "\n",
    "* Procesamiento distruibuido de datos de grandes volúmenes utilizando un cluster.\n",
    "\n",
    "__Cluster:__ Conjunto de computadoras que trabajan juntas y pueden ser vistas como un sistema único. Cada computadora del cluster en un nodo.\n",
    "\n",
    "* Almacenamiento distribuido:\n",
    "\n",
    "__FileSystem distribuido:__ Se encarga de gestionar cómo y donde guardar información en una computadora, y cómo poder consultarla. Almacena grandes volúmenes de datos es varios equipos, replica datos, tolerante a fallos, alta disponibilidad, relativo bajo costo.\n",
    "\n",
    "__RDD:__  Resilient distributed dataset, which is a fault-tolerant collection of elements that can be operated on in parallel.\n",
    "\n",
    "<https://spark.apache.org/docs/latest/rdd-programming-guide.html>\n",
    "\n",
    "### Map-Reduce ###\n",
    "\n",
    "* Se especifica una función map que procesa un par clave/valor para generar un conjunto intermedio de pares clave/valor.\n",
    "* Se especifica una función reduce que combina todos los valores asociados a la misma clave. Deben ser conmutativas y asociativas.\n",
    "\n",
    "__Shuffle & Sort:__ Mueve la salida de un preoceso map a un cierto equipo de tal forma que el un reducer pueda procesar registro.\n"
   ]
  },
  {
   "cell_type": "code",
   "execution_count": 2,
   "metadata": {},
   "outputs": [],
   "source": [
    "import findspark\n",
    "findspark.init()\n",
    "import pyspark\n",
    "\n",
    "from pyspark.sql import *\n",
    "from pyspark.sql.functions import *\n",
    "from pyspark import SparkContext\n",
    "from pyspark.sql import SQLContext\n",
    "import pandas as pd"
   ]
  },
  {
   "cell_type": "code",
   "execution_count": 3,
   "metadata": {
    "collapsed": true
   },
   "outputs": [],
   "source": [
    "#create the Spark Session\n",
    "spark = SparkSession.builder.getOrCreate()\n",
    "#create the Spark Context\n",
    "sc = spark.sparkContext"
   ]
  },
  {
   "cell_type": "markdown",
   "metadata": {},
   "source": [
    "#### Paralelizar una colección ####"
   ]
  },
  {
   "cell_type": "code",
   "execution_count": 121,
   "metadata": {},
   "outputs": [
    {
     "data": {
      "text/plain": [
       "1000"
      ]
     },
     "execution_count": 121,
     "metadata": {},
     "output_type": "execute_result"
    }
   ],
   "source": [
    "#1000 enteros en una lista\n",
    "integers = range(1,1001)\n",
    "len(integers)"
   ]
  },
  {
   "cell_type": "code",
   "execution_count": 122,
   "metadata": {},
   "outputs": [
    {
     "data": {
      "text/plain": [
       "pyspark.rdd.PipelinedRDD"
      ]
     },
     "execution_count": 122,
     "metadata": {},
     "output_type": "execute_result"
    }
   ],
   "source": [
    "#Paralelizamos la coleccion utilizando 8 particiones o slices\n",
    "#Esta operacion es una transformacion de datos en un RDD\n",
    "#Dado que Spark usa lazy evaluation, no corren jobs de Spark hasta el momento\n",
    "integers_rdd = sc.parallelize(integers, 8)\n",
    "type(integers_rdd)"
   ]
  },
  {
   "cell_type": "code",
   "execution_count": 6,
   "metadata": {},
   "outputs": [
    {
     "data": {
      "text/plain": [
       "8"
      ]
     },
     "execution_count": 6,
     "metadata": {},
     "output_type": "execute_result"
    }
   ],
   "source": [
    "#Número de particiones\n",
    "integers_rdd.getNumPartitions()"
   ]
  },
  {
   "cell_type": "code",
   "execution_count": 7,
   "metadata": {},
   "outputs": [
    {
     "data": {
      "text/plain": [
       "b'(8) PythonRDD[1] at RDD at PythonRDD.scala:48 []\\n |  ParallelCollectionRDD[0] at parallelize at PythonRDD.scala:475 []'"
      ]
     },
     "execution_count": 7,
     "metadata": {},
     "output_type": "execute_result"
    }
   ],
   "source": [
    "#Conjunto de transformaciones que se aplica\n",
    "integers_rdd.toDebugString()"
   ]
  },
  {
   "cell_type": "code",
   "execution_count": 119,
   "metadata": {},
   "outputs": [],
   "source": [
    "#Métodos disponibles \n",
    "#help(integers_rdd)"
   ]
  },
  {
   "cell_type": "code",
   "execution_count": 9,
   "metadata": {},
   "outputs": [
    {
     "data": {
      "text/plain": [
       "[1, 2, 3, 4, 5]"
      ]
     },
     "execution_count": 9,
     "metadata": {},
     "output_type": "execute_result"
    }
   ],
   "source": [
    "#Primeros 5 registros\n",
    "integers_rdd.take(5)"
   ]
  },
  {
   "cell_type": "code",
   "execution_count": 10,
   "metadata": {},
   "outputs": [
    {
     "data": {
      "text/plain": [
       "1000"
      ]
     },
     "execution_count": 10,
     "metadata": {},
     "output_type": "execute_result"
    }
   ],
   "source": [
    "#Cantidad de elementos\n",
    "integers_rdd.count()"
   ]
  },
  {
   "cell_type": "markdown",
   "metadata": {},
   "source": [
    "#### Acciones ####\n",
    "\n",
    "* Count"
   ]
  },
  {
   "cell_type": "code",
   "execution_count": 11,
   "metadata": {},
   "outputs": [
    {
     "data": {
      "text/plain": [
       "1000"
      ]
     },
     "execution_count": 11,
     "metadata": {},
     "output_type": "execute_result"
    }
   ],
   "source": [
    "integers_rdd.count()"
   ]
  },
  {
   "cell_type": "markdown",
   "metadata": {
    "collapsed": true
   },
   "source": [
    "* Take"
   ]
  },
  {
   "cell_type": "code",
   "execution_count": 12,
   "metadata": {},
   "outputs": [
    {
     "data": {
      "text/plain": [
       "[1, 2, 3, 4, 5]"
      ]
     },
     "execution_count": 12,
     "metadata": {},
     "output_type": "execute_result"
    }
   ],
   "source": [
    "integers_rdd.take(5)"
   ]
  },
  {
   "cell_type": "markdown",
   "metadata": {},
   "source": [
    "* Collect\n",
    "\n",
    "Trae todos los registros de un rdd. No recomendado ya que puede sobrecargar el driver."
   ]
  },
  {
   "cell_type": "code",
   "execution_count": 118,
   "metadata": {},
   "outputs": [],
   "source": [
    "#integers_rdd.collect()"
   ]
  },
  {
   "cell_type": "markdown",
   "metadata": {},
   "source": [
    "* First"
   ]
  },
  {
   "cell_type": "code",
   "execution_count": 14,
   "metadata": {},
   "outputs": [
    {
     "data": {
      "text/plain": [
       "1"
      ]
     },
     "execution_count": 14,
     "metadata": {},
     "output_type": "execute_result"
    }
   ],
   "source": [
    "integers_rdd.first()"
   ]
  },
  {
   "cell_type": "markdown",
   "metadata": {},
   "source": [
    "* TakeOrdered\n",
    "\n",
    "Primeros n registros en un orden indicado."
   ]
  },
  {
   "cell_type": "code",
   "execution_count": 15,
   "metadata": {},
   "outputs": [
    {
     "data": {
      "text/plain": [
       "[1000, 999, 998, 997, 996]"
      ]
     },
     "execution_count": 15,
     "metadata": {},
     "output_type": "execute_result"
    }
   ],
   "source": [
    "integers_rdd.takeOrdered(5, key=lambda x: -x)"
   ]
  },
  {
   "cell_type": "markdown",
   "metadata": {},
   "source": [
    "* TakeSample\n",
    "\n",
    "Muestra de n registros aleatorios con o si reemplazo."
   ]
  },
  {
   "cell_type": "code",
   "execution_count": 16,
   "metadata": {},
   "outputs": [
    {
     "data": {
      "text/plain": [
       "[115, 17, 667, 430, 363]"
      ]
     },
     "execution_count": 16,
     "metadata": {},
     "output_type": "execute_result"
    }
   ],
   "source": [
    "integers_rdd.takeSample(False, 5)"
   ]
  },
  {
   "cell_type": "markdown",
   "metadata": {},
   "source": [
    "* Reduce\n",
    "\n",
    "Obtiene un solo registro combinando el resultado en base a una función:"
   ]
  },
  {
   "cell_type": "code",
   "execution_count": 17,
   "metadata": {},
   "outputs": [
    {
     "data": {
      "text/plain": [
       "500500"
      ]
     },
     "execution_count": 17,
     "metadata": {},
     "output_type": "execute_result"
    }
   ],
   "source": [
    "#Suma de todos los elementos\n",
    "integers_rdd.reduce(lambda a, b: a + b)"
   ]
  },
  {
   "cell_type": "code",
   "execution_count": 18,
   "metadata": {},
   "outputs": [
    {
     "data": {
      "text/plain": [
       "1000"
      ]
     },
     "execution_count": 18,
     "metadata": {},
     "output_type": "execute_result"
    }
   ],
   "source": [
    "#Máximo\n",
    "integers_rdd.reduce(lambda a, b: a if a > b else b)"
   ]
  },
  {
   "cell_type": "markdown",
   "metadata": {},
   "source": [
    "* CountByKey\n",
    "\n",
    "Cuenta ocurrencias por cada clave.\n",
    "\n",
    "En Spark para que un registro sea considerado con clave debe se una tupla de unicamente dos elementos. El primer elemento es la key y el segundo el valor. A su vez, la key y el valor pueden estar compuestos por tuplas."
   ]
  },
  {
   "cell_type": "code",
   "execution_count": 19,
   "metadata": {},
   "outputs": [
    {
     "data": {
      "text/plain": [
       "defaultdict(int, {0: 500, 1: 500})"
      ]
     },
     "execution_count": 19,
     "metadata": {},
     "output_type": "execute_result"
    }
   ],
   "source": [
    "integers_rdd.map(lambda x: (x % 2, 1)).countByKey()"
   ]
  },
  {
   "cell_type": "markdown",
   "metadata": {},
   "source": [
    "#### Transformaciones ####\n",
    "\n",
    "* Map\n",
    "\n",
    "Transforma cada registro en base a la función dada."
   ]
  },
  {
   "cell_type": "code",
   "execution_count": 20,
   "metadata": {},
   "outputs": [
    {
     "data": {
      "text/plain": [
       "[2, 4, 6, 8, 10]"
      ]
     },
     "execution_count": 20,
     "metadata": {},
     "output_type": "execute_result"
    }
   ],
   "source": [
    "integers_rdd.map(lambda x: x * 2).take(5)"
   ]
  },
  {
   "cell_type": "code",
   "execution_count": 21,
   "metadata": {},
   "outputs": [
    {
     "data": {
      "text/plain": [
       "[(1, 1), (0, 2), (1, 3), (0, 4), (1, 5)]"
      ]
     },
     "execution_count": 21,
     "metadata": {},
     "output_type": "execute_result"
    }
   ],
   "source": [
    "integers_rdd.map(lambda x: (x % 2, x)).take(5)"
   ]
  },
  {
   "cell_type": "markdown",
   "metadata": {},
   "source": [
    "* Filter"
   ]
  },
  {
   "cell_type": "code",
   "execution_count": 22,
   "metadata": {},
   "outputs": [
    {
     "data": {
      "text/plain": [
       "[2, 4, 6, 8, 10]"
      ]
     },
     "execution_count": 22,
     "metadata": {},
     "output_type": "execute_result"
    }
   ],
   "source": [
    "integers_rdd.filter(lambda x: x % 2 == 0).take(5)"
   ]
  },
  {
   "cell_type": "code",
   "execution_count": 23,
   "metadata": {},
   "outputs": [
    {
     "data": {
      "text/plain": [
       "500"
      ]
     },
     "execution_count": 23,
     "metadata": {},
     "output_type": "execute_result"
    }
   ],
   "source": [
    "integers_rdd.filter(lambda x: x % 2 == 0).count()"
   ]
  },
  {
   "cell_type": "markdown",
   "metadata": {},
   "source": [
    "* FlatMap\n",
    "\n",
    "Por cada registro puede generar 0 o mas registros."
   ]
  },
  {
   "cell_type": "code",
   "execution_count": 24,
   "metadata": {},
   "outputs": [
    {
     "data": {
      "text/plain": [
       "3000"
      ]
     },
     "execution_count": 24,
     "metadata": {},
     "output_type": "execute_result"
    }
   ],
   "source": [
    "integers_flat = integers_rdd.flatMap(lambda x: [(x), (x - 1), (x + 1)])\n",
    "integers_flat.count()"
   ]
  },
  {
   "cell_type": "code",
   "execution_count": 25,
   "metadata": {},
   "outputs": [
    {
     "data": {
      "text/plain": [
       "[1, 0, 2, 2, 1, 3, 3, 2, 4, 4, 3, 5, 5, 4, 6, 6, 5, 7, 7, 6]"
      ]
     },
     "execution_count": 25,
     "metadata": {},
     "output_type": "execute_result"
    }
   ],
   "source": [
    "integers_flat.take(20)"
   ]
  },
  {
   "cell_type": "markdown",
   "metadata": {},
   "source": [
    "* ReduceByKey\n",
    "\n",
    "Combina los registros para una misma clave en base a una función de reduce.\n",
    "\n",
    "La función de reduce debe ser conmutativa y asociativa."
   ]
  },
  {
   "cell_type": "code",
   "execution_count": 26,
   "metadata": {},
   "outputs": [
    {
     "data": {
      "text/plain": [
       "1002"
      ]
     },
     "execution_count": 26,
     "metadata": {},
     "output_type": "execute_result"
    }
   ],
   "source": [
    "integers_flat.map(lambda x: (x, 1)).reduceByKey(lambda a, b: a + b).count()"
   ]
  },
  {
   "cell_type": "code",
   "execution_count": 30,
   "metadata": {},
   "outputs": [
    {
     "data": {
      "text/plain": [
       "[(0, 1), (256, 3), (912, 3), (520, 3), (648, 3)]"
      ]
     },
     "execution_count": 30,
     "metadata": {},
     "output_type": "execute_result"
    }
   ],
   "source": [
    "integers_flat.map(lambda x: (x, 1)).reduceByKey(lambda a, b: a + b).take(5)"
   ]
  },
  {
   "cell_type": "code",
   "execution_count": 31,
   "metadata": {},
   "outputs": [
    {
     "data": {
      "text/plain": [
       "(1001, 1)"
      ]
     },
     "execution_count": 31,
     "metadata": {},
     "output_type": "execute_result"
    }
   ],
   "source": [
    "integers_flat.map(lambda x: (x, 1)).reduceByKey(lambda a, b: a + b).reduce(lambda a, b: a if a > b else b)"
   ]
  },
  {
   "cell_type": "markdown",
   "metadata": {},
   "source": [
    "* GroupByKey\n",
    "\n",
    "Agrupa los registros para cada clave. Es similar a reduceByKey pero con groupByKey se obtiene todos los registros para cada clave.\n",
    "\n",
    "Solo se debe utilizar si es necesario la información de cada registro y la cantidad de registros por clave no es demasiado grande.\n",
    "\n",
    "GroupByKey es una transformación costosa.\n",
    "\n",
    "Si se desea realizar una agregación, usar reduceByKey. Usar groupByKey para hacer una agregación esta MAL.\n"
   ]
  },
  {
   "cell_type": "code",
   "execution_count": 120,
   "metadata": {},
   "outputs": [],
   "source": [
    "integers_rdd.map(lambda x: (x % 2, x)).groupByKey().map(lambda x: (x[0], list(x[1]))).take(20)"
   ]
  },
  {
   "cell_type": "markdown",
   "metadata": {},
   "source": [
    "* Distinct\n",
    "\n",
    "Elimina registros duplicados."
   ]
  },
  {
   "cell_type": "code",
   "execution_count": 34,
   "metadata": {},
   "outputs": [
    {
     "data": {
      "text/plain": [
       "3000"
      ]
     },
     "execution_count": 34,
     "metadata": {},
     "output_type": "execute_result"
    }
   ],
   "source": [
    "integers_flat.count()"
   ]
  },
  {
   "cell_type": "code",
   "execution_count": 35,
   "metadata": {},
   "outputs": [
    {
     "data": {
      "text/plain": [
       "1002"
      ]
     },
     "execution_count": 35,
     "metadata": {},
     "output_type": "execute_result"
    }
   ],
   "source": [
    "integers_flat.distinct().count()"
   ]
  },
  {
   "cell_type": "markdown",
   "metadata": {},
   "source": [
    "#### Transformaciones ####\n",
    "\n",
    "* Union"
   ]
  },
  {
   "cell_type": "code",
   "execution_count": 36,
   "metadata": {},
   "outputs": [
    {
     "data": {
      "text/plain": [
       "1000"
      ]
     },
     "execution_count": 36,
     "metadata": {},
     "output_type": "execute_result"
    }
   ],
   "source": [
    "integers_2 = range(501, 1501)\n",
    "len(integers_2)"
   ]
  },
  {
   "cell_type": "code",
   "execution_count": 37,
   "metadata": {
    "collapsed": true
   },
   "outputs": [],
   "source": [
    "integers_rdd_2 = sc.parallelize(integers_2)"
   ]
  },
  {
   "cell_type": "code",
   "execution_count": 38,
   "metadata": {},
   "outputs": [
    {
     "data": {
      "text/plain": [
       "1000"
      ]
     },
     "execution_count": 38,
     "metadata": {},
     "output_type": "execute_result"
    }
   ],
   "source": [
    "integers_rdd_2.count()"
   ]
  },
  {
   "cell_type": "code",
   "execution_count": 39,
   "metadata": {},
   "outputs": [
    {
     "data": {
      "text/plain": [
       "1000"
      ]
     },
     "execution_count": 39,
     "metadata": {},
     "output_type": "execute_result"
    }
   ],
   "source": [
    "integers_rdd.count()"
   ]
  },
  {
   "cell_type": "code",
   "execution_count": 40,
   "metadata": {
    "collapsed": true
   },
   "outputs": [],
   "source": [
    "union = integers_rdd.union(integers_rdd_2)"
   ]
  },
  {
   "cell_type": "code",
   "execution_count": 41,
   "metadata": {},
   "outputs": [
    {
     "data": {
      "text/plain": [
       "[1, 2, 3, 4, 5]"
      ]
     },
     "execution_count": 41,
     "metadata": {},
     "output_type": "execute_result"
    }
   ],
   "source": [
    "union.take(5)"
   ]
  },
  {
   "cell_type": "code",
   "execution_count": 42,
   "metadata": {},
   "outputs": [
    {
     "data": {
      "text/plain": [
       "2000"
      ]
     },
     "execution_count": 42,
     "metadata": {},
     "output_type": "execute_result"
    }
   ],
   "source": [
    "union.count()"
   ]
  },
  {
   "cell_type": "markdown",
   "metadata": {},
   "source": [
    "* Intersection"
   ]
  },
  {
   "cell_type": "code",
   "execution_count": 43,
   "metadata": {
    "collapsed": true
   },
   "outputs": [],
   "source": [
    "intersection = integers_rdd.intersection(integers_rdd_2)"
   ]
  },
  {
   "cell_type": "code",
   "execution_count": 45,
   "metadata": {},
   "outputs": [
    {
     "data": {
      "text/plain": [
       "500"
      ]
     },
     "execution_count": 45,
     "metadata": {},
     "output_type": "execute_result"
    }
   ],
   "source": [
    "intersection.count()"
   ]
  },
  {
   "cell_type": "code",
   "execution_count": 47,
   "metadata": {},
   "outputs": [
    {
     "data": {
      "text/plain": [
       "[501, 502, 503, 504, 505, 506, 507, 508, 509, 510]"
      ]
     },
     "execution_count": 47,
     "metadata": {},
     "output_type": "execute_result"
    }
   ],
   "source": [
    "intersection.takeOrdered(10)"
   ]
  },
  {
   "cell_type": "markdown",
   "metadata": {},
   "source": [
    "* Subtract"
   ]
  },
  {
   "cell_type": "code",
   "execution_count": 48,
   "metadata": {
    "collapsed": true
   },
   "outputs": [],
   "source": [
    "subtract = integers_rdd.subtract(integers_rdd_2)"
   ]
  },
  {
   "cell_type": "code",
   "execution_count": 49,
   "metadata": {},
   "outputs": [
    {
     "data": {
      "text/plain": [
       "500"
      ]
     },
     "execution_count": 49,
     "metadata": {},
     "output_type": "execute_result"
    }
   ],
   "source": [
    "subtract.count()"
   ]
  },
  {
   "cell_type": "code",
   "execution_count": 50,
   "metadata": {},
   "outputs": [
    {
     "data": {
      "text/plain": [
       "[256,\n",
       " 384,\n",
       " 32,\n",
       " 112,\n",
       " 368,\n",
       " 480,\n",
       " 352,\n",
       " 80,\n",
       " 208,\n",
       " 96,\n",
       " 336,\n",
       " 464,\n",
       " 128,\n",
       " 448,\n",
       " 64,\n",
       " 160,\n",
       " 496,\n",
       " 48,\n",
       " 304,\n",
       " 176,\n",
       " 432,\n",
       " 192,\n",
       " 288,\n",
       " 320,\n",
       " 416,\n",
       " 224,\n",
       " 16,\n",
       " 144,\n",
       " 272,\n",
       " 240,\n",
       " 400,\n",
       " 1,\n",
       " 321,\n",
       " 257,\n",
       " 273,\n",
       " 17,\n",
       " 97,\n",
       " 177,\n",
       " 385,\n",
       " 65,\n",
       " 241,\n",
       " 369,\n",
       " 337,\n",
       " 497,\n",
       " 401,\n",
       " 225,\n",
       " 353,\n",
       " 481,\n",
       " 129,\n",
       " 81,\n",
       " 209,\n",
       " 161,\n",
       " 145,\n",
       " 113,\n",
       " 433,\n",
       " 449,\n",
       " 193,\n",
       " 49,\n",
       " 305,\n",
       " 465,\n",
       " 33,\n",
       " 289,\n",
       " 417,\n",
       " 258,\n",
       " 162,\n",
       " 2,\n",
       " 274,\n",
       " 34,\n",
       " 50,\n",
       " 402,\n",
       " 386,\n",
       " 338,\n",
       " 114,\n",
       " 242,\n",
       " 18,\n",
       " 498,\n",
       " 130,\n",
       " 98,\n",
       " 226,\n",
       " 146,\n",
       " 418,\n",
       " 82,\n",
       " 370,\n",
       " 66,\n",
       " 194,\n",
       " 354,\n",
       " 322,\n",
       " 290,\n",
       " 450,\n",
       " 210,\n",
       " 482,\n",
       " 178,\n",
       " 306,\n",
       " 466,\n",
       " 434,\n",
       " 179,\n",
       " 307,\n",
       " 435,\n",
       " 35,\n",
       " 291,\n",
       " 419,\n",
       " 259,\n",
       " 99,\n",
       " 51,\n",
       " 19,\n",
       " 147,\n",
       " 275,\n",
       " 403,\n",
       " 3,\n",
       " 323,\n",
       " 355,\n",
       " 131,\n",
       " 387,\n",
       " 115,\n",
       " 499,\n",
       " 163,\n",
       " 483,\n",
       " 371,\n",
       " 83,\n",
       " 211,\n",
       " 339,\n",
       " 467,\n",
       " 67,\n",
       " 227,\n",
       " 195,\n",
       " 451,\n",
       " 243,\n",
       " 68,\n",
       " 196,\n",
       " 388,\n",
       " 52,\n",
       " 180,\n",
       " 292,\n",
       " 308,\n",
       " 324,\n",
       " 420,\n",
       " 100,\n",
       " 20,\n",
       " 276,\n",
       " 404,\n",
       " 212,\n",
       " 4,\n",
       " 148,\n",
       " 132,\n",
       " 260,\n",
       " 164,\n",
       " 244,\n",
       " 372,\n",
       " 436,\n",
       " 116,\n",
       " 452,\n",
       " 356,\n",
       " 484,\n",
       " 36,\n",
       " 228,\n",
       " 84,\n",
       " 340,\n",
       " 468,\n",
       " 500,\n",
       " 213,\n",
       " 261,\n",
       " 341,\n",
       " 277,\n",
       " 5,\n",
       " 37,\n",
       " 453,\n",
       " 53,\n",
       " 437,\n",
       " 181,\n",
       " 69,\n",
       " 309,\n",
       " 229,\n",
       " 165,\n",
       " 101,\n",
       " 421,\n",
       " 117,\n",
       " 21,\n",
       " 149,\n",
       " 133,\n",
       " 405,\n",
       " 325,\n",
       " 389,\n",
       " 373,\n",
       " 245,\n",
       " 197,\n",
       " 469,\n",
       " 357,\n",
       " 485,\n",
       " 293,\n",
       " 85,\n",
       " 230,\n",
       " 262,\n",
       " 22,\n",
       " 358,\n",
       " 86,\n",
       " 342,\n",
       " 6,\n",
       " 294,\n",
       " 470,\n",
       " 406,\n",
       " 198,\n",
       " 326,\n",
       " 54,\n",
       " 182,\n",
       " 310,\n",
       " 438,\n",
       " 374,\n",
       " 38,\n",
       " 166,\n",
       " 278,\n",
       " 422,\n",
       " 150,\n",
       " 70,\n",
       " 134,\n",
       " 118,\n",
       " 454,\n",
       " 214,\n",
       " 390,\n",
       " 486,\n",
       " 246,\n",
       " 102,\n",
       " 375,\n",
       " 103,\n",
       " 87,\n",
       " 295,\n",
       " 263,\n",
       " 215,\n",
       " 343,\n",
       " 327,\n",
       " 455,\n",
       " 359,\n",
       " 231,\n",
       " 55,\n",
       " 183,\n",
       " 311,\n",
       " 439,\n",
       " 407,\n",
       " 39,\n",
       " 167,\n",
       " 71,\n",
       " 23,\n",
       " 151,\n",
       " 279,\n",
       " 487,\n",
       " 199,\n",
       " 471,\n",
       " 7,\n",
       " 135,\n",
       " 391,\n",
       " 423,\n",
       " 119,\n",
       " 247,\n",
       " 8,\n",
       " 88,\n",
       " 24,\n",
       " 120,\n",
       " 40,\n",
       " 360,\n",
       " 488,\n",
       " 328,\n",
       " 344,\n",
       " 472,\n",
       " 200,\n",
       " 104,\n",
       " 456,\n",
       " 392,\n",
       " 56,\n",
       " 152,\n",
       " 312,\n",
       " 440,\n",
       " 424,\n",
       " 184,\n",
       " 72,\n",
       " 296,\n",
       " 376,\n",
       " 216,\n",
       " 280,\n",
       " 408,\n",
       " 136,\n",
       " 232,\n",
       " 168,\n",
       " 248,\n",
       " 264,\n",
       " 409,\n",
       " 201,\n",
       " 265,\n",
       " 393,\n",
       " 297,\n",
       " 41,\n",
       " 9,\n",
       " 377,\n",
       " 329,\n",
       " 57,\n",
       " 233,\n",
       " 361,\n",
       " 217,\n",
       " 89,\n",
       " 105,\n",
       " 121,\n",
       " 345,\n",
       " 473,\n",
       " 137,\n",
       " 185,\n",
       " 441,\n",
       " 313,\n",
       " 457,\n",
       " 425,\n",
       " 489,\n",
       " 73,\n",
       " 25,\n",
       " 169,\n",
       " 153,\n",
       " 249,\n",
       " 281,\n",
       " 26,\n",
       " 282,\n",
       " 410,\n",
       " 58,\n",
       " 266,\n",
       " 10,\n",
       " 394,\n",
       " 74,\n",
       " 362,\n",
       " 106,\n",
       " 234,\n",
       " 490,\n",
       " 138,\n",
       " 90,\n",
       " 218,\n",
       " 346,\n",
       " 154,\n",
       " 330,\n",
       " 458,\n",
       " 202,\n",
       " 378,\n",
       " 186,\n",
       " 474,\n",
       " 314,\n",
       " 122,\n",
       " 442,\n",
       " 42,\n",
       " 170,\n",
       " 250,\n",
       " 298,\n",
       " 426,\n",
       " 299,\n",
       " 363,\n",
       " 219,\n",
       " 43,\n",
       " 155,\n",
       " 283,\n",
       " 411,\n",
       " 11,\n",
       " 75,\n",
       " 91,\n",
       " 395,\n",
       " 379,\n",
       " 171,\n",
       " 123,\n",
       " 251,\n",
       " 107,\n",
       " 139,\n",
       " 491,\n",
       " 27,\n",
       " 427,\n",
       " 267,\n",
       " 347,\n",
       " 475,\n",
       " 331,\n",
       " 203,\n",
       " 459,\n",
       " 235,\n",
       " 59,\n",
       " 187,\n",
       " 315,\n",
       " 443,\n",
       " 172,\n",
       " 60,\n",
       " 316,\n",
       " 444,\n",
       " 44,\n",
       " 300,\n",
       " 428,\n",
       " 476,\n",
       " 284,\n",
       " 412,\n",
       " 92,\n",
       " 188,\n",
       " 108,\n",
       " 12,\n",
       " 140,\n",
       " 396,\n",
       " 364,\n",
       " 124,\n",
       " 252,\n",
       " 156,\n",
       " 28,\n",
       " 268,\n",
       " 492,\n",
       " 220,\n",
       " 348,\n",
       " 204,\n",
       " 380,\n",
       " 236,\n",
       " 460,\n",
       " 76,\n",
       " 332,\n",
       " 13,\n",
       " 333,\n",
       " 45,\n",
       " 317,\n",
       " 445,\n",
       " 77,\n",
       " 269,\n",
       " 301,\n",
       " 429,\n",
       " 29,\n",
       " 109,\n",
       " 157,\n",
       " 285,\n",
       " 413,\n",
       " 381,\n",
       " 141,\n",
       " 365,\n",
       " 125,\n",
       " 397,\n",
       " 173,\n",
       " 189,\n",
       " 205,\n",
       " 461,\n",
       " 493,\n",
       " 61,\n",
       " 237,\n",
       " 93,\n",
       " 221,\n",
       " 349,\n",
       " 477,\n",
       " 253,\n",
       " 94,\n",
       " 14,\n",
       " 478,\n",
       " 30,\n",
       " 350,\n",
       " 62,\n",
       " 334,\n",
       " 190,\n",
       " 318,\n",
       " 142,\n",
       " 446,\n",
       " 46,\n",
       " 174,\n",
       " 302,\n",
       " 430,\n",
       " 382,\n",
       " 414,\n",
       " 270,\n",
       " 286,\n",
       " 398,\n",
       " 158,\n",
       " 126,\n",
       " 206,\n",
       " 462,\n",
       " 78,\n",
       " 222,\n",
       " 110,\n",
       " 238,\n",
       " 366,\n",
       " 494,\n",
       " 254,\n",
       " 111,\n",
       " 15,\n",
       " 303,\n",
       " 95,\n",
       " 47,\n",
       " 351,\n",
       " 479,\n",
       " 223,\n",
       " 239,\n",
       " 79,\n",
       " 463,\n",
       " 271,\n",
       " 63,\n",
       " 191,\n",
       " 367,\n",
       " 319,\n",
       " 447,\n",
       " 175,\n",
       " 159,\n",
       " 255,\n",
       " 431,\n",
       " 287,\n",
       " 415,\n",
       " 31,\n",
       " 143,\n",
       " 207,\n",
       " 399,\n",
       " 335,\n",
       " 127,\n",
       " 495,\n",
       " 383]"
      ]
     },
     "execution_count": 50,
     "metadata": {},
     "output_type": "execute_result"
    }
   ],
   "source": [
    "subtract.collect()"
   ]
  },
  {
   "cell_type": "markdown",
   "metadata": {},
   "source": [
    "#### Join ####\n",
    "\n",
    "Combina dos RDD en base a las claves de los registros. Junta cada registro del primer RDD con cada registro del segundo RDD con la misma clave. "
   ]
  },
  {
   "cell_type": "code",
   "execution_count": 51,
   "metadata": {
    "collapsed": true
   },
   "outputs": [],
   "source": [
    "data_alumnos = [\n",
    "  (1,'Damian'),\n",
    "  (2,'Luis'),\n",
    "  (3,'Martin'),\n",
    "  (4,'Natalia'),\n",
    "  (5,'Joaquin')\n",
    "]\n",
    "\n",
    "alumnos = sc.parallelize(data_alumnos)"
   ]
  },
  {
   "cell_type": "code",
   "execution_count": 52,
   "metadata": {},
   "outputs": [
    {
     "data": {
      "text/plain": [
       "[(1, 'Damian'), (2, 'Luis'), (3, 'Martin'), (4, 'Natalia'), (5, 'Joaquin')]"
      ]
     },
     "execution_count": 52,
     "metadata": {},
     "output_type": "execute_result"
    }
   ],
   "source": [
    "alumnos.collect()"
   ]
  },
  {
   "cell_type": "code",
   "execution_count": 53,
   "metadata": {
    "collapsed": true
   },
   "outputs": [],
   "source": [
    "data_materias_aprobadas = [\n",
    "  (1, 'Algebra'),\n",
    "  (2, 'Análisis Matemático'),\n",
    "  (200, 'Algebra'),\n",
    "  (2, 'Física')\n",
    "]\n",
    "\n",
    "materias_aprobadas = sc.parallelize(data_materias_aprobadas)"
   ]
  },
  {
   "cell_type": "code",
   "execution_count": 54,
   "metadata": {},
   "outputs": [
    {
     "data": {
      "text/plain": [
       "[(1, 'Algebra'), (2, 'Análisis Matemático'), (200, 'Algebra'), (2, 'Física')]"
      ]
     },
     "execution_count": 54,
     "metadata": {},
     "output_type": "execute_result"
    }
   ],
   "source": [
    "materias_aprobadas.collect()"
   ]
  },
  {
   "cell_type": "markdown",
   "metadata": {},
   "source": [
    "* Inner Join\n",
    "\n",
    "Cuando se llama para sets de datos del tipo (K,V) y (K,W) devuelve un set de datos del tipo (K, (V,W)) con todos los pares de elementos para cada clave que está en ambos sets simultaneamente."
   ]
  },
  {
   "cell_type": "code",
   "execution_count": 55,
   "metadata": {},
   "outputs": [
    {
     "data": {
      "text/plain": [
       "[(1, ('Damian', 'Algebra')),\n",
       " (2, ('Luis', 'Análisis Matemático')),\n",
       " (2, ('Luis', 'Física'))]"
      ]
     },
     "execution_count": 55,
     "metadata": {},
     "output_type": "execute_result"
    }
   ],
   "source": [
    "alumnos.join(materias_aprobadas).collect()"
   ]
  },
  {
   "cell_type": "markdown",
   "metadata": {},
   "source": [
    "* Left Outer Join\n",
    "\n",
    "Cuando se llama para sets de datos del tipo (K,V) y (K,W) devuelve un set de datos del tipo (K, (V,W)) asegurándonos que todos los datos del set de datos izquierdo estaran en el resultado del join."
   ]
  },
  {
   "cell_type": "code",
   "execution_count": 56,
   "metadata": {},
   "outputs": [
    {
     "data": {
      "text/plain": [
       "[(1, ('Damian', 'Algebra')),\n",
       " (2, ('Luis', 'Análisis Matemático')),\n",
       " (2, ('Luis', 'Física')),\n",
       " (3, ('Martin', None)),\n",
       " (4, ('Natalia', None)),\n",
       " (5, ('Joaquin', None))]"
      ]
     },
     "execution_count": 56,
     "metadata": {},
     "output_type": "execute_result"
    }
   ],
   "source": [
    "alumnos.leftOuterJoin(materias_aprobadas).collect()"
   ]
  },
  {
   "cell_type": "markdown",
   "metadata": {},
   "source": [
    "* Right Outer Join\n",
    "\n",
    "Cuando se llama para sets de datos del tipo (K,V) y (K,W) devuelve un set de datos del tipo (K, (V,W)) asegurándonos que todos los datos del set de datos derecho estaran en el resultado del join."
   ]
  },
  {
   "cell_type": "code",
   "execution_count": 57,
   "metadata": {},
   "outputs": [
    {
     "data": {
      "text/plain": [
       "[(1, ('Damian', 'Algebra')),\n",
       " (2, ('Luis', 'Análisis Matemático')),\n",
       " (2, ('Luis', 'Física')),\n",
       " (200, (None, 'Algebra'))]"
      ]
     },
     "execution_count": 57,
     "metadata": {},
     "output_type": "execute_result"
    }
   ],
   "source": [
    "alumnos.rightOuterJoin(materias_aprobadas).collect()"
   ]
  },
  {
   "cell_type": "markdown",
   "metadata": {},
   "source": [
    "* Outer/Full Join\n",
    "\n",
    "Cuando se llama para sets de datos del tipo (K,V) y (K,W) devuelve un set de datos del tipo (K, (V,W)) asegurándonos que todos los datos de ambos set de datos estaran aunque no haya match de keys."
   ]
  },
  {
   "cell_type": "code",
   "execution_count": 58,
   "metadata": {},
   "outputs": [
    {
     "data": {
      "text/plain": [
       "[(1, ('Damian', 'Algebra')),\n",
       " (2, ('Luis', 'Análisis Matemático')),\n",
       " (2, ('Luis', 'Física')),\n",
       " (3, ('Martin', None)),\n",
       " (4, ('Natalia', None)),\n",
       " (5, ('Joaquin', None)),\n",
       " (200, (None, 'Algebra'))]"
      ]
     },
     "execution_count": 58,
     "metadata": {},
     "output_type": "execute_result"
    }
   ],
   "source": [
    "alumnos.fullOuterJoin(materias_aprobadas).collect()"
   ]
  },
  {
   "cell_type": "markdown",
   "metadata": {},
   "source": [
    "* Broadcast Join\n",
    "\n",
    "__Variable Broadcast:__ Nos permite mantener una variable solo lectura cacheada en cada una de las maquinas del cluster en vez de enviar esa informacion con cada una de las tareas que se envian al cluster.\n",
    "Esto es particularmente util cuando cuando tareas a partir de multiples etapas (stages) necesitan la misma información o cuando cachear información de forma deserializada es importante.\n",
    "\n",
    "Tener en cuenta que esto es posible cuando uno de los data sets o conjunto de datos es lo suficientemente pequeño para ser broadcasteado a todos los nodos/workers del cluster.\n",
    "\n",
    "Cuando un valor es \"broadcasteado\" al cluster, este es copiado a los nodos/workers sólo una vez (en vez de múltiples veces si la información fuera a enviarse en cada task). De esta forma se resuelve la consulta más rapido."
   ]
  },
  {
   "cell_type": "code",
   "execution_count": 59,
   "metadata": {
    "collapsed": true
   },
   "outputs": [],
   "source": [
    "#RDD de productos por sus IDs identificando ventas de los mismos\n",
    "prods_data = [1, 11, 1, 4, 5, 11, 2, 3, 4, 5, 6, 4, 5, 4, 3, 2, 1, 11, 2, 3, 4, 5, 6, 4, 3, 2, 1, 1]\n",
    "prods = sc.parallelize(prods_data,3)"
   ]
  },
  {
   "cell_type": "code",
   "execution_count": 76,
   "metadata": {
    "collapsed": true
   },
   "outputs": [],
   "source": [
    "# Hash con los productos y sus nombres\n",
    "product_names = {1:'papas',\n",
    "                2:'cebollas',\n",
    "                3:'tomates',\n",
    "                4:'zanahorias',\n",
    "                5:'batatas',\n",
    "                6:'peras',\n",
    "                7:'cilantro',\n",
    "                8:'apio',\n",
    "                9:'morrones',\n",
    "                10:'manzanas',\n",
    "                11:'naranjas'}\n",
    "\n",
    "#Broadcast de la variable\n",
    "bproduct_names = sc.broadcast(product_names)"
   ]
  },
  {
   "cell_type": "code",
   "execution_count": 77,
   "metadata": {},
   "outputs": [
    {
     "data": {
      "text/plain": [
       "[(3, 4), (1, 5), (4, 6), (2, 4), (5, 4)]"
      ]
     },
     "execution_count": 77,
     "metadata": {},
     "output_type": "execute_result"
    }
   ],
   "source": [
    "#Productos que se vendieron más de 4 veces\n",
    "popular_prods = prods.map(lambda x: (x, 1))\\\n",
    "                .reduceByKey(lambda x, y: x + y)\\\n",
    "                .filter(lambda x: x[1] >= 4)\n",
    "        \n",
    "popular_prods.collect()"
   ]
  },
  {
   "cell_type": "markdown",
   "metadata": {},
   "source": [
    "El join se realiza de forma implícita usando un map y dentro del mismo accediendo a la información de la variable a la que se realizo el broadcast via .value"
   ]
  },
  {
   "cell_type": "code",
   "execution_count": 78,
   "metadata": {},
   "outputs": [],
   "source": [
    "popular_prods = popular_prods.map(lambda x: (bproduct_names.value[x[0]], x[0], x[1]))"
   ]
  },
  {
   "cell_type": "code",
   "execution_count": 79,
   "metadata": {},
   "outputs": [
    {
     "data": {
      "text/plain": [
       "[('tomates', 3, 4),\n",
       " ('papas', 1, 5),\n",
       " ('zanahorias', 4, 6),\n",
       " ('cebollas', 2, 4),\n",
       " ('batatas', 5, 4)]"
      ]
     },
     "execution_count": 79,
     "metadata": {},
     "output_type": "execute_result"
    }
   ],
   "source": [
    "popular_prods.take(5)"
   ]
  },
  {
   "cell_type": "markdown",
   "metadata": {},
   "source": [
    "#### Transformaciones entre dos RDD ####"
   ]
  },
  {
   "cell_type": "code",
   "execution_count": 84,
   "metadata": {},
   "outputs": [
    {
     "data": {
      "text/plain": [
       "8"
      ]
     },
     "execution_count": 84,
     "metadata": {},
     "output_type": "execute_result"
    }
   ],
   "source": [
    "numbers = sc.parallelize(range(1, 11))\n",
    "numbers.getNumPartitions()"
   ]
  },
  {
   "cell_type": "code",
   "execution_count": 85,
   "metadata": {},
   "outputs": [
    {
     "data": {
      "text/plain": [
       "8"
      ]
     },
     "execution_count": 85,
     "metadata": {},
     "output_type": "execute_result"
    }
   ],
   "source": [
    "sc.defaultParallelism"
   ]
  },
  {
   "cell_type": "code",
   "execution_count": 86,
   "metadata": {},
   "outputs": [
    {
     "data": {
      "text/plain": [
       "[1, 2, 3, 4, 5, 6, 7, 8, 9, 10]"
      ]
     },
     "execution_count": 86,
     "metadata": {},
     "output_type": "execute_result"
    }
   ],
   "source": [
    "numbers.collect()"
   ]
  },
  {
   "cell_type": "markdown",
   "metadata": {},
   "source": [
    "* Glom\n",
    "\n",
    "Junta los registros de cada partición en una lista."
   ]
  },
  {
   "cell_type": "code",
   "execution_count": 87,
   "metadata": {},
   "outputs": [
    {
     "data": {
      "text/plain": [
       "[[1], [2], [3], [4, 5], [6], [7], [8], [9, 10]]"
      ]
     },
     "execution_count": 87,
     "metadata": {},
     "output_type": "execute_result"
    }
   ],
   "source": [
    "numbers.glom().collect()"
   ]
  },
  {
   "cell_type": "markdown",
   "metadata": {},
   "source": [
    "* MapPartitions\n",
    "\n",
    "Devuelve un nuevo RDD aplicando una función a cada partición del RDD."
   ]
  },
  {
   "cell_type": "code",
   "execution_count": 88,
   "metadata": {},
   "outputs": [
    {
     "data": {
      "text/plain": [
       "[1, 2, 3, 9, 6, 7, 8, 19]"
      ]
     },
     "execution_count": 88,
     "metadata": {},
     "output_type": "execute_result"
    }
   ],
   "source": [
    "def f(iterator): yield __builtin__.sum(iterator)\n",
    "numbers.mapPartitions(f).collect()"
   ]
  },
  {
   "cell_type": "markdown",
   "metadata": {},
   "source": [
    "* Repartition\n",
    "\n",
    "Reshuffle los datos en el RDD de forma aleatoria para crear más o menos particiones y balancearlas.\n",
    "\n",
    "Hace un shuffle de todo los datos por la red."
   ]
  },
  {
   "cell_type": "code",
   "execution_count": 90,
   "metadata": {},
   "outputs": [
    {
     "data": {
      "text/plain": [
       "4"
      ]
     },
     "execution_count": 90,
     "metadata": {},
     "output_type": "execute_result"
    }
   ],
   "source": [
    "numbers = sc.parallelize(range(1, 11), 4)\n",
    "numbers.getNumPartitions()"
   ]
  },
  {
   "cell_type": "code",
   "execution_count": 91,
   "metadata": {},
   "outputs": [
    {
     "data": {
      "text/plain": [
       "[[1, 2], [3, 4, 5], [6, 7], [8, 9, 10]]"
      ]
     },
     "execution_count": 91,
     "metadata": {},
     "output_type": "execute_result"
    }
   ],
   "source": [
    "numbers.glom().collect()"
   ]
  },
  {
   "cell_type": "code",
   "execution_count": 92,
   "metadata": {
    "collapsed": true
   },
   "outputs": [],
   "source": [
    "numbers_2 = numbers.repartition(2)"
   ]
  },
  {
   "cell_type": "code",
   "execution_count": 93,
   "metadata": {},
   "outputs": [
    {
     "data": {
      "text/plain": [
       "2"
      ]
     },
     "execution_count": 93,
     "metadata": {},
     "output_type": "execute_result"
    }
   ],
   "source": [
    "numbers_2.getNumPartitions()"
   ]
  },
  {
   "cell_type": "code",
   "execution_count": 94,
   "metadata": {},
   "outputs": [
    {
     "data": {
      "text/plain": [
       "[[1, 3, 6, 8], [2, 4, 5, 7, 9, 10]]"
      ]
     },
     "execution_count": 94,
     "metadata": {},
     "output_type": "execute_result"
    }
   ],
   "source": [
    "numbers_2.glom().collect()        "
   ]
  },
  {
   "cell_type": "markdown",
   "metadata": {},
   "source": [
    "* Coalesce\n",
    "\n",
    "Decrementa la cantidad de particiones del RDD.\n",
    "\n",
    "No hace shuffle por defecto, solo pasa datos de una partición a otra.\n",
    "\n",
    "No quedan balanceadas."
   ]
  },
  {
   "cell_type": "code",
   "execution_count": 95,
   "metadata": {
    "collapsed": true
   },
   "outputs": [],
   "source": [
    "rdd_coalesce = numbers.coalesce(2)"
   ]
  },
  {
   "cell_type": "code",
   "execution_count": 96,
   "metadata": {},
   "outputs": [
    {
     "data": {
      "text/plain": [
       "[[1, 2, 3, 4, 5], [6, 7, 8, 9, 10]]"
      ]
     },
     "execution_count": 96,
     "metadata": {},
     "output_type": "execute_result"
    }
   ],
   "source": [
    "rdd_coalesce.glom().collect()"
   ]
  },
  {
   "cell_type": "markdown",
   "metadata": {},
   "source": [
    "* RepartitionAndSortWithinPartitions\n",
    "\n",
    "Reparticiona un RDD de acuerdo a un particionador y ordena los registros en base a su clave.\n",
    "\n",
    "Los registros deben tener clave.\n",
    "\n",
    "Es más eficiente que hacer un repartition y luego un sort dentro de cada partición ya que realiza el sort en el mismo paso de shuffle."
   ]
  },
  {
   "cell_type": "code",
   "execution_count": 97,
   "metadata": {},
   "outputs": [
    {
     "data": {
      "text/plain": [
       "[(1, 1),\n",
       " (2, 2),\n",
       " (3, 3),\n",
       " (4, 4),\n",
       " (5, 5),\n",
       " (6, 6),\n",
       " (7, 7),\n",
       " (8, 8),\n",
       " (9, 9),\n",
       " (10, 10)]"
      ]
     },
     "execution_count": 97,
     "metadata": {},
     "output_type": "execute_result"
    }
   ],
   "source": [
    "numbers.map(lambda x: (x, x)).collect()"
   ]
  },
  {
   "cell_type": "code",
   "execution_count": 98,
   "metadata": {},
   "outputs": [
    {
     "data": {
      "text/plain": [
       "[[(1, 1)],\n",
       " [(2, 2)],\n",
       " [(3, 3)],\n",
       " [(4, 4), (5, 5)],\n",
       " [(6, 6)],\n",
       " [(7, 7)],\n",
       " [(8, 8)],\n",
       " [(9, 9), (10, 10)]]"
      ]
     },
     "execution_count": 98,
     "metadata": {},
     "output_type": "execute_result"
    }
   ],
   "source": [
    "rdd.map(lambda x: (x, x)).glom().collect()"
   ]
  },
  {
   "cell_type": "markdown",
   "metadata": {},
   "source": [
    "* Ascending"
   ]
  },
  {
   "cell_type": "code",
   "execution_count": 99,
   "metadata": {},
   "outputs": [
    {
     "data": {
      "text/plain": [
       "[[(2, 2), (4, 4), (6, 6), (8, 8), (10, 10)],\n",
       " [(1, 1), (3, 3), (5, 5), (7, 7), (9, 9)]]"
      ]
     },
     "execution_count": 99,
     "metadata": {},
     "output_type": "execute_result"
    }
   ],
   "source": [
    "#Son dos particiones, hace clave % 2 para elegir a donde va\n",
    "numbers.map(lambda x: (x, x)).repartitionAndSortWithinPartitions(2).glom().collect()"
   ]
  },
  {
   "cell_type": "code",
   "execution_count": 100,
   "metadata": {},
   "outputs": [
    {
     "data": {
      "text/plain": [
       "[[(0, 3), (0, 6), (0, 9), (2, 2), (2, 5), (2, 8)],\n",
       " [(1, 1), (1, 4), (1, 7), (1, 10)]]"
      ]
     },
     "execution_count": 100,
     "metadata": {},
     "output_type": "execute_result"
    }
   ],
   "source": [
    "numbers.map(lambda x: (x % 3, x)).repartitionAndSortWithinPartitions(2).glom().collect()"
   ]
  },
  {
   "cell_type": "code",
   "execution_count": 101,
   "metadata": {},
   "outputs": [
    {
     "data": {
      "text/plain": [
       "[[(2, 2), (2, 5), (2, 8), (0, 3), (0, 6), (0, 9)],\n",
       " [(1, 1), (1, 4), (1, 7), (1, 10)]]"
      ]
     },
     "execution_count": 101,
     "metadata": {},
     "output_type": "execute_result"
    }
   ],
   "source": [
    "numbers.map(lambda x: (x % 3, x)).repartitionAndSortWithinPartitions(2, ascending=False).glom().collect()"
   ]
  },
  {
   "cell_type": "markdown",
   "metadata": {},
   "source": [
    "* PartitionFunc"
   ]
  },
  {
   "cell_type": "code",
   "execution_count": 102,
   "metadata": {},
   "outputs": [
    {
     "data": {
      "text/plain": [
       "[[(2, 1),\n",
       "  (4, 2),\n",
       "  (6, 3),\n",
       "  (8, 4),\n",
       "  (10, 5),\n",
       "  (12, 6),\n",
       "  (14, 7),\n",
       "  (16, 8),\n",
       "  (18, 9),\n",
       "  (20, 10)],\n",
       " []]"
      ]
     },
     "execution_count": 102,
     "metadata": {},
     "output_type": "execute_result"
    }
   ],
   "source": [
    "#Todas las claves son múltiplo de 2, clave % 2 siempre es 0\n",
    "#Ordena todas en la misma partición\n",
    "numbers.map(lambda x: (x * 2, x)).repartitionAndSortWithinPartitions(2).glom().collect()"
   ]
  },
  {
   "cell_type": "code",
   "execution_count": 103,
   "metadata": {},
   "outputs": [
    {
     "data": {
      "text/plain": [
       "[[(2, 1), (6, 3), (8, 4), (12, 6), (14, 7), (18, 9), (20, 10)],\n",
       " [(4, 2), (10, 5), (16, 8)]]"
      ]
     },
     "execution_count": 103,
     "metadata": {},
     "output_type": "execute_result"
    }
   ],
   "source": [
    "#Se puede cambiar la función de partición\n",
    "numbers.map(lambda x: (x * 2, x)).repartitionAndSortWithinPartitions(2, partitionFunc=lambda x: (x % 3)).glom().collect()"
   ]
  },
  {
   "cell_type": "markdown",
   "metadata": {},
   "source": [
    "#### Persistencia de RDD ####\n",
    "\n",
    "* Cache \n",
    "\n",
    "Cachea un RDD intermedio que va a ser utilizado varias veces de modo de evitar tener que ejecutar todas las transformaciones cada vez."
   ]
  },
  {
   "cell_type": "code",
   "execution_count": 105,
   "metadata": {
    "collapsed": true
   },
   "outputs": [],
   "source": [
    "large = sc.parallelize(range(1, 100000))"
   ]
  },
  {
   "cell_type": "code",
   "execution_count": 106,
   "metadata": {
    "collapsed": true
   },
   "outputs": [],
   "source": [
    "large_cached = large.map(lambda x: x * 10).cache()"
   ]
  },
  {
   "cell_type": "code",
   "execution_count": 107,
   "metadata": {},
   "outputs": [
    {
     "data": {
      "text/plain": [
       "99999"
      ]
     },
     "execution_count": 107,
     "metadata": {},
     "output_type": "execute_result"
    }
   ],
   "source": [
    "large_cached.count()"
   ]
  },
  {
   "cell_type": "code",
   "execution_count": 108,
   "metadata": {},
   "outputs": [
    {
     "data": {
      "text/plain": [
       "[10, 20, 30, 40, 50, 60, 70, 80, 90, 100]"
      ]
     },
     "execution_count": 108,
     "metadata": {},
     "output_type": "execute_result"
    }
   ],
   "source": [
    "large_cached.take(10)"
   ]
  },
  {
   "cell_type": "markdown",
   "metadata": {},
   "source": [
    "* SaveAsTextFile\n",
    "\n",
    "Guarda un RDD a disco en un archivo de texto."
   ]
  },
  {
   "cell_type": "code",
   "execution_count": 109,
   "metadata": {
    "collapsed": true
   },
   "outputs": [],
   "source": [
    "large.saveAsTextFile('numbers.txt')"
   ]
  },
  {
   "cell_type": "code",
   "execution_count": 113,
   "metadata": {
    "collapsed": true
   },
   "outputs": [],
   "source": [
    "large_text = sc.textFile('numbers.txt')"
   ]
  },
  {
   "cell_type": "code",
   "execution_count": 117,
   "metadata": {},
   "outputs": [
    {
     "data": {
      "text/plain": [
       "['62500',\n",
       " '62501',\n",
       " '62502',\n",
       " '62503',\n",
       " '62504',\n",
       " '62505',\n",
       " '62506',\n",
       " '62507',\n",
       " '62508',\n",
       " '62509']"
      ]
     },
     "execution_count": 117,
     "metadata": {},
     "output_type": "execute_result"
    }
   ],
   "source": [
    "large_text.take(10)"
   ]
  },
  {
   "cell_type": "markdown",
   "metadata": {},
   "source": [
    "* SaveAsPickleFile\n",
    "\n",
    "Guarda un RDD a disco en un archivo con los datos serializados."
   ]
  },
  {
   "cell_type": "code",
   "execution_count": 112,
   "metadata": {
    "collapsed": true
   },
   "outputs": [],
   "source": [
    "large.saveAsPickleFile('numbers2.file')"
   ]
  },
  {
   "cell_type": "code",
   "execution_count": 115,
   "metadata": {
    "collapsed": true
   },
   "outputs": [],
   "source": [
    "large_serial = sc.pickleFile('numbers2.file/')"
   ]
  },
  {
   "cell_type": "code",
   "execution_count": 116,
   "metadata": {},
   "outputs": [
    {
     "data": {
      "text/plain": [
       "[62500, 62501, 62502, 62503, 62504, 62505, 62506, 62507, 62508, 62509]"
      ]
     },
     "execution_count": 116,
     "metadata": {},
     "output_type": "execute_result"
    }
   ],
   "source": [
    "large_serial.take(10)"
   ]
  }
 ],
 "metadata": {
  "anaconda-cloud": {},
  "kernelspec": {
   "display_name": "pySpark",
   "language": "python",
   "name": "pyspark"
  },
  "language_info": {
   "codemirror_mode": {
    "name": "ipython",
    "version": 2
   },
   "file_extension": ".py",
   "mimetype": "text/x-python",
   "name": "python",
   "nbconvert_exporter": "python",
   "pygments_lexer": "ipython2",
   "version": "2.7.15"
  }
 },
 "nbformat": 4,
 "nbformat_minor": 1
}
