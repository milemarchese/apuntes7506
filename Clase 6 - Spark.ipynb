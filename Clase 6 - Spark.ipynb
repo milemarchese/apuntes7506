{
 "cells": [
  {
   "cell_type": "markdown",
   "metadata": {},
   "source": [
    "## Spark ##\n",
    "\n",
    "* Procesamiento distruibuido de datos de grandes volúmenes utilizando un cluster.\n",
    "\n",
    "__Cluster:__ Conjunto de computadoras que trabajan juntas y pueden ser vistas como un sistema único. Cada computadora del cluster en un nodo.\n",
    "\n",
    "* Almacenamiento distribuido:\n",
    "\n",
    "__FileSystem distribuido:__ Se encarga de gestionar cómo y donde guardar información en una computadora, y cómo poder consultarla. Almacena grandes volúmenes de datos es varios equipos, replica datos, tolerante a fallos, alta disponibilidad, relativo bajo costo.\n",
    "\n",
    "__RDD:__  Resilient distributed dataset, which is a fault-tolerant collection of elements that can be operated on in parallel.\n",
    "\n",
    "<https://spark.apache.org/docs/latest/rdd-programming-guide.html>\n",
    "\n",
    "### Map-Reduce ###\n",
    "\n",
    "* Se especifica una función map que procesa un par clave/valor para generar un conjunto intermedio de pares clave/valor.\n",
    "* Se especifica una función reduce que combina todos los valores asociados a la misma clave. Deben ser conmutativas y asociativas.\n",
    "\n",
    "__Shuffle & Sort:__ Mueve la salida de un preoceso map a un cierto equipo de tal forma que el un reducer pueda procesar registro.\n"
   ]
  },
  {
   "cell_type": "code",
   "execution_count": 2,
   "metadata": {
    "collapsed": false
   },
   "outputs": [],
   "source": [
    "import findspark\n",
    "findspark.init()\n",
    "import pyspark\n",
    "\n",
    "from pyspark.sql import *\n",
    "from pyspark.sql.functions import *\n",
    "from pyspark import SparkContext\n",
    "from pyspark.sql import SQLContext\n",
    "import pandas as pd"
   ]
  },
  {
   "cell_type": "code",
   "execution_count": 3,
   "metadata": {
    "collapsed": true
   },
   "outputs": [],
   "source": [
    "#create the Spark Session\n",
    "spark = SparkSession.builder.getOrCreate()\n",
    "#create the Spark Context\n",
    "sc = spark.sparkContext"
   ]
  },
  {
   "cell_type": "markdown",
   "metadata": {},
   "source": [
    "#### Paralelizar una colección ####"
   ]
  },
  {
   "cell_type": "code",
   "execution_count": 4,
   "metadata": {
    "collapsed": false
   },
   "outputs": [
    {
     "data": {
      "text/plain": [
       "1000"
      ]
     },
     "execution_count": 4,
     "metadata": {},
     "output_type": "execute_result"
    }
   ],
   "source": [
    "#1000 enteros en una lista\n",
    "integers = range(1,1001)\n",
    "len(integers)"
   ]
  },
  {
   "cell_type": "code",
   "execution_count": 5,
   "metadata": {
    "collapsed": false
   },
   "outputs": [
    {
     "data": {
      "text/plain": [
       "pyspark.rdd.PipelinedRDD"
      ]
     },
     "execution_count": 5,
     "metadata": {},
     "output_type": "execute_result"
    }
   ],
   "source": [
    "#Paralelizamos la coleccion utilizando 8 particiones o slices\n",
    "#Esta operacion es una transformacion de datos en un RDD\n",
    "#Dado que Spark usa lazy evaluation, no corren jobs de Spark hasta el momento\n",
    "integers_rdd = sc.parallelize(integers, 8)\n",
    "type(integers_rdd)"
   ]
  },
  {
   "cell_type": "code",
   "execution_count": 6,
   "metadata": {
    "collapsed": false
   },
   "outputs": [
    {
     "data": {
      "text/plain": [
       "8"
      ]
     },
     "execution_count": 6,
     "metadata": {},
     "output_type": "execute_result"
    }
   ],
   "source": [
    "#Número de particiones\n",
    "integers_rdd.getNumPartitions()"
   ]
  },
  {
   "cell_type": "code",
   "execution_count": 7,
   "metadata": {
    "collapsed": false
   },
   "outputs": [
    {
     "data": {
      "text/plain": [
       "b'(8) PythonRDD[1] at RDD at PythonRDD.scala:48 []\\n |  ParallelCollectionRDD[0] at parallelize at PythonRDD.scala:475 []'"
      ]
     },
     "execution_count": 7,
     "metadata": {},
     "output_type": "execute_result"
    }
   ],
   "source": [
    "#Conjunto de transformaciones que se aplica\n",
    "integers_rdd.toDebugString()"
   ]
  },
  {
   "cell_type": "code",
   "execution_count": 119,
   "metadata": {
    "collapsed": false
   },
   "outputs": [],
   "source": [
    "#Métodos disponibles \n",
    "#help(integers_rdd)"
   ]
  },
  {
   "cell_type": "code",
   "execution_count": 9,
   "metadata": {
    "collapsed": false
   },
   "outputs": [
    {
     "data": {
      "text/plain": [
       "[1, 2, 3, 4, 5]"
      ]
     },
     "execution_count": 9,
     "metadata": {},
     "output_type": "execute_result"
    }
   ],
   "source": [
    "#Primeros 5 registros\n",
    "integers_rdd.take(5)"
   ]
  },
  {
   "cell_type": "code",
   "execution_count": 10,
   "metadata": {
    "collapsed": false
   },
   "outputs": [
    {
     "data": {
      "text/plain": [
       "1000"
      ]
     },
     "execution_count": 10,
     "metadata": {},
     "output_type": "execute_result"
    }
   ],
   "source": [
    "#Cantidad de elementos\n",
    "integers_rdd.count()"
   ]
  },
  {
   "cell_type": "markdown",
   "metadata": {},
   "source": [
    "#### Acciones ####\n",
    "\n",
    "* Count"
   ]
  },
  {
   "cell_type": "code",
   "execution_count": 11,
   "metadata": {
    "collapsed": false
   },
   "outputs": [
    {
     "data": {
      "text/plain": [
       "1000"
      ]
     },
     "execution_count": 11,
     "metadata": {},
     "output_type": "execute_result"
    }
   ],
   "source": [
    "integers_rdd.count()"
   ]
  },
  {
   "cell_type": "markdown",
   "metadata": {
    "collapsed": true
   },
   "source": [
    "* Take"
   ]
  },
  {
   "cell_type": "code",
   "execution_count": 12,
   "metadata": {
    "collapsed": false
   },
   "outputs": [
    {
     "data": {
      "text/plain": [
       "[1, 2, 3, 4, 5]"
      ]
     },
     "execution_count": 12,
     "metadata": {},
     "output_type": "execute_result"
    }
   ],
   "source": [
    "integers_rdd.take(5)"
   ]
  },
  {
   "cell_type": "markdown",
   "metadata": {},
   "source": [
    "* Collect\n",
    "\n",
    "Trae todos los registros de un rdd. No recomendado ya que puede sobrecargar el driver."
   ]
  },
  {
   "cell_type": "code",
   "execution_count": 118,
   "metadata": {
    "collapsed": false
   },
   "outputs": [],
   "source": [
    "#integers_rdd.collect()"
   ]
  },
  {
   "cell_type": "markdown",
   "metadata": {},
   "source": [
    "* First"
   ]
  },
  {
   "cell_type": "code",
   "execution_count": 14,
   "metadata": {
    "collapsed": false
   },
   "outputs": [
    {
     "data": {
      "text/plain": [
       "1"
      ]
     },
     "execution_count": 14,
     "metadata": {},
     "output_type": "execute_result"
    }
   ],
   "source": [
    "integers_rdd.first()"
   ]
  },
  {
   "cell_type": "markdown",
   "metadata": {},
   "source": [
    "* TakeOrdered\n",
    "\n",
    "Primeros n registros en un orden indicado."
   ]
  },
  {
   "cell_type": "code",
   "execution_count": 15,
   "metadata": {
    "collapsed": false
   },
   "outputs": [
    {
     "data": {
      "text/plain": [
       "[1000, 999, 998, 997, 996]"
      ]
     },
     "execution_count": 15,
     "metadata": {},
     "output_type": "execute_result"
    }
   ],
   "source": [
    "integers_rdd.takeOrdered(5, key=lambda x: -x)"
   ]
  },
  {
   "cell_type": "markdown",
   "metadata": {},
   "source": [
    "* TakeSample\n",
    "\n",
    "Muestra de n registros aleatorios con o si reemplazo."
   ]
  },
  {
   "cell_type": "code",
   "execution_count": 16,
   "metadata": {
    "collapsed": false
   },
   "outputs": [
    {
     "data": {
      "text/plain": [
       "[115, 17, 667, 430, 363]"
      ]
     },
     "execution_count": 16,
     "metadata": {},
     "output_type": "execute_result"
    }
   ],
   "source": [
    "integers_rdd.takeSample(False, 5)"
   ]
  },
  {
   "cell_type": "markdown",
   "metadata": {},
   "source": [
    "* Reduce\n",
    "\n",
    "Obtiene un solo registro combinando el resultado en base a una función:"
   ]
  },
  {
   "cell_type": "code",
   "execution_count": 17,
   "metadata": {
    "collapsed": false
   },
   "outputs": [
    {
     "data": {
      "text/plain": [
       "500500"
      ]
     },
     "execution_count": 17,
     "metadata": {},
     "output_type": "execute_result"
    }
   ],
   "source": [
    "#Suma de todos los elementos\n",
    "integers_rdd.reduce(lambda a, b: a + b)"
   ]
  },
  {
   "cell_type": "code",
   "execution_count": 18,
   "metadata": {
    "collapsed": false
   },
   "outputs": [
    {
     "data": {
      "text/plain": [
       "1000"
      ]
     },
     "execution_count": 18,
     "metadata": {},
     "output_type": "execute_result"
    }
   ],
   "source": [
    "#Máximo\n",
    "integers_rdd.reduce(lambda a, b: a if a > b else b)"
   ]
  },
  {
   "cell_type": "markdown",
   "metadata": {},
   "source": [
    "* CountByKey\n",
    "\n",
    "Cuenta ocurrencias por cada clave.\n",
    "\n",
    "En Spark para que un registro sea considerado con clave debe se una tupla de unicamente dos elementos. El primer elemento es la key y el segundo el valor. A su vez, la key y el valor pueden estar compuestos por tuplas."
   ]
  },
  {
   "cell_type": "code",
   "execution_count": 19,
   "metadata": {
    "collapsed": false
   },
   "outputs": [
    {
     "data": {
      "text/plain": [
       "defaultdict(int, {0: 500, 1: 500})"
      ]
     },
     "execution_count": 19,
     "metadata": {},
     "output_type": "execute_result"
    }
   ],
   "source": [
    "integers_rdd.map(lambda x: (x % 2, 1)).countByKey()"
   ]
  },
  {
   "cell_type": "markdown",
   "metadata": {},
   "source": [
    "#### Transformaciones ####\n",
    "\n",
    "* Map\n",
    "\n",
    "Transforma cada registro en base a la función dada."
   ]
  },
  {
   "cell_type": "code",
   "execution_count": 20,
   "metadata": {
    "collapsed": false
   },
   "outputs": [
    {
     "data": {
      "text/plain": [
       "[2, 4, 6, 8, 10]"
      ]
     },
     "execution_count": 20,
     "metadata": {},
     "output_type": "execute_result"
    }
   ],
   "source": [
    "integers_rdd.map(lambda x: x * 2).take(5)"
   ]
  },
  {
   "cell_type": "code",
   "execution_count": 21,
   "metadata": {
    "collapsed": false
   },
   "outputs": [
    {
     "data": {
      "text/plain": [
       "[(1, 1), (0, 2), (1, 3), (0, 4), (1, 5)]"
      ]
     },
     "execution_count": 21,
     "metadata": {},
     "output_type": "execute_result"
    }
   ],
   "source": [
    "integers_rdd.map(lambda x: (x % 2, x)).take(5)"
   ]
  },
  {
   "cell_type": "markdown",
   "metadata": {},
   "source": [
    "* Filter"
   ]
  },
  {
   "cell_type": "code",
   "execution_count": 22,
   "metadata": {
    "collapsed": false
   },
   "outputs": [
    {
     "data": {
      "text/plain": [
       "[2, 4, 6, 8, 10]"
      ]
     },
     "execution_count": 22,
     "metadata": {},
     "output_type": "execute_result"
    }
   ],
   "source": [
    "integers_rdd.filter(lambda x: x % 2 == 0).take(5)"
   ]
  },
  {
   "cell_type": "code",
   "execution_count": 23,
   "metadata": {
    "collapsed": false
   },
   "outputs": [
    {
     "data": {
      "text/plain": [
       "500"
      ]
     },
     "execution_count": 23,
     "metadata": {},
     "output_type": "execute_result"
    }
   ],
   "source": [
    "integers_rdd.filter(lambda x: x % 2 == 0).count()"
   ]
  },
  {
   "cell_type": "markdown",
   "metadata": {},
   "source": [
    "* FlatMap\n",
    "\n",
    "Por cada registro puede generar 0 o mas registros."
   ]
  },
  {
   "cell_type": "code",
   "execution_count": 24,
   "metadata": {
    "collapsed": false
   },
   "outputs": [
    {
     "data": {
      "text/plain": [
       "3000"
      ]
     },
     "execution_count": 24,
     "metadata": {},
     "output_type": "execute_result"
    }
   ],
   "source": [
    "integers_flat = integers_rdd.flatMap(lambda x: [(x), (x - 1), (x + 1)])\n",
    "integers_flat.count()"
   ]
  },
  {
   "cell_type": "code",
   "execution_count": 25,
   "metadata": {
    "collapsed": false
   },
   "outputs": [
    {
     "data": {
      "text/plain": [
       "[1, 0, 2, 2, 1, 3, 3, 2, 4, 4, 3, 5, 5, 4, 6, 6, 5, 7, 7, 6]"
      ]
     },
     "execution_count": 25,
     "metadata": {},
     "output_type": "execute_result"
    }
   ],
   "source": [
    "integers_flat.take(20)"
   ]
  },
  {
   "cell_type": "markdown",
   "metadata": {},
   "source": [
    "* ReduceByKey\n",
    "\n",
    "Combina los registros para una misma clave en base a una función de reduce.\n",
    "\n",
    "La función de reduce debe ser conmutativa y asociativa."
   ]
  },
  {
   "cell_type": "code",
   "execution_count": 26,
   "metadata": {
    "collapsed": false
   },
   "outputs": [
    {
     "data": {
      "text/plain": [
       "1002"
      ]
     },
     "execution_count": 26,
     "metadata": {},
     "output_type": "execute_result"
    }
   ],
   "source": [
    "integers_flat.map(lambda x: (x, 1)).reduceByKey(lambda a, b: a + b).count()"
   ]
  },
  {
   "cell_type": "code",
   "execution_count": 30,
   "metadata": {
    "collapsed": false
   },
   "outputs": [
    {
     "data": {
      "text/plain": [
       "[(0, 1), (256, 3), (912, 3), (520, 3), (648, 3)]"
      ]
     },
     "execution_count": 30,
     "metadata": {},
     "output_type": "execute_result"
    }
   ],
   "source": [
    "integers_flat.map(lambda x: (x, 1)).reduceByKey(lambda a, b: a + b).take(5)"
   ]
  },
  {
   "cell_type": "code",
   "execution_count": 31,
   "metadata": {
    "collapsed": false
   },
   "outputs": [
    {
     "data": {
      "text/plain": [
       "(1001, 1)"
      ]
     },
     "execution_count": 31,
     "metadata": {},
     "output_type": "execute_result"
    }
   ],
   "source": [
    "integers_flat.map(lambda x: (x, 1)).reduceByKey(lambda a, b: a + b).reduce(lambda a, b: a if a > b else b)"
   ]
  },
  {
   "cell_type": "markdown",
   "metadata": {},
   "source": [
    "* GroupByKey\n",
    "\n",
    "Agrupa los registros para cada clave. Es similar a reduceByKey pero con groupByKey se obtiene todos los registros para cada clave.\n",
    "\n",
    "Solo se debe utilizar si es necesario la información de cada registro y la cantidad de registros por clave no es demasiado grande.\n",
    "\n",
    "GroupByKey es una transformación costosa.\n",
    "\n",
    "Si se desea realizar una agregación, usar reduceByKey. Usar groupByKey para hacer una agregación esta MAL.\n"
   ]
  },
  {
   "cell_type": "code",
   "execution_count": 32,
   "metadata": {
    "collapsed": false
   },
   "outputs": [
    {
     "data": {
      "text/plain": [
       "[(0,\n",
       "  [2,\n",
       "   4,\n",
       "   6,\n",
       "   8,\n",
       "   10,\n",
       "   12,\n",
       "   14,\n",
       "   16,\n",
       "   18,\n",
       "   20,\n",
       "   22,\n",
       "   24,\n",
       "   26,\n",
       "   28,\n",
       "   30,\n",
       "   32,\n",
       "   34,\n",
       "   36,\n",
       "   38,\n",
       "   40,\n",
       "   42,\n",
       "   44,\n",
       "   46,\n",
       "   48,\n",
       "   50,\n",
       "   52,\n",
       "   54,\n",
       "   56,\n",
       "   58,\n",
       "   60,\n",
       "   62,\n",
       "   64,\n",
       "   66,\n",
       "   68,\n",
       "   70,\n",
       "   72,\n",
       "   74,\n",
       "   76,\n",
       "   78,\n",
       "   80,\n",
       "   82,\n",
       "   84,\n",
       "   86,\n",
       "   88,\n",
       "   90,\n",
       "   92,\n",
       "   94,\n",
       "   96,\n",
       "   98,\n",
       "   100,\n",
       "   102,\n",
       "   104,\n",
       "   106,\n",
       "   108,\n",
       "   110,\n",
       "   112,\n",
       "   114,\n",
       "   116,\n",
       "   118,\n",
       "   120,\n",
       "   122,\n",
       "   124,\n",
       "   126,\n",
       "   128,\n",
       "   130,\n",
       "   132,\n",
       "   134,\n",
       "   136,\n",
       "   138,\n",
       "   140,\n",
       "   142,\n",
       "   144,\n",
       "   146,\n",
       "   148,\n",
       "   150,\n",
       "   152,\n",
       "   154,\n",
       "   156,\n",
       "   158,\n",
       "   160,\n",
       "   162,\n",
       "   164,\n",
       "   166,\n",
       "   168,\n",
       "   170,\n",
       "   172,\n",
       "   174,\n",
       "   176,\n",
       "   178,\n",
       "   180,\n",
       "   182,\n",
       "   184,\n",
       "   186,\n",
       "   188,\n",
       "   190,\n",
       "   192,\n",
       "   194,\n",
       "   196,\n",
       "   198,\n",
       "   200,\n",
       "   202,\n",
       "   204,\n",
       "   206,\n",
       "   208,\n",
       "   210,\n",
       "   212,\n",
       "   214,\n",
       "   216,\n",
       "   218,\n",
       "   220,\n",
       "   222,\n",
       "   224,\n",
       "   226,\n",
       "   228,\n",
       "   230,\n",
       "   232,\n",
       "   234,\n",
       "   236,\n",
       "   238,\n",
       "   240,\n",
       "   242,\n",
       "   244,\n",
       "   246,\n",
       "   248,\n",
       "   250,\n",
       "   252,\n",
       "   254,\n",
       "   256,\n",
       "   258,\n",
       "   260,\n",
       "   262,\n",
       "   264,\n",
       "   266,\n",
       "   268,\n",
       "   270,\n",
       "   272,\n",
       "   274,\n",
       "   276,\n",
       "   278,\n",
       "   280,\n",
       "   282,\n",
       "   284,\n",
       "   286,\n",
       "   288,\n",
       "   290,\n",
       "   292,\n",
       "   294,\n",
       "   296,\n",
       "   298,\n",
       "   300,\n",
       "   302,\n",
       "   304,\n",
       "   306,\n",
       "   308,\n",
       "   310,\n",
       "   312,\n",
       "   314,\n",
       "   316,\n",
       "   318,\n",
       "   320,\n",
       "   322,\n",
       "   324,\n",
       "   326,\n",
       "   328,\n",
       "   330,\n",
       "   332,\n",
       "   334,\n",
       "   336,\n",
       "   338,\n",
       "   340,\n",
       "   342,\n",
       "   344,\n",
       "   346,\n",
       "   348,\n",
       "   350,\n",
       "   352,\n",
       "   354,\n",
       "   356,\n",
       "   358,\n",
       "   360,\n",
       "   362,\n",
       "   364,\n",
       "   366,\n",
       "   368,\n",
       "   370,\n",
       "   372,\n",
       "   374,\n",
       "   376,\n",
       "   378,\n",
       "   380,\n",
       "   382,\n",
       "   384,\n",
       "   386,\n",
       "   388,\n",
       "   390,\n",
       "   392,\n",
       "   394,\n",
       "   396,\n",
       "   398,\n",
       "   400,\n",
       "   402,\n",
       "   404,\n",
       "   406,\n",
       "   408,\n",
       "   410,\n",
       "   412,\n",
       "   414,\n",
       "   416,\n",
       "   418,\n",
       "   420,\n",
       "   422,\n",
       "   424,\n",
       "   426,\n",
       "   428,\n",
       "   430,\n",
       "   432,\n",
       "   434,\n",
       "   436,\n",
       "   438,\n",
       "   440,\n",
       "   442,\n",
       "   444,\n",
       "   446,\n",
       "   448,\n",
       "   450,\n",
       "   452,\n",
       "   454,\n",
       "   456,\n",
       "   458,\n",
       "   460,\n",
       "   462,\n",
       "   464,\n",
       "   466,\n",
       "   468,\n",
       "   470,\n",
       "   472,\n",
       "   474,\n",
       "   476,\n",
       "   478,\n",
       "   480,\n",
       "   482,\n",
       "   484,\n",
       "   486,\n",
       "   488,\n",
       "   490,\n",
       "   492,\n",
       "   494,\n",
       "   496,\n",
       "   498,\n",
       "   500,\n",
       "   502,\n",
       "   504,\n",
       "   506,\n",
       "   508,\n",
       "   510,\n",
       "   512,\n",
       "   514,\n",
       "   516,\n",
       "   518,\n",
       "   520,\n",
       "   522,\n",
       "   524,\n",
       "   526,\n",
       "   528,\n",
       "   530,\n",
       "   532,\n",
       "   534,\n",
       "   536,\n",
       "   538,\n",
       "   540,\n",
       "   542,\n",
       "   544,\n",
       "   546,\n",
       "   548,\n",
       "   550,\n",
       "   552,\n",
       "   554,\n",
       "   556,\n",
       "   558,\n",
       "   560,\n",
       "   562,\n",
       "   564,\n",
       "   566,\n",
       "   568,\n",
       "   570,\n",
       "   572,\n",
       "   574,\n",
       "   576,\n",
       "   578,\n",
       "   580,\n",
       "   582,\n",
       "   584,\n",
       "   586,\n",
       "   588,\n",
       "   590,\n",
       "   592,\n",
       "   594,\n",
       "   596,\n",
       "   598,\n",
       "   600,\n",
       "   602,\n",
       "   604,\n",
       "   606,\n",
       "   608,\n",
       "   610,\n",
       "   612,\n",
       "   614,\n",
       "   616,\n",
       "   618,\n",
       "   620,\n",
       "   622,\n",
       "   624,\n",
       "   626,\n",
       "   628,\n",
       "   630,\n",
       "   632,\n",
       "   634,\n",
       "   636,\n",
       "   638,\n",
       "   640,\n",
       "   642,\n",
       "   644,\n",
       "   646,\n",
       "   648,\n",
       "   650,\n",
       "   652,\n",
       "   654,\n",
       "   656,\n",
       "   658,\n",
       "   660,\n",
       "   662,\n",
       "   664,\n",
       "   666,\n",
       "   668,\n",
       "   670,\n",
       "   672,\n",
       "   674,\n",
       "   676,\n",
       "   678,\n",
       "   680,\n",
       "   682,\n",
       "   684,\n",
       "   686,\n",
       "   688,\n",
       "   690,\n",
       "   692,\n",
       "   694,\n",
       "   696,\n",
       "   698,\n",
       "   700,\n",
       "   702,\n",
       "   704,\n",
       "   706,\n",
       "   708,\n",
       "   710,\n",
       "   712,\n",
       "   714,\n",
       "   716,\n",
       "   718,\n",
       "   720,\n",
       "   722,\n",
       "   724,\n",
       "   726,\n",
       "   728,\n",
       "   730,\n",
       "   732,\n",
       "   734,\n",
       "   736,\n",
       "   738,\n",
       "   740,\n",
       "   742,\n",
       "   744,\n",
       "   746,\n",
       "   748,\n",
       "   750,\n",
       "   752,\n",
       "   754,\n",
       "   756,\n",
       "   758,\n",
       "   760,\n",
       "   762,\n",
       "   764,\n",
       "   766,\n",
       "   768,\n",
       "   770,\n",
       "   772,\n",
       "   774,\n",
       "   776,\n",
       "   778,\n",
       "   780,\n",
       "   782,\n",
       "   784,\n",
       "   786,\n",
       "   788,\n",
       "   790,\n",
       "   792,\n",
       "   794,\n",
       "   796,\n",
       "   798,\n",
       "   800,\n",
       "   802,\n",
       "   804,\n",
       "   806,\n",
       "   808,\n",
       "   810,\n",
       "   812,\n",
       "   814,\n",
       "   816,\n",
       "   818,\n",
       "   820,\n",
       "   822,\n",
       "   824,\n",
       "   826,\n",
       "   828,\n",
       "   830,\n",
       "   832,\n",
       "   834,\n",
       "   836,\n",
       "   838,\n",
       "   840,\n",
       "   842,\n",
       "   844,\n",
       "   846,\n",
       "   848,\n",
       "   850,\n",
       "   852,\n",
       "   854,\n",
       "   856,\n",
       "   858,\n",
       "   860,\n",
       "   862,\n",
       "   864,\n",
       "   866,\n",
       "   868,\n",
       "   870,\n",
       "   872,\n",
       "   874,\n",
       "   876,\n",
       "   878,\n",
       "   880,\n",
       "   882,\n",
       "   884,\n",
       "   886,\n",
       "   888,\n",
       "   890,\n",
       "   892,\n",
       "   894,\n",
       "   896,\n",
       "   898,\n",
       "   900,\n",
       "   902,\n",
       "   904,\n",
       "   906,\n",
       "   908,\n",
       "   910,\n",
       "   912,\n",
       "   914,\n",
       "   916,\n",
       "   918,\n",
       "   920,\n",
       "   922,\n",
       "   924,\n",
       "   926,\n",
       "   928,\n",
       "   930,\n",
       "   932,\n",
       "   934,\n",
       "   936,\n",
       "   938,\n",
       "   940,\n",
       "   942,\n",
       "   944,\n",
       "   946,\n",
       "   948,\n",
       "   950,\n",
       "   952,\n",
       "   954,\n",
       "   956,\n",
       "   958,\n",
       "   960,\n",
       "   962,\n",
       "   964,\n",
       "   966,\n",
       "   968,\n",
       "   970,\n",
       "   972,\n",
       "   974,\n",
       "   976,\n",
       "   978,\n",
       "   980,\n",
       "   982,\n",
       "   984,\n",
       "   986,\n",
       "   988,\n",
       "   990,\n",
       "   992,\n",
       "   994,\n",
       "   996,\n",
       "   998,\n",
       "   1000]),\n",
       " (1,\n",
       "  [1,\n",
       "   3,\n",
       "   5,\n",
       "   7,\n",
       "   9,\n",
       "   11,\n",
       "   13,\n",
       "   15,\n",
       "   17,\n",
       "   19,\n",
       "   21,\n",
       "   23,\n",
       "   25,\n",
       "   27,\n",
       "   29,\n",
       "   31,\n",
       "   33,\n",
       "   35,\n",
       "   37,\n",
       "   39,\n",
       "   41,\n",
       "   43,\n",
       "   45,\n",
       "   47,\n",
       "   49,\n",
       "   51,\n",
       "   53,\n",
       "   55,\n",
       "   57,\n",
       "   59,\n",
       "   61,\n",
       "   63,\n",
       "   65,\n",
       "   67,\n",
       "   69,\n",
       "   71,\n",
       "   73,\n",
       "   75,\n",
       "   77,\n",
       "   79,\n",
       "   81,\n",
       "   83,\n",
       "   85,\n",
       "   87,\n",
       "   89,\n",
       "   91,\n",
       "   93,\n",
       "   95,\n",
       "   97,\n",
       "   99,\n",
       "   101,\n",
       "   103,\n",
       "   105,\n",
       "   107,\n",
       "   109,\n",
       "   111,\n",
       "   113,\n",
       "   115,\n",
       "   117,\n",
       "   119,\n",
       "   121,\n",
       "   123,\n",
       "   125,\n",
       "   127,\n",
       "   129,\n",
       "   131,\n",
       "   133,\n",
       "   135,\n",
       "   137,\n",
       "   139,\n",
       "   141,\n",
       "   143,\n",
       "   145,\n",
       "   147,\n",
       "   149,\n",
       "   151,\n",
       "   153,\n",
       "   155,\n",
       "   157,\n",
       "   159,\n",
       "   161,\n",
       "   163,\n",
       "   165,\n",
       "   167,\n",
       "   169,\n",
       "   171,\n",
       "   173,\n",
       "   175,\n",
       "   177,\n",
       "   179,\n",
       "   181,\n",
       "   183,\n",
       "   185,\n",
       "   187,\n",
       "   189,\n",
       "   191,\n",
       "   193,\n",
       "   195,\n",
       "   197,\n",
       "   199,\n",
       "   201,\n",
       "   203,\n",
       "   205,\n",
       "   207,\n",
       "   209,\n",
       "   211,\n",
       "   213,\n",
       "   215,\n",
       "   217,\n",
       "   219,\n",
       "   221,\n",
       "   223,\n",
       "   225,\n",
       "   227,\n",
       "   229,\n",
       "   231,\n",
       "   233,\n",
       "   235,\n",
       "   237,\n",
       "   239,\n",
       "   241,\n",
       "   243,\n",
       "   245,\n",
       "   247,\n",
       "   249,\n",
       "   251,\n",
       "   253,\n",
       "   255,\n",
       "   257,\n",
       "   259,\n",
       "   261,\n",
       "   263,\n",
       "   265,\n",
       "   267,\n",
       "   269,\n",
       "   271,\n",
       "   273,\n",
       "   275,\n",
       "   277,\n",
       "   279,\n",
       "   281,\n",
       "   283,\n",
       "   285,\n",
       "   287,\n",
       "   289,\n",
       "   291,\n",
       "   293,\n",
       "   295,\n",
       "   297,\n",
       "   299,\n",
       "   301,\n",
       "   303,\n",
       "   305,\n",
       "   307,\n",
       "   309,\n",
       "   311,\n",
       "   313,\n",
       "   315,\n",
       "   317,\n",
       "   319,\n",
       "   321,\n",
       "   323,\n",
       "   325,\n",
       "   327,\n",
       "   329,\n",
       "   331,\n",
       "   333,\n",
       "   335,\n",
       "   337,\n",
       "   339,\n",
       "   341,\n",
       "   343,\n",
       "   345,\n",
       "   347,\n",
       "   349,\n",
       "   351,\n",
       "   353,\n",
       "   355,\n",
       "   357,\n",
       "   359,\n",
       "   361,\n",
       "   363,\n",
       "   365,\n",
       "   367,\n",
       "   369,\n",
       "   371,\n",
       "   373,\n",
       "   375,\n",
       "   377,\n",
       "   379,\n",
       "   381,\n",
       "   383,\n",
       "   385,\n",
       "   387,\n",
       "   389,\n",
       "   391,\n",
       "   393,\n",
       "   395,\n",
       "   397,\n",
       "   399,\n",
       "   401,\n",
       "   403,\n",
       "   405,\n",
       "   407,\n",
       "   409,\n",
       "   411,\n",
       "   413,\n",
       "   415,\n",
       "   417,\n",
       "   419,\n",
       "   421,\n",
       "   423,\n",
       "   425,\n",
       "   427,\n",
       "   429,\n",
       "   431,\n",
       "   433,\n",
       "   435,\n",
       "   437,\n",
       "   439,\n",
       "   441,\n",
       "   443,\n",
       "   445,\n",
       "   447,\n",
       "   449,\n",
       "   451,\n",
       "   453,\n",
       "   455,\n",
       "   457,\n",
       "   459,\n",
       "   461,\n",
       "   463,\n",
       "   465,\n",
       "   467,\n",
       "   469,\n",
       "   471,\n",
       "   473,\n",
       "   475,\n",
       "   477,\n",
       "   479,\n",
       "   481,\n",
       "   483,\n",
       "   485,\n",
       "   487,\n",
       "   489,\n",
       "   491,\n",
       "   493,\n",
       "   495,\n",
       "   497,\n",
       "   499,\n",
       "   501,\n",
       "   503,\n",
       "   505,\n",
       "   507,\n",
       "   509,\n",
       "   511,\n",
       "   513,\n",
       "   515,\n",
       "   517,\n",
       "   519,\n",
       "   521,\n",
       "   523,\n",
       "   525,\n",
       "   527,\n",
       "   529,\n",
       "   531,\n",
       "   533,\n",
       "   535,\n",
       "   537,\n",
       "   539,\n",
       "   541,\n",
       "   543,\n",
       "   545,\n",
       "   547,\n",
       "   549,\n",
       "   551,\n",
       "   553,\n",
       "   555,\n",
       "   557,\n",
       "   559,\n",
       "   561,\n",
       "   563,\n",
       "   565,\n",
       "   567,\n",
       "   569,\n",
       "   571,\n",
       "   573,\n",
       "   575,\n",
       "   577,\n",
       "   579,\n",
       "   581,\n",
       "   583,\n",
       "   585,\n",
       "   587,\n",
       "   589,\n",
       "   591,\n",
       "   593,\n",
       "   595,\n",
       "   597,\n",
       "   599,\n",
       "   601,\n",
       "   603,\n",
       "   605,\n",
       "   607,\n",
       "   609,\n",
       "   611,\n",
       "   613,\n",
       "   615,\n",
       "   617,\n",
       "   619,\n",
       "   621,\n",
       "   623,\n",
       "   625,\n",
       "   627,\n",
       "   629,\n",
       "   631,\n",
       "   633,\n",
       "   635,\n",
       "   637,\n",
       "   639,\n",
       "   641,\n",
       "   643,\n",
       "   645,\n",
       "   647,\n",
       "   649,\n",
       "   651,\n",
       "   653,\n",
       "   655,\n",
       "   657,\n",
       "   659,\n",
       "   661,\n",
       "   663,\n",
       "   665,\n",
       "   667,\n",
       "   669,\n",
       "   671,\n",
       "   673,\n",
       "   675,\n",
       "   677,\n",
       "   679,\n",
       "   681,\n",
       "   683,\n",
       "   685,\n",
       "   687,\n",
       "   689,\n",
       "   691,\n",
       "   693,\n",
       "   695,\n",
       "   697,\n",
       "   699,\n",
       "   701,\n",
       "   703,\n",
       "   705,\n",
       "   707,\n",
       "   709,\n",
       "   711,\n",
       "   713,\n",
       "   715,\n",
       "   717,\n",
       "   719,\n",
       "   721,\n",
       "   723,\n",
       "   725,\n",
       "   727,\n",
       "   729,\n",
       "   731,\n",
       "   733,\n",
       "   735,\n",
       "   737,\n",
       "   739,\n",
       "   741,\n",
       "   743,\n",
       "   745,\n",
       "   747,\n",
       "   749,\n",
       "   751,\n",
       "   753,\n",
       "   755,\n",
       "   757,\n",
       "   759,\n",
       "   761,\n",
       "   763,\n",
       "   765,\n",
       "   767,\n",
       "   769,\n",
       "   771,\n",
       "   773,\n",
       "   775,\n",
       "   777,\n",
       "   779,\n",
       "   781,\n",
       "   783,\n",
       "   785,\n",
       "   787,\n",
       "   789,\n",
       "   791,\n",
       "   793,\n",
       "   795,\n",
       "   797,\n",
       "   799,\n",
       "   801,\n",
       "   803,\n",
       "   805,\n",
       "   807,\n",
       "   809,\n",
       "   811,\n",
       "   813,\n",
       "   815,\n",
       "   817,\n",
       "   819,\n",
       "   821,\n",
       "   823,\n",
       "   825,\n",
       "   827,\n",
       "   829,\n",
       "   831,\n",
       "   833,\n",
       "   835,\n",
       "   837,\n",
       "   839,\n",
       "   841,\n",
       "   843,\n",
       "   845,\n",
       "   847,\n",
       "   849,\n",
       "   851,\n",
       "   853,\n",
       "   855,\n",
       "   857,\n",
       "   859,\n",
       "   861,\n",
       "   863,\n",
       "   865,\n",
       "   867,\n",
       "   869,\n",
       "   871,\n",
       "   873,\n",
       "   875,\n",
       "   877,\n",
       "   879,\n",
       "   881,\n",
       "   883,\n",
       "   885,\n",
       "   887,\n",
       "   889,\n",
       "   891,\n",
       "   893,\n",
       "   895,\n",
       "   897,\n",
       "   899,\n",
       "   901,\n",
       "   903,\n",
       "   905,\n",
       "   907,\n",
       "   909,\n",
       "   911,\n",
       "   913,\n",
       "   915,\n",
       "   917,\n",
       "   919,\n",
       "   921,\n",
       "   923,\n",
       "   925,\n",
       "   927,\n",
       "   929,\n",
       "   931,\n",
       "   933,\n",
       "   935,\n",
       "   937,\n",
       "   939,\n",
       "   941,\n",
       "   943,\n",
       "   945,\n",
       "   947,\n",
       "   949,\n",
       "   951,\n",
       "   953,\n",
       "   955,\n",
       "   957,\n",
       "   959,\n",
       "   961,\n",
       "   963,\n",
       "   965,\n",
       "   967,\n",
       "   969,\n",
       "   971,\n",
       "   973,\n",
       "   975,\n",
       "   977,\n",
       "   979,\n",
       "   981,\n",
       "   983,\n",
       "   985,\n",
       "   987,\n",
       "   989,\n",
       "   991,\n",
       "   993,\n",
       "   995,\n",
       "   997,\n",
       "   999])]"
      ]
     },
     "execution_count": 32,
     "metadata": {},
     "output_type": "execute_result"
    }
   ],
   "source": [
    "integers_rdd.map(lambda x: (x % 2, x)).groupByKey().map(lambda x: (x[0], list(x[1]))).collect()"
   ]
  },
  {
   "cell_type": "markdown",
   "metadata": {},
   "source": [
    "* Distinct\n",
    "\n",
    "Elimina registros duplicados."
   ]
  },
  {
   "cell_type": "code",
   "execution_count": 34,
   "metadata": {
    "collapsed": false
   },
   "outputs": [
    {
     "data": {
      "text/plain": [
       "3000"
      ]
     },
     "execution_count": 34,
     "metadata": {},
     "output_type": "execute_result"
    }
   ],
   "source": [
    "integers_flat.count()"
   ]
  },
  {
   "cell_type": "code",
   "execution_count": 35,
   "metadata": {
    "collapsed": false
   },
   "outputs": [
    {
     "data": {
      "text/plain": [
       "1002"
      ]
     },
     "execution_count": 35,
     "metadata": {},
     "output_type": "execute_result"
    }
   ],
   "source": [
    "integers_flat.distinct().count()"
   ]
  },
  {
   "cell_type": "markdown",
   "metadata": {},
   "source": [
    "#### Transformaciones ####\n",
    "\n",
    "* Union"
   ]
  },
  {
   "cell_type": "code",
   "execution_count": 36,
   "metadata": {
    "collapsed": false
   },
   "outputs": [
    {
     "data": {
      "text/plain": [
       "1000"
      ]
     },
     "execution_count": 36,
     "metadata": {},
     "output_type": "execute_result"
    }
   ],
   "source": [
    "integers_2 = range(501, 1501)\n",
    "len(integers_2)"
   ]
  },
  {
   "cell_type": "code",
   "execution_count": 37,
   "metadata": {
    "collapsed": true
   },
   "outputs": [],
   "source": [
    "integers_rdd_2 = sc.parallelize(integers_2)"
   ]
  },
  {
   "cell_type": "code",
   "execution_count": 38,
   "metadata": {
    "collapsed": false
   },
   "outputs": [
    {
     "data": {
      "text/plain": [
       "1000"
      ]
     },
     "execution_count": 38,
     "metadata": {},
     "output_type": "execute_result"
    }
   ],
   "source": [
    "integers_rdd_2.count()"
   ]
  },
  {
   "cell_type": "code",
   "execution_count": 39,
   "metadata": {
    "collapsed": false
   },
   "outputs": [
    {
     "data": {
      "text/plain": [
       "1000"
      ]
     },
     "execution_count": 39,
     "metadata": {},
     "output_type": "execute_result"
    }
   ],
   "source": [
    "integers_rdd.count()"
   ]
  },
  {
   "cell_type": "code",
   "execution_count": 40,
   "metadata": {
    "collapsed": true
   },
   "outputs": [],
   "source": [
    "union = integers_rdd.union(integers_rdd_2)"
   ]
  },
  {
   "cell_type": "code",
   "execution_count": 41,
   "metadata": {
    "collapsed": false
   },
   "outputs": [
    {
     "data": {
      "text/plain": [
       "[1, 2, 3, 4, 5]"
      ]
     },
     "execution_count": 41,
     "metadata": {},
     "output_type": "execute_result"
    }
   ],
   "source": [
    "union.take(5)"
   ]
  },
  {
   "cell_type": "code",
   "execution_count": 42,
   "metadata": {
    "collapsed": false
   },
   "outputs": [
    {
     "data": {
      "text/plain": [
       "2000"
      ]
     },
     "execution_count": 42,
     "metadata": {},
     "output_type": "execute_result"
    }
   ],
   "source": [
    "union.count()"
   ]
  },
  {
   "cell_type": "markdown",
   "metadata": {},
   "source": [
    "* Intersection"
   ]
  },
  {
   "cell_type": "code",
   "execution_count": 43,
   "metadata": {
    "collapsed": true
   },
   "outputs": [],
   "source": [
    "intersection = integers_rdd.intersection(integers_rdd_2)"
   ]
  },
  {
   "cell_type": "code",
   "execution_count": 45,
   "metadata": {
    "collapsed": false
   },
   "outputs": [
    {
     "data": {
      "text/plain": [
       "500"
      ]
     },
     "execution_count": 45,
     "metadata": {},
     "output_type": "execute_result"
    }
   ],
   "source": [
    "intersection.count()"
   ]
  },
  {
   "cell_type": "code",
   "execution_count": 47,
   "metadata": {
    "collapsed": false
   },
   "outputs": [
    {
     "data": {
      "text/plain": [
       "[501, 502, 503, 504, 505, 506, 507, 508, 509, 510]"
      ]
     },
     "execution_count": 47,
     "metadata": {},
     "output_type": "execute_result"
    }
   ],
   "source": [
    "intersection.takeOrdered(10)"
   ]
  },
  {
   "cell_type": "markdown",
   "metadata": {},
   "source": [
    "* Subtract"
   ]
  },
  {
   "cell_type": "code",
   "execution_count": 48,
   "metadata": {
    "collapsed": true
   },
   "outputs": [],
   "source": [
    "subtract = integers_rdd.subtract(integers_rdd_2)"
   ]
  },
  {
   "cell_type": "code",
   "execution_count": 49,
   "metadata": {
    "collapsed": false
   },
   "outputs": [
    {
     "data": {
      "text/plain": [
       "500"
      ]
     },
     "execution_count": 49,
     "metadata": {},
     "output_type": "execute_result"
    }
   ],
   "source": [
    "subtract.count()"
   ]
  },
  {
   "cell_type": "code",
   "execution_count": 50,
   "metadata": {
    "collapsed": false
   },
   "outputs": [
    {
     "data": {
      "text/plain": [
       "[256,\n",
       " 384,\n",
       " 32,\n",
       " 112,\n",
       " 368,\n",
       " 480,\n",
       " 352,\n",
       " 80,\n",
       " 208,\n",
       " 96,\n",
       " 336,\n",
       " 464,\n",
       " 128,\n",
       " 448,\n",
       " 64,\n",
       " 160,\n",
       " 496,\n",
       " 48,\n",
       " 304,\n",
       " 176,\n",
       " 432,\n",
       " 192,\n",
       " 288,\n",
       " 320,\n",
       " 416,\n",
       " 224,\n",
       " 16,\n",
       " 144,\n",
       " 272,\n",
       " 240,\n",
       " 400,\n",
       " 1,\n",
       " 321,\n",
       " 257,\n",
       " 273,\n",
       " 17,\n",
       " 97,\n",
       " 177,\n",
       " 385,\n",
       " 65,\n",
       " 241,\n",
       " 369,\n",
       " 337,\n",
       " 497,\n",
       " 401,\n",
       " 225,\n",
       " 353,\n",
       " 481,\n",
       " 129,\n",
       " 81,\n",
       " 209,\n",
       " 161,\n",
       " 145,\n",
       " 113,\n",
       " 433,\n",
       " 449,\n",
       " 193,\n",
       " 49,\n",
       " 305,\n",
       " 465,\n",
       " 33,\n",
       " 289,\n",
       " 417,\n",
       " 258,\n",
       " 162,\n",
       " 2,\n",
       " 274,\n",
       " 34,\n",
       " 50,\n",
       " 402,\n",
       " 386,\n",
       " 338,\n",
       " 114,\n",
       " 242,\n",
       " 18,\n",
       " 498,\n",
       " 130,\n",
       " 98,\n",
       " 226,\n",
       " 146,\n",
       " 418,\n",
       " 82,\n",
       " 370,\n",
       " 66,\n",
       " 194,\n",
       " 354,\n",
       " 322,\n",
       " 290,\n",
       " 450,\n",
       " 210,\n",
       " 482,\n",
       " 178,\n",
       " 306,\n",
       " 466,\n",
       " 434,\n",
       " 179,\n",
       " 307,\n",
       " 435,\n",
       " 35,\n",
       " 291,\n",
       " 419,\n",
       " 259,\n",
       " 99,\n",
       " 51,\n",
       " 19,\n",
       " 147,\n",
       " 275,\n",
       " 403,\n",
       " 3,\n",
       " 323,\n",
       " 355,\n",
       " 131,\n",
       " 387,\n",
       " 115,\n",
       " 499,\n",
       " 163,\n",
       " 483,\n",
       " 371,\n",
       " 83,\n",
       " 211,\n",
       " 339,\n",
       " 467,\n",
       " 67,\n",
       " 227,\n",
       " 195,\n",
       " 451,\n",
       " 243,\n",
       " 68,\n",
       " 196,\n",
       " 388,\n",
       " 52,\n",
       " 180,\n",
       " 292,\n",
       " 308,\n",
       " 324,\n",
       " 420,\n",
       " 100,\n",
       " 20,\n",
       " 276,\n",
       " 404,\n",
       " 212,\n",
       " 4,\n",
       " 148,\n",
       " 132,\n",
       " 260,\n",
       " 164,\n",
       " 244,\n",
       " 372,\n",
       " 436,\n",
       " 116,\n",
       " 452,\n",
       " 356,\n",
       " 484,\n",
       " 36,\n",
       " 228,\n",
       " 84,\n",
       " 340,\n",
       " 468,\n",
       " 500,\n",
       " 213,\n",
       " 261,\n",
       " 341,\n",
       " 277,\n",
       " 5,\n",
       " 37,\n",
       " 453,\n",
       " 53,\n",
       " 437,\n",
       " 181,\n",
       " 69,\n",
       " 309,\n",
       " 229,\n",
       " 165,\n",
       " 101,\n",
       " 421,\n",
       " 117,\n",
       " 21,\n",
       " 149,\n",
       " 133,\n",
       " 405,\n",
       " 325,\n",
       " 389,\n",
       " 373,\n",
       " 245,\n",
       " 197,\n",
       " 469,\n",
       " 357,\n",
       " 485,\n",
       " 293,\n",
       " 85,\n",
       " 230,\n",
       " 262,\n",
       " 22,\n",
       " 358,\n",
       " 86,\n",
       " 342,\n",
       " 6,\n",
       " 294,\n",
       " 470,\n",
       " 406,\n",
       " 198,\n",
       " 326,\n",
       " 54,\n",
       " 182,\n",
       " 310,\n",
       " 438,\n",
       " 374,\n",
       " 38,\n",
       " 166,\n",
       " 278,\n",
       " 422,\n",
       " 150,\n",
       " 70,\n",
       " 134,\n",
       " 118,\n",
       " 454,\n",
       " 214,\n",
       " 390,\n",
       " 486,\n",
       " 246,\n",
       " 102,\n",
       " 375,\n",
       " 103,\n",
       " 87,\n",
       " 295,\n",
       " 263,\n",
       " 215,\n",
       " 343,\n",
       " 327,\n",
       " 455,\n",
       " 359,\n",
       " 231,\n",
       " 55,\n",
       " 183,\n",
       " 311,\n",
       " 439,\n",
       " 407,\n",
       " 39,\n",
       " 167,\n",
       " 71,\n",
       " 23,\n",
       " 151,\n",
       " 279,\n",
       " 487,\n",
       " 199,\n",
       " 471,\n",
       " 7,\n",
       " 135,\n",
       " 391,\n",
       " 423,\n",
       " 119,\n",
       " 247,\n",
       " 8,\n",
       " 88,\n",
       " 24,\n",
       " 120,\n",
       " 40,\n",
       " 360,\n",
       " 488,\n",
       " 328,\n",
       " 344,\n",
       " 472,\n",
       " 200,\n",
       " 104,\n",
       " 456,\n",
       " 392,\n",
       " 56,\n",
       " 152,\n",
       " 312,\n",
       " 440,\n",
       " 424,\n",
       " 184,\n",
       " 72,\n",
       " 296,\n",
       " 376,\n",
       " 216,\n",
       " 280,\n",
       " 408,\n",
       " 136,\n",
       " 232,\n",
       " 168,\n",
       " 248,\n",
       " 264,\n",
       " 409,\n",
       " 201,\n",
       " 265,\n",
       " 393,\n",
       " 297,\n",
       " 41,\n",
       " 9,\n",
       " 377,\n",
       " 329,\n",
       " 57,\n",
       " 233,\n",
       " 361,\n",
       " 217,\n",
       " 89,\n",
       " 105,\n",
       " 121,\n",
       " 345,\n",
       " 473,\n",
       " 137,\n",
       " 185,\n",
       " 441,\n",
       " 313,\n",
       " 457,\n",
       " 425,\n",
       " 489,\n",
       " 73,\n",
       " 25,\n",
       " 169,\n",
       " 153,\n",
       " 249,\n",
       " 281,\n",
       " 26,\n",
       " 282,\n",
       " 410,\n",
       " 58,\n",
       " 266,\n",
       " 10,\n",
       " 394,\n",
       " 74,\n",
       " 362,\n",
       " 106,\n",
       " 234,\n",
       " 490,\n",
       " 138,\n",
       " 90,\n",
       " 218,\n",
       " 346,\n",
       " 154,\n",
       " 330,\n",
       " 458,\n",
       " 202,\n",
       " 378,\n",
       " 186,\n",
       " 474,\n",
       " 314,\n",
       " 122,\n",
       " 442,\n",
       " 42,\n",
       " 170,\n",
       " 250,\n",
       " 298,\n",
       " 426,\n",
       " 299,\n",
       " 363,\n",
       " 219,\n",
       " 43,\n",
       " 155,\n",
       " 283,\n",
       " 411,\n",
       " 11,\n",
       " 75,\n",
       " 91,\n",
       " 395,\n",
       " 379,\n",
       " 171,\n",
       " 123,\n",
       " 251,\n",
       " 107,\n",
       " 139,\n",
       " 491,\n",
       " 27,\n",
       " 427,\n",
       " 267,\n",
       " 347,\n",
       " 475,\n",
       " 331,\n",
       " 203,\n",
       " 459,\n",
       " 235,\n",
       " 59,\n",
       " 187,\n",
       " 315,\n",
       " 443,\n",
       " 172,\n",
       " 60,\n",
       " 316,\n",
       " 444,\n",
       " 44,\n",
       " 300,\n",
       " 428,\n",
       " 476,\n",
       " 284,\n",
       " 412,\n",
       " 92,\n",
       " 188,\n",
       " 108,\n",
       " 12,\n",
       " 140,\n",
       " 396,\n",
       " 364,\n",
       " 124,\n",
       " 252,\n",
       " 156,\n",
       " 28,\n",
       " 268,\n",
       " 492,\n",
       " 220,\n",
       " 348,\n",
       " 204,\n",
       " 380,\n",
       " 236,\n",
       " 460,\n",
       " 76,\n",
       " 332,\n",
       " 13,\n",
       " 333,\n",
       " 45,\n",
       " 317,\n",
       " 445,\n",
       " 77,\n",
       " 269,\n",
       " 301,\n",
       " 429,\n",
       " 29,\n",
       " 109,\n",
       " 157,\n",
       " 285,\n",
       " 413,\n",
       " 381,\n",
       " 141,\n",
       " 365,\n",
       " 125,\n",
       " 397,\n",
       " 173,\n",
       " 189,\n",
       " 205,\n",
       " 461,\n",
       " 493,\n",
       " 61,\n",
       " 237,\n",
       " 93,\n",
       " 221,\n",
       " 349,\n",
       " 477,\n",
       " 253,\n",
       " 94,\n",
       " 14,\n",
       " 478,\n",
       " 30,\n",
       " 350,\n",
       " 62,\n",
       " 334,\n",
       " 190,\n",
       " 318,\n",
       " 142,\n",
       " 446,\n",
       " 46,\n",
       " 174,\n",
       " 302,\n",
       " 430,\n",
       " 382,\n",
       " 414,\n",
       " 270,\n",
       " 286,\n",
       " 398,\n",
       " 158,\n",
       " 126,\n",
       " 206,\n",
       " 462,\n",
       " 78,\n",
       " 222,\n",
       " 110,\n",
       " 238,\n",
       " 366,\n",
       " 494,\n",
       " 254,\n",
       " 111,\n",
       " 15,\n",
       " 303,\n",
       " 95,\n",
       " 47,\n",
       " 351,\n",
       " 479,\n",
       " 223,\n",
       " 239,\n",
       " 79,\n",
       " 463,\n",
       " 271,\n",
       " 63,\n",
       " 191,\n",
       " 367,\n",
       " 319,\n",
       " 447,\n",
       " 175,\n",
       " 159,\n",
       " 255,\n",
       " 431,\n",
       " 287,\n",
       " 415,\n",
       " 31,\n",
       " 143,\n",
       " 207,\n",
       " 399,\n",
       " 335,\n",
       " 127,\n",
       " 495,\n",
       " 383]"
      ]
     },
     "execution_count": 50,
     "metadata": {},
     "output_type": "execute_result"
    }
   ],
   "source": [
    "subtract.collect()"
   ]
  },
  {
   "cell_type": "markdown",
   "metadata": {},
   "source": [
    "#### Join ####\n",
    "\n",
    "Combina dos RDD en base a las claves de los registros. Junta cada registro del primer RDD con cada registro del segundo RDD con la misma clave. "
   ]
  },
  {
   "cell_type": "code",
   "execution_count": 51,
   "metadata": {
    "collapsed": true
   },
   "outputs": [],
   "source": [
    "data_alumnos = [\n",
    "  (1,'Damian'),\n",
    "  (2,'Luis'),\n",
    "  (3,'Martin'),\n",
    "  (4,'Natalia'),\n",
    "  (5,'Joaquin')\n",
    "]\n",
    "\n",
    "alumnos = sc.parallelize(data_alumnos)"
   ]
  },
  {
   "cell_type": "code",
   "execution_count": 52,
   "metadata": {
    "collapsed": false
   },
   "outputs": [
    {
     "data": {
      "text/plain": [
       "[(1, 'Damian'), (2, 'Luis'), (3, 'Martin'), (4, 'Natalia'), (5, 'Joaquin')]"
      ]
     },
     "execution_count": 52,
     "metadata": {},
     "output_type": "execute_result"
    }
   ],
   "source": [
    "alumnos.collect()"
   ]
  },
  {
   "cell_type": "code",
   "execution_count": 53,
   "metadata": {
    "collapsed": true
   },
   "outputs": [],
   "source": [
    "data_materias_aprobadas = [\n",
    "  (1, 'Algebra'),\n",
    "  (2, 'Análisis Matemático'),\n",
    "  (200, 'Algebra'),\n",
    "  (2, 'Física')\n",
    "]\n",
    "\n",
    "materias_aprobadas = sc.parallelize(data_materias_aprobadas)"
   ]
  },
  {
   "cell_type": "code",
   "execution_count": 54,
   "metadata": {
    "collapsed": false
   },
   "outputs": [
    {
     "data": {
      "text/plain": [
       "[(1, 'Algebra'), (2, 'Análisis Matemático'), (200, 'Algebra'), (2, 'Física')]"
      ]
     },
     "execution_count": 54,
     "metadata": {},
     "output_type": "execute_result"
    }
   ],
   "source": [
    "materias_aprobadas.collect()"
   ]
  },
  {
   "cell_type": "markdown",
   "metadata": {},
   "source": [
    "* Inner Join\n",
    "\n",
    "Cuando se llama para sets de datos del tipo (K,V) y (K,W) devuelve un set de datos del tipo (K, (V,W)) con todos los pares de elementos para cada clave que está en ambos sets simultaneamente."
   ]
  },
  {
   "cell_type": "code",
   "execution_count": 55,
   "metadata": {
    "collapsed": false
   },
   "outputs": [
    {
     "data": {
      "text/plain": [
       "[(1, ('Damian', 'Algebra')),\n",
       " (2, ('Luis', 'Análisis Matemático')),\n",
       " (2, ('Luis', 'Física'))]"
      ]
     },
     "execution_count": 55,
     "metadata": {},
     "output_type": "execute_result"
    }
   ],
   "source": [
    "alumnos.join(materias_aprobadas).collect()"
   ]
  },
  {
   "cell_type": "markdown",
   "metadata": {},
   "source": [
    "* Left Outer Join\n",
    "\n",
    "Cuando se llama para sets de datos del tipo (K,V) y (K,W) devuelve un set de datos del tipo (K, (V,W)) asegurándonos que todos los datos del set de datos izquierdo estaran en el resultado del join."
   ]
  },
  {
   "cell_type": "code",
   "execution_count": 56,
   "metadata": {
    "collapsed": false
   },
   "outputs": [
    {
     "data": {
      "text/plain": [
       "[(1, ('Damian', 'Algebra')),\n",
       " (2, ('Luis', 'Análisis Matemático')),\n",
       " (2, ('Luis', 'Física')),\n",
       " (3, ('Martin', None)),\n",
       " (4, ('Natalia', None)),\n",
       " (5, ('Joaquin', None))]"
      ]
     },
     "execution_count": 56,
     "metadata": {},
     "output_type": "execute_result"
    }
   ],
   "source": [
    "alumnos.leftOuterJoin(materias_aprobadas).collect()"
   ]
  },
  {
   "cell_type": "markdown",
   "metadata": {},
   "source": [
    "* Right Outer Join\n",
    "\n",
    "Cuando se llama para sets de datos del tipo (K,V) y (K,W) devuelve un set de datos del tipo (K, (V,W)) asegurándonos que todos los datos del set de datos derecho estaran en el resultado del join."
   ]
  },
  {
   "cell_type": "code",
   "execution_count": 57,
   "metadata": {
    "collapsed": false
   },
   "outputs": [
    {
     "data": {
      "text/plain": [
       "[(1, ('Damian', 'Algebra')),\n",
       " (2, ('Luis', 'Análisis Matemático')),\n",
       " (2, ('Luis', 'Física')),\n",
       " (200, (None, 'Algebra'))]"
      ]
     },
     "execution_count": 57,
     "metadata": {},
     "output_type": "execute_result"
    }
   ],
   "source": [
    "alumnos.rightOuterJoin(materias_aprobadas).collect()"
   ]
  },
  {
   "cell_type": "markdown",
   "metadata": {},
   "source": [
    "* Outer/Full Join\n",
    "\n",
    "Cuando se llama para sets de datos del tipo (K,V) y (K,W) devuelve un set de datos del tipo (K, (V,W)) asegurándonos que todos los datos de ambos set de datos estaran aunque no haya match de keys."
   ]
  },
  {
   "cell_type": "code",
   "execution_count": 58,
   "metadata": {
    "collapsed": false
   },
   "outputs": [
    {
     "data": {
      "text/plain": [
       "[(1, ('Damian', 'Algebra')),\n",
       " (2, ('Luis', 'Análisis Matemático')),\n",
       " (2, ('Luis', 'Física')),\n",
       " (3, ('Martin', None)),\n",
       " (4, ('Natalia', None)),\n",
       " (5, ('Joaquin', None)),\n",
       " (200, (None, 'Algebra'))]"
      ]
     },
     "execution_count": 58,
     "metadata": {},
     "output_type": "execute_result"
    }
   ],
   "source": [
    "alumnos.fullOuterJoin(materias_aprobadas).collect()"
   ]
  },
  {
   "cell_type": "markdown",
   "metadata": {},
   "source": [
    "* Broadcast Join\n",
    "\n",
    "__Variable Broadcast:__ Nos permite mantener una variable solo lectura cacheada en cada una de las maquinas del cluster en vez de enviar esa informacion con cada una de las tareas que se envian al cluster.\n",
    "Esto es particularmente util cuando cuando tareas a partir de multiples etapas (stages) necesitan la misma información o cuando cachear información de forma deserializada es importante.\n",
    "\n",
    "Tener en cuenta que esto es posible cuando uno de los data sets o conjunto de datos es lo suficientemente pequeño para ser broadcasteado a todos los nodos/workers del cluster.\n",
    "\n",
    "Cuando un valor es \"broadcasteado\" al cluster, este es copiado a los nodos/workers sólo una vez (en vez de múltiples veces si la información fuera a enviarse en cada task). De esta forma se resuelve la consulta más rapido."
   ]
  },
  {
   "cell_type": "code",
   "execution_count": 59,
   "metadata": {
    "collapsed": true
   },
   "outputs": [],
   "source": [
    "#RDD de productos por sus IDs identificando ventas de los mismos\n",
    "prods_data = [1, 11, 1, 4, 5, 11, 2, 3, 4, 5, 6, 4, 5, 4, 3, 2, 1, 11, 2, 3, 4, 5, 6, 4, 3, 2, 1, 1]\n",
    "prods = sc.parallelize(prods_data,3)"
   ]
  },
  {
   "cell_type": "code",
   "execution_count": 76,
   "metadata": {
    "collapsed": true
   },
   "outputs": [],
   "source": [
    "# Hash con los productos y sus nombres\n",
    "product_names = {1:'papas',\n",
    "                2:'cebollas',\n",
    "                3:'tomates',\n",
    "                4:'zanahorias',\n",
    "                5:'batatas',\n",
    "                6:'peras',\n",
    "                7:'cilantro',\n",
    "                8:'apio',\n",
    "                9:'morrones',\n",
    "                10:'manzanas',\n",
    "                11:'naranjas'}\n",
    "\n",
    "#Broadcast de la variable\n",
    "bproduct_names = sc.broadcast(product_names)"
   ]
  },
  {
   "cell_type": "code",
   "execution_count": 77,
   "metadata": {
    "collapsed": false
   },
   "outputs": [
    {
     "data": {
      "text/plain": [
       "[(3, 4), (1, 5), (4, 6), (2, 4), (5, 4)]"
      ]
     },
     "execution_count": 77,
     "metadata": {},
     "output_type": "execute_result"
    }
   ],
   "source": [
    "#Productos que se vendieron más de 4 veces\n",
    "popular_prods = prods.map(lambda x: (x, 1))\\\n",
    "                .reduceByKey(lambda x, y: x + y)\\\n",
    "                .filter(lambda x: x[1] >= 4)\n",
    "        \n",
    "popular_prods.collect()"
   ]
  },
  {
   "cell_type": "markdown",
   "metadata": {},
   "source": [
    "El join se realiza de forma implícita usando un map y dentro del mismo accediendo a la información de la variable a la que se realizo el broadcast via .value"
   ]
  },
  {
   "cell_type": "code",
   "execution_count": 78,
   "metadata": {
    "collapsed": false
   },
   "outputs": [],
   "source": [
    "popular_prods = popular_prods.map(lambda x: (bproduct_names.value[x[0]], x[0], x[1]))"
   ]
  },
  {
   "cell_type": "code",
   "execution_count": 79,
   "metadata": {
    "collapsed": false
   },
   "outputs": [
    {
     "data": {
      "text/plain": [
       "[('tomates', 3, 4),\n",
       " ('papas', 1, 5),\n",
       " ('zanahorias', 4, 6),\n",
       " ('cebollas', 2, 4),\n",
       " ('batatas', 5, 4)]"
      ]
     },
     "execution_count": 79,
     "metadata": {},
     "output_type": "execute_result"
    }
   ],
   "source": [
    "popular_prods.take(5)"
   ]
  },
  {
   "cell_type": "markdown",
   "metadata": {},
   "source": [
    "#### Transformaciones entre dos RDD ####"
   ]
  },
  {
   "cell_type": "code",
   "execution_count": 84,
   "metadata": {
    "collapsed": false
   },
   "outputs": [
    {
     "data": {
      "text/plain": [
       "8"
      ]
     },
     "execution_count": 84,
     "metadata": {},
     "output_type": "execute_result"
    }
   ],
   "source": [
    "numbers = sc.parallelize(range(1, 11))\n",
    "numbers.getNumPartitions()"
   ]
  },
  {
   "cell_type": "code",
   "execution_count": 85,
   "metadata": {
    "collapsed": false
   },
   "outputs": [
    {
     "data": {
      "text/plain": [
       "8"
      ]
     },
     "execution_count": 85,
     "metadata": {},
     "output_type": "execute_result"
    }
   ],
   "source": [
    "sc.defaultParallelism"
   ]
  },
  {
   "cell_type": "code",
   "execution_count": 86,
   "metadata": {
    "collapsed": false
   },
   "outputs": [
    {
     "data": {
      "text/plain": [
       "[1, 2, 3, 4, 5, 6, 7, 8, 9, 10]"
      ]
     },
     "execution_count": 86,
     "metadata": {},
     "output_type": "execute_result"
    }
   ],
   "source": [
    "numbers.collect()"
   ]
  },
  {
   "cell_type": "markdown",
   "metadata": {},
   "source": [
    "* Glom\n",
    "\n",
    "Junta los registros de cada partición en una lista."
   ]
  },
  {
   "cell_type": "code",
   "execution_count": 87,
   "metadata": {
    "collapsed": false
   },
   "outputs": [
    {
     "data": {
      "text/plain": [
       "[[1], [2], [3], [4, 5], [6], [7], [8], [9, 10]]"
      ]
     },
     "execution_count": 87,
     "metadata": {},
     "output_type": "execute_result"
    }
   ],
   "source": [
    "numbers.glom().collect()"
   ]
  },
  {
   "cell_type": "markdown",
   "metadata": {},
   "source": [
    "* MapPartitions\n",
    "\n",
    "Devuelve un nuevo RDD aplicando una función a cada partición del RDD."
   ]
  },
  {
   "cell_type": "code",
   "execution_count": 88,
   "metadata": {
    "collapsed": false
   },
   "outputs": [
    {
     "data": {
      "text/plain": [
       "[1, 2, 3, 9, 6, 7, 8, 19]"
      ]
     },
     "execution_count": 88,
     "metadata": {},
     "output_type": "execute_result"
    }
   ],
   "source": [
    "def f(iterator): yield __builtin__.sum(iterator)\n",
    "numbers.mapPartitions(f).collect()"
   ]
  },
  {
   "cell_type": "markdown",
   "metadata": {},
   "source": [
    "* Repartition\n",
    "\n",
    "Reshuffle los datos en el RDD de forma aleatoria para crear más o menos particiones y balancearlas.\n",
    "\n",
    "Hace un shuffle de todo los datos por la red."
   ]
  },
  {
   "cell_type": "code",
   "execution_count": 90,
   "metadata": {
    "collapsed": false
   },
   "outputs": [
    {
     "data": {
      "text/plain": [
       "4"
      ]
     },
     "execution_count": 90,
     "metadata": {},
     "output_type": "execute_result"
    }
   ],
   "source": [
    "numbers = sc.parallelize(range(1, 11), 4)\n",
    "numbers.getNumPartitions()"
   ]
  },
  {
   "cell_type": "code",
   "execution_count": 91,
   "metadata": {
    "collapsed": false
   },
   "outputs": [
    {
     "data": {
      "text/plain": [
       "[[1, 2], [3, 4, 5], [6, 7], [8, 9, 10]]"
      ]
     },
     "execution_count": 91,
     "metadata": {},
     "output_type": "execute_result"
    }
   ],
   "source": [
    "numbers.glom().collect()"
   ]
  },
  {
   "cell_type": "code",
   "execution_count": 92,
   "metadata": {
    "collapsed": true
   },
   "outputs": [],
   "source": [
    "numbers_2 = numbers.repartition(2)"
   ]
  },
  {
   "cell_type": "code",
   "execution_count": 93,
   "metadata": {
    "collapsed": false
   },
   "outputs": [
    {
     "data": {
      "text/plain": [
       "2"
      ]
     },
     "execution_count": 93,
     "metadata": {},
     "output_type": "execute_result"
    }
   ],
   "source": [
    "numbers_2.getNumPartitions()"
   ]
  },
  {
   "cell_type": "code",
   "execution_count": 94,
   "metadata": {
    "collapsed": false
   },
   "outputs": [
    {
     "data": {
      "text/plain": [
       "[[1, 3, 6, 8], [2, 4, 5, 7, 9, 10]]"
      ]
     },
     "execution_count": 94,
     "metadata": {},
     "output_type": "execute_result"
    }
   ],
   "source": [
    "numbers_2.glom().collect()        "
   ]
  },
  {
   "cell_type": "markdown",
   "metadata": {},
   "source": [
    "* Coalesce\n",
    "\n",
    "Decrementa la cantidad de particiones del RDD.\n",
    "\n",
    "No hace shuffle por defecto, solo pasa datos de una partición a otra.\n",
    "\n",
    "No quedan balanceadas."
   ]
  },
  {
   "cell_type": "code",
   "execution_count": 95,
   "metadata": {
    "collapsed": true
   },
   "outputs": [],
   "source": [
    "rdd_coalesce = numbers.coalesce(2)"
   ]
  },
  {
   "cell_type": "code",
   "execution_count": 96,
   "metadata": {
    "collapsed": false
   },
   "outputs": [
    {
     "data": {
      "text/plain": [
       "[[1, 2, 3, 4, 5], [6, 7, 8, 9, 10]]"
      ]
     },
     "execution_count": 96,
     "metadata": {},
     "output_type": "execute_result"
    }
   ],
   "source": [
    "rdd_coalesce.glom().collect()"
   ]
  },
  {
   "cell_type": "markdown",
   "metadata": {},
   "source": [
    "* RepartitionAndSortWithinPartitions\n",
    "\n",
    "Reparticiona un RDD de acuerdo a un particionador y ordena los registros en base a su clave.\n",
    "\n",
    "Los registros deben tener clave.\n",
    "\n",
    "Es más eficiente que hacer un repartition y luego un sort dentro de cada partición ya que realiza el sort en el mismo paso de shuffle."
   ]
  },
  {
   "cell_type": "code",
   "execution_count": 97,
   "metadata": {
    "collapsed": false
   },
   "outputs": [
    {
     "data": {
      "text/plain": [
       "[(1, 1),\n",
       " (2, 2),\n",
       " (3, 3),\n",
       " (4, 4),\n",
       " (5, 5),\n",
       " (6, 6),\n",
       " (7, 7),\n",
       " (8, 8),\n",
       " (9, 9),\n",
       " (10, 10)]"
      ]
     },
     "execution_count": 97,
     "metadata": {},
     "output_type": "execute_result"
    }
   ],
   "source": [
    "numbers.map(lambda x: (x, x)).collect()"
   ]
  },
  {
   "cell_type": "code",
   "execution_count": 98,
   "metadata": {
    "collapsed": false
   },
   "outputs": [
    {
     "data": {
      "text/plain": [
       "[[(1, 1)],\n",
       " [(2, 2)],\n",
       " [(3, 3)],\n",
       " [(4, 4), (5, 5)],\n",
       " [(6, 6)],\n",
       " [(7, 7)],\n",
       " [(8, 8)],\n",
       " [(9, 9), (10, 10)]]"
      ]
     },
     "execution_count": 98,
     "metadata": {},
     "output_type": "execute_result"
    }
   ],
   "source": [
    "rdd.map(lambda x: (x, x)).glom().collect()"
   ]
  },
  {
   "cell_type": "markdown",
   "metadata": {},
   "source": [
    "* Ascending"
   ]
  },
  {
   "cell_type": "code",
   "execution_count": 99,
   "metadata": {
    "collapsed": false
   },
   "outputs": [
    {
     "data": {
      "text/plain": [
       "[[(2, 2), (4, 4), (6, 6), (8, 8), (10, 10)],\n",
       " [(1, 1), (3, 3), (5, 5), (7, 7), (9, 9)]]"
      ]
     },
     "execution_count": 99,
     "metadata": {},
     "output_type": "execute_result"
    }
   ],
   "source": [
    "#Son dos particiones, hace clave % 2 para elegir a donde va\n",
    "numbers.map(lambda x: (x, x)).repartitionAndSortWithinPartitions(2).glom().collect()"
   ]
  },
  {
   "cell_type": "code",
   "execution_count": 100,
   "metadata": {
    "collapsed": false
   },
   "outputs": [
    {
     "data": {
      "text/plain": [
       "[[(0, 3), (0, 6), (0, 9), (2, 2), (2, 5), (2, 8)],\n",
       " [(1, 1), (1, 4), (1, 7), (1, 10)]]"
      ]
     },
     "execution_count": 100,
     "metadata": {},
     "output_type": "execute_result"
    }
   ],
   "source": [
    "numbers.map(lambda x: (x % 3, x)).repartitionAndSortWithinPartitions(2).glom().collect()"
   ]
  },
  {
   "cell_type": "code",
   "execution_count": 101,
   "metadata": {
    "collapsed": false
   },
   "outputs": [
    {
     "data": {
      "text/plain": [
       "[[(2, 2), (2, 5), (2, 8), (0, 3), (0, 6), (0, 9)],\n",
       " [(1, 1), (1, 4), (1, 7), (1, 10)]]"
      ]
     },
     "execution_count": 101,
     "metadata": {},
     "output_type": "execute_result"
    }
   ],
   "source": [
    "numbers.map(lambda x: (x % 3, x)).repartitionAndSortWithinPartitions(2, ascending=False).glom().collect()"
   ]
  },
  {
   "cell_type": "markdown",
   "metadata": {},
   "source": [
    "* PartitionFunc"
   ]
  },
  {
   "cell_type": "code",
   "execution_count": 102,
   "metadata": {
    "collapsed": false
   },
   "outputs": [
    {
     "data": {
      "text/plain": [
       "[[(2, 1),\n",
       "  (4, 2),\n",
       "  (6, 3),\n",
       "  (8, 4),\n",
       "  (10, 5),\n",
       "  (12, 6),\n",
       "  (14, 7),\n",
       "  (16, 8),\n",
       "  (18, 9),\n",
       "  (20, 10)],\n",
       " []]"
      ]
     },
     "execution_count": 102,
     "metadata": {},
     "output_type": "execute_result"
    }
   ],
   "source": [
    "#Todas las claves son múltiplo de 2, clave % 2 siempre es 0\n",
    "#Ordena todas en la misma partición\n",
    "numbers.map(lambda x: (x * 2, x)).repartitionAndSortWithinPartitions(2).glom().collect()"
   ]
  },
  {
   "cell_type": "code",
   "execution_count": 103,
   "metadata": {
    "collapsed": false
   },
   "outputs": [
    {
     "data": {
      "text/plain": [
       "[[(2, 1), (6, 3), (8, 4), (12, 6), (14, 7), (18, 9), (20, 10)],\n",
       " [(4, 2), (10, 5), (16, 8)]]"
      ]
     },
     "execution_count": 103,
     "metadata": {},
     "output_type": "execute_result"
    }
   ],
   "source": [
    "#Se puede cambiar la función de partición\n",
    "numbers.map(lambda x: (x * 2, x)).repartitionAndSortWithinPartitions(2, partitionFunc=lambda x: (x % 3)).glom().collect()"
   ]
  },
  {
   "cell_type": "markdown",
   "metadata": {},
   "source": [
    "#### Persistencia de RDD ####\n",
    "\n",
    "* Cache \n",
    "\n",
    "Cachea un RDD intermedio que va a ser utilizado varias veces de modo de evitar tener que ejecutar todas las transformaciones cada vez."
   ]
  },
  {
   "cell_type": "code",
   "execution_count": 105,
   "metadata": {
    "collapsed": true
   },
   "outputs": [],
   "source": [
    "large = sc.parallelize(range(1, 100000))"
   ]
  },
  {
   "cell_type": "code",
   "execution_count": 106,
   "metadata": {
    "collapsed": true
   },
   "outputs": [],
   "source": [
    "large_cached = large.map(lambda x: x * 10).cache()"
   ]
  },
  {
   "cell_type": "code",
   "execution_count": 107,
   "metadata": {
    "collapsed": false
   },
   "outputs": [
    {
     "data": {
      "text/plain": [
       "99999"
      ]
     },
     "execution_count": 107,
     "metadata": {},
     "output_type": "execute_result"
    }
   ],
   "source": [
    "large_cached.count()"
   ]
  },
  {
   "cell_type": "code",
   "execution_count": 108,
   "metadata": {
    "collapsed": false
   },
   "outputs": [
    {
     "data": {
      "text/plain": [
       "[10, 20, 30, 40, 50, 60, 70, 80, 90, 100]"
      ]
     },
     "execution_count": 108,
     "metadata": {},
     "output_type": "execute_result"
    }
   ],
   "source": [
    "large_cached.take(10)"
   ]
  },
  {
   "cell_type": "markdown",
   "metadata": {},
   "source": [
    "* SaveAsTextFile\n",
    "\n",
    "Guarda un RDD a disco en un archivo de texto."
   ]
  },
  {
   "cell_type": "code",
   "execution_count": 109,
   "metadata": {
    "collapsed": true
   },
   "outputs": [],
   "source": [
    "large.saveAsTextFile('numbers.txt')"
   ]
  },
  {
   "cell_type": "code",
   "execution_count": 113,
   "metadata": {
    "collapsed": true
   },
   "outputs": [],
   "source": [
    "large_text = sc.textFile('numbers.txt')"
   ]
  },
  {
   "cell_type": "code",
   "execution_count": 117,
   "metadata": {
    "collapsed": false
   },
   "outputs": [
    {
     "data": {
      "text/plain": [
       "['62500',\n",
       " '62501',\n",
       " '62502',\n",
       " '62503',\n",
       " '62504',\n",
       " '62505',\n",
       " '62506',\n",
       " '62507',\n",
       " '62508',\n",
       " '62509']"
      ]
     },
     "execution_count": 117,
     "metadata": {},
     "output_type": "execute_result"
    }
   ],
   "source": [
    "large_text.take(10)"
   ]
  },
  {
   "cell_type": "markdown",
   "metadata": {},
   "source": [
    "* SaveAsPickleFile\n",
    "\n",
    "Guarda un RDD a disco en un archivo con los datos serializados."
   ]
  },
  {
   "cell_type": "code",
   "execution_count": 112,
   "metadata": {
    "collapsed": true
   },
   "outputs": [],
   "source": [
    "large.saveAsPickleFile('numbers2.file')"
   ]
  },
  {
   "cell_type": "code",
   "execution_count": 115,
   "metadata": {
    "collapsed": true
   },
   "outputs": [],
   "source": [
    "large_serial = sc.pickleFile('numbers2.file/')"
   ]
  },
  {
   "cell_type": "code",
   "execution_count": 116,
   "metadata": {
    "collapsed": false
   },
   "outputs": [
    {
     "data": {
      "text/plain": [
       "[62500, 62501, 62502, 62503, 62504, 62505, 62506, 62507, 62508, 62509]"
      ]
     },
     "execution_count": 116,
     "metadata": {},
     "output_type": "execute_result"
    }
   ],
   "source": [
    "large_serial.take(10)"
   ]
  }
 ],
 "metadata": {
  "anaconda-cloud": {},
  "kernelspec": {
   "display_name": "pySpark",
   "language": "python",
   "name": "pyspark"
  },
  "language_info": {
   "codemirror_mode": {
    "name": "ipython",
    "version": 3
   },
   "file_extension": ".py",
   "mimetype": "text/x-python",
   "name": "python",
   "nbconvert_exporter": "python",
   "pygments_lexer": "ipython3",
   "version": "3.5.2"
  }
 },
 "nbformat": 4,
 "nbformat_minor": 1
}
