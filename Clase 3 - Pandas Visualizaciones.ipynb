{
 "cells": [
  {
   "cell_type": "markdown",
   "metadata": {},
   "source": [
    "### Plots ###"
   ]
  },
  {
   "cell_type": "code",
   "execution_count": 1,
   "metadata": {},
   "outputs": [
    {
     "data": {
      "text/html": [
       "<div>\n",
       "<style scoped>\n",
       "    .dataframe tbody tr th:only-of-type {\n",
       "        vertical-align: middle;\n",
       "    }\n",
       "\n",
       "    .dataframe tbody tr th {\n",
       "        vertical-align: top;\n",
       "    }\n",
       "\n",
       "    .dataframe thead th {\n",
       "        text-align: right;\n",
       "    }\n",
       "</style>\n",
       "<table border=\"1\" class=\"dataframe\">\n",
       "  <thead>\n",
       "    <tr style=\"text-align: right;\">\n",
       "      <th></th>\n",
       "      <th>_unit_id</th>\n",
       "      <th>_golden</th>\n",
       "      <th>_unit_state</th>\n",
       "      <th>_trusted_judgments</th>\n",
       "      <th>_last_judgment_at</th>\n",
       "      <th>birthplace</th>\n",
       "      <th>birthplace:confidence</th>\n",
       "      <th>date_of_birth</th>\n",
       "      <th>date_of_birth:confidence</th>\n",
       "      <th>race_ethnicity</th>\n",
       "      <th>...</th>\n",
       "      <th>award</th>\n",
       "      <th>biourl</th>\n",
       "      <th>birthplace_gold</th>\n",
       "      <th>date_of_birth_gold</th>\n",
       "      <th>movie</th>\n",
       "      <th>person</th>\n",
       "      <th>race_ethnicity_gold</th>\n",
       "      <th>religion_gold</th>\n",
       "      <th>sexual_orientation_gold</th>\n",
       "      <th>year_of_award_gold</th>\n",
       "    </tr>\n",
       "  </thead>\n",
       "  <tbody>\n",
       "    <tr>\n",
       "      <th>436</th>\n",
       "      <td>670946276</td>\n",
       "      <td>False</td>\n",
       "      <td>finalized</td>\n",
       "      <td>3</td>\n",
       "      <td>2/10/15 2:00</td>\n",
       "      <td>London, England</td>\n",
       "      <td>1.0</td>\n",
       "      <td>7-Mar-71</td>\n",
       "      <td>1.0</td>\n",
       "      <td>White</td>\n",
       "      <td>...</td>\n",
       "      <td>Best Supporting Actress</td>\n",
       "      <td>http://www.nndb.com/people/309/000032213/</td>\n",
       "      <td>NaN</td>\n",
       "      <td>NaN</td>\n",
       "      <td>The Constant Gardener</td>\n",
       "      <td>Rachel Weisz</td>\n",
       "      <td>NaN</td>\n",
       "      <td>NaN</td>\n",
       "      <td>NaN</td>\n",
       "      <td>NaN</td>\n",
       "    </tr>\n",
       "    <tr>\n",
       "      <th>437</th>\n",
       "      <td>670946299</td>\n",
       "      <td>False</td>\n",
       "      <td>finalized</td>\n",
       "      <td>3</td>\n",
       "      <td>2/10/15 2:04</td>\n",
       "      <td>Manchester, England</td>\n",
       "      <td>1.0</td>\n",
       "      <td>20-Oct-56</td>\n",
       "      <td>1.0</td>\n",
       "      <td>White</td>\n",
       "      <td>...</td>\n",
       "      <td>Best Director</td>\n",
       "      <td>http://www.nndb.com/people/887/000044755/</td>\n",
       "      <td>NaN</td>\n",
       "      <td>NaN</td>\n",
       "      <td>Slumdog Millionaire</td>\n",
       "      <td>Danny Boyle</td>\n",
       "      <td>NaN</td>\n",
       "      <td>NaN</td>\n",
       "      <td>NaN</td>\n",
       "      <td>NaN</td>\n",
       "    </tr>\n",
       "    <tr>\n",
       "      <th>438</th>\n",
       "      <td>670964912</td>\n",
       "      <td>False</td>\n",
       "      <td>finalized</td>\n",
       "      <td>3</td>\n",
       "      <td>2/10/15 2:03</td>\n",
       "      <td>Chicago, Il</td>\n",
       "      <td>1.0</td>\n",
       "      <td>26-Jul-22</td>\n",
       "      <td>1.0</td>\n",
       "      <td>White</td>\n",
       "      <td>...</td>\n",
       "      <td>Best Supporting Actor</td>\n",
       "      <td>http://www.nndb.com/people/224/000032128/</td>\n",
       "      <td>NaN</td>\n",
       "      <td>NaN</td>\n",
       "      <td>All the President's Men</td>\n",
       "      <td>Jason Robards</td>\n",
       "      <td>NaN</td>\n",
       "      <td>NaN</td>\n",
       "      <td>NaN</td>\n",
       "      <td>NaN</td>\n",
       "    </tr>\n",
       "    <tr>\n",
       "      <th>439</th>\n",
       "      <td>670964956</td>\n",
       "      <td>False</td>\n",
       "      <td>finalized</td>\n",
       "      <td>3</td>\n",
       "      <td>2/10/15 2:01</td>\n",
       "      <td>Laurel, Ne</td>\n",
       "      <td>1.0</td>\n",
       "      <td>31-Aug-28</td>\n",
       "      <td>1.0</td>\n",
       "      <td>White</td>\n",
       "      <td>...</td>\n",
       "      <td>Best Supporting Actor</td>\n",
       "      <td>http://www.nndb.com/people/764/000022698/</td>\n",
       "      <td>NaN</td>\n",
       "      <td>NaN</td>\n",
       "      <td>Affliction</td>\n",
       "      <td>James Coburn</td>\n",
       "      <td>NaN</td>\n",
       "      <td>NaN</td>\n",
       "      <td>NaN</td>\n",
       "      <td>NaN</td>\n",
       "    </tr>\n",
       "    <tr>\n",
       "      <th>440</th>\n",
       "      <td>670972898</td>\n",
       "      <td>False</td>\n",
       "      <td>finalized</td>\n",
       "      <td>3</td>\n",
       "      <td>2/10/15 2:01</td>\n",
       "      <td>Nevada, Mo</td>\n",
       "      <td>1.0</td>\n",
       "      <td>5-Aug-06</td>\n",
       "      <td>1.0</td>\n",
       "      <td>White</td>\n",
       "      <td>...</td>\n",
       "      <td>Best Director</td>\n",
       "      <td>http://www.nndb.com/people/704/000024632/</td>\n",
       "      <td>NaN</td>\n",
       "      <td>NaN</td>\n",
       "      <td>The Treasure of the Sierra Madre</td>\n",
       "      <td>John Huston</td>\n",
       "      <td>NaN</td>\n",
       "      <td>NaN</td>\n",
       "      <td>NaN</td>\n",
       "      <td>NaN</td>\n",
       "    </tr>\n",
       "  </tbody>\n",
       "</table>\n",
       "<p>5 rows × 27 columns</p>\n",
       "</div>"
      ],
      "text/plain": [
       "      _unit_id  _golden _unit_state  _trusted_judgments _last_judgment_at  \\\n",
       "436  670946276    False   finalized                   3      2/10/15 2:00   \n",
       "437  670946299    False   finalized                   3      2/10/15 2:04   \n",
       "438  670964912    False   finalized                   3      2/10/15 2:03   \n",
       "439  670964956    False   finalized                   3      2/10/15 2:01   \n",
       "440  670972898    False   finalized                   3      2/10/15 2:01   \n",
       "\n",
       "              birthplace  birthplace:confidence date_of_birth  \\\n",
       "436      London, England                    1.0      7-Mar-71   \n",
       "437  Manchester, England                    1.0     20-Oct-56   \n",
       "438          Chicago, Il                    1.0     26-Jul-22   \n",
       "439           Laurel, Ne                    1.0     31-Aug-28   \n",
       "440           Nevada, Mo                    1.0      5-Aug-06   \n",
       "\n",
       "     date_of_birth:confidence race_ethnicity  ...                    award  \\\n",
       "436                       1.0          White  ...  Best Supporting Actress   \n",
       "437                       1.0          White  ...            Best Director   \n",
       "438                       1.0          White  ...    Best Supporting Actor   \n",
       "439                       1.0          White  ...    Best Supporting Actor   \n",
       "440                       1.0          White  ...            Best Director   \n",
       "\n",
       "                                        biourl  birthplace_gold  \\\n",
       "436  http://www.nndb.com/people/309/000032213/              NaN   \n",
       "437  http://www.nndb.com/people/887/000044755/              NaN   \n",
       "438  http://www.nndb.com/people/224/000032128/              NaN   \n",
       "439  http://www.nndb.com/people/764/000022698/              NaN   \n",
       "440  http://www.nndb.com/people/704/000024632/              NaN   \n",
       "\n",
       "    date_of_birth_gold                             movie         person  \\\n",
       "436                NaN             The Constant Gardener   Rachel Weisz   \n",
       "437                NaN               Slumdog Millionaire    Danny Boyle   \n",
       "438                NaN           All the President's Men  Jason Robards   \n",
       "439                NaN                        Affliction   James Coburn   \n",
       "440                NaN  The Treasure of the Sierra Madre    John Huston   \n",
       "\n",
       "     race_ethnicity_gold religion_gold sexual_orientation_gold  \\\n",
       "436                  NaN           NaN                     NaN   \n",
       "437                  NaN           NaN                     NaN   \n",
       "438                  NaN           NaN                     NaN   \n",
       "439                  NaN           NaN                     NaN   \n",
       "440                  NaN           NaN                     NaN   \n",
       "\n",
       "    year_of_award_gold  \n",
       "436                NaN  \n",
       "437                NaN  \n",
       "438                NaN  \n",
       "439                NaN  \n",
       "440                NaN  \n",
       "\n",
       "[5 rows x 27 columns]"
      ]
     },
     "execution_count": 1,
     "metadata": {},
     "output_type": "execute_result"
    }
   ],
   "source": [
    "import pandas as pd\n",
    "import numpy as np\n",
    "import seaborn as sns\n",
    "import matplotlib.pyplot as plt\n",
    "%matplotlib inline\n",
    "\n",
    "oscars = pd.read_csv('./Datasets/Oscars-demographics.csv', encoding='latin-1')\n",
    "oscars.tail(5)"
   ]
  },
  {
   "cell_type": "code",
   "execution_count": 2,
   "metadata": {
    "scrolled": true
   },
   "outputs": [
    {
     "data": {
      "image/png": "[encoded data removed]",
      "text/plain": [
       "<Figure size 864x288 with 1 Axes>"
      ]
     },
     "metadata": {
      "needs_background": "light"
     },
     "output_type": "display_data"
    }
   ],
   "source": [
    "fig = plt.figure()\n",
    "ax = fig.add_subplot(111)\n",
    "\n",
    "plt.title('Year of Award variable: Histogram', fontsize=16, fontweight='bold')\n",
    "ax.set_xlabel('Year of award')\n",
    "oscars['year_of_award'].plot.hist(color='darksalmon', figsize=(12, 4), bins=10)\n",
    "\n",
    "plt.show()"
   ]
  },
  {
   "cell_type": "code",
   "execution_count": 3,
   "metadata": {},
   "outputs": [
    {
     "data": {
      "image/png": "[encoded data removed]",
      "text/plain": [
       "<Figure size 864x288 with 1 Axes>"
      ]
     },
     "metadata": {
      "needs_background": "light"
     },
     "output_type": "display_data"
    }
   ],
   "source": [
    "fig = plt.figure()\n",
    "ax = fig.add_subplot(111)\n",
    "\n",
    "plt.title('Year of Award variable: Histogram', fontsize=16, fontweight='bold')\n",
    "ax.set_xlabel('year_of_award')\n",
    "oscars['year_of_award'].plot.hist(orientation='horizontal', color='lightblue', figsize=(12, 4), bins=10)\n",
    "\n",
    "plt.show()"
   ]
  },
  {
   "cell_type": "code",
   "execution_count": 4,
   "metadata": {},
   "outputs": [
    {
     "data": {
      "image/png": "[encoded data removed]",
      "text/plain": [
       "<Figure size 864x288 with 1 Axes>"
      ]
     },
     "metadata": {
      "needs_background": "light"
     },
     "output_type": "display_data"
    }
   ],
   "source": [
    "fig = plt.figure()\n",
    "ax = fig.add_subplot(111)\n",
    "\n",
    "plt.title('Year of Award variable: Histogram', fontsize=16, fontweight='bold')\n",
    "ax.set_xlabel('year_of_award')\n",
    "oscars['year_of_award'].plot.kde(color='blue', figsize=(12, 4))\n",
    "\n",
    "plt.show()"
   ]
  },
  {
   "cell_type": "code",
   "execution_count": 5,
   "metadata": {},
   "outputs": [
    {
     "data": {
      "image/png": "[encoded data removed]",
      "text/plain": [
       "<Figure size 576x288 with 2 Axes>"
      ]
     },
     "metadata": {
      "needs_background": "light"
     },
     "output_type": "display_data"
    }
   ],
   "source": [
    "fig = plt.figure()\n",
    "ax = fig.add_subplot(111)\n",
    "\n",
    "plt.title('Year of Award variable: Histogram & KDE', fontsize=16, fontweight='bold')\n",
    "oscars['year_of_award'].plot.hist(color='lightsteelblue', figsize=(8, 4))\n",
    "oscars['year_of_award'].plot.kde(color='blue', ax=ax, secondary_y=True)\n",
    "ax.set_xlabel('Year of award')\n",
    "ax.set_ylabel('Density')\n",
    "plt.show()"
   ]
  },
  {
   "cell_type": "code",
   "execution_count": 6,
   "metadata": {},
   "outputs": [
    {
     "data": {
      "text/plain": [
       "Text(0.5, 1.0, 'Other histogram & density plot')"
      ]
     },
     "execution_count": 6,
     "metadata": {},
     "output_type": "execute_result"
    },
    {
     "data": {
      "image/png": "[encoded data removed]",
      "text/plain": [
       "<Figure size 432x288 with 1 Axes>"
      ]
     },
     "metadata": {
      "needs_background": "light"
     },
     "output_type": "display_data"
    }
   ],
   "source": [
    "sns.distplot(oscars['year_of_award'], hist=True, \n",
    "             kde=True, bins=int(180/5), color='lightblue', hist_kws = {'edgecolor':'grey'}, kde_kws={'linewidth':'4'})\n",
    "\n",
    "plt.xlabel('Year of award')\n",
    "plt.ylabel('Density')\n",
    "plt.title('Other histogram & density plot')"
   ]
  },
  {
   "cell_type": "code",
   "execution_count": 7,
   "metadata": {},
   "outputs": [
    {
     "data": {
      "text/plain": [
       "Paul Scofield      1\n",
       "George Roy Hill    1\n",
       "Lee Marvin         1\n",
       "John Gielgud       1\n",
       "Ethel Barrymore    1\n",
       "Name: person, dtype: int64"
      ]
     },
     "execution_count": 7,
     "metadata": {},
     "output_type": "execute_result"
    }
   ],
   "source": [
    "oscars_people = oscars['person'].value_counts()\n",
    "oscars_people.tail()"
   ]
  },
  {
   "cell_type": "code",
   "execution_count": 8,
   "metadata": {},
   "outputs": [
    {
     "data": {
      "text/html": [
       "<div>\n",
       "<style scoped>\n",
       "    .dataframe tbody tr th:only-of-type {\n",
       "        vertical-align: middle;\n",
       "    }\n",
       "\n",
       "    .dataframe tbody tr th {\n",
       "        vertical-align: top;\n",
       "    }\n",
       "\n",
       "    .dataframe thead th {\n",
       "        text-align: right;\n",
       "    }\n",
       "</style>\n",
       "<table border=\"1\" class=\"dataframe\">\n",
       "  <thead>\n",
       "    <tr style=\"text-align: right;\">\n",
       "      <th></th>\n",
       "      <th>person</th>\n",
       "    </tr>\n",
       "  </thead>\n",
       "  <tbody>\n",
       "    <tr>\n",
       "      <th>Paul Scofield</th>\n",
       "      <td>1</td>\n",
       "    </tr>\n",
       "    <tr>\n",
       "      <th>George Roy Hill</th>\n",
       "      <td>1</td>\n",
       "    </tr>\n",
       "    <tr>\n",
       "      <th>Lee Marvin</th>\n",
       "      <td>1</td>\n",
       "    </tr>\n",
       "    <tr>\n",
       "      <th>John Gielgud</th>\n",
       "      <td>1</td>\n",
       "    </tr>\n",
       "    <tr>\n",
       "      <th>Ethel Barrymore</th>\n",
       "      <td>1</td>\n",
       "    </tr>\n",
       "  </tbody>\n",
       "</table>\n",
       "</div>"
      ],
      "text/plain": [
       "                 person\n",
       "Paul Scofield         1\n",
       "George Roy Hill       1\n",
       "Lee Marvin            1\n",
       "John Gielgud          1\n",
       "Ethel Barrymore       1"
      ]
     },
     "execution_count": 8,
     "metadata": {},
     "output_type": "execute_result"
    }
   ],
   "source": [
    "oscars_people_df = oscars_people.to_frame()\n",
    "oscars_people_df.tail()"
   ]
  },
  {
   "cell_type": "code",
   "execution_count": 9,
   "metadata": {},
   "outputs": [
    {
     "data": {
      "text/plain": [
       "Text(0.5, 0, 'Name')"
      ]
     },
     "execution_count": 9,
     "metadata": {},
     "output_type": "execute_result"
    },
    {
     "data": {
      "image/png": "[encoded data removed]",
      "text/plain": [
       "<Figure size 1152x576 with 1 Axes>"
      ]
     },
     "metadata": {
      "needs_background": "light"
     },
     "output_type": "display_data"
    }
   ],
   "source": [
    "oscars_people_df.head(20).plot(kind='bar',  rot=85, title='Top Award Winners', color=(0.7, 0.2, 0.4, 0.6), figsize=(16, 8))\n",
    "ax = plt.gca()\n",
    "ax.set_ylabel('Oscars')\n",
    "ax.set_xlabel('Name')"
   ]
  },
  {
   "cell_type": "code",
   "execution_count": 10,
   "metadata": {},
   "outputs": [
    {
     "data": {
      "text/html": [
       "<div>\n",
       "<style scoped>\n",
       "    .dataframe tbody tr th:only-of-type {\n",
       "        vertical-align: middle;\n",
       "    }\n",
       "\n",
       "    .dataframe tbody tr th {\n",
       "        vertical-align: top;\n",
       "    }\n",
       "\n",
       "    .dataframe thead th {\n",
       "        text-align: right;\n",
       "    }\n",
       "</style>\n",
       "<table border=\"1\" class=\"dataframe\">\n",
       "  <thead>\n",
       "    <tr style=\"text-align: right;\">\n",
       "      <th></th>\n",
       "      <th>_unit_id</th>\n",
       "      <th>_golden</th>\n",
       "      <th>_unit_state</th>\n",
       "      <th>_trusted_judgments</th>\n",
       "      <th>_last_judgment_at</th>\n",
       "      <th>birthplace</th>\n",
       "      <th>birthplace:confidence</th>\n",
       "      <th>date_of_birth</th>\n",
       "      <th>date_of_birth:confidence</th>\n",
       "      <th>race_ethnicity</th>\n",
       "      <th>...</th>\n",
       "      <th>biourl</th>\n",
       "      <th>birthplace_gold</th>\n",
       "      <th>date_of_birth_gold</th>\n",
       "      <th>movie</th>\n",
       "      <th>person</th>\n",
       "      <th>race_ethnicity_gold</th>\n",
       "      <th>religion_gold</th>\n",
       "      <th>sexual_orientation_gold</th>\n",
       "      <th>year_of_award_gold</th>\n",
       "      <th>age_at_award</th>\n",
       "    </tr>\n",
       "  </thead>\n",
       "  <tbody>\n",
       "    <tr>\n",
       "      <th>436</th>\n",
       "      <td>670946276</td>\n",
       "      <td>False</td>\n",
       "      <td>finalized</td>\n",
       "      <td>3</td>\n",
       "      <td>2/10/15 2:00</td>\n",
       "      <td>London, England</td>\n",
       "      <td>1.0</td>\n",
       "      <td>1971-03-07</td>\n",
       "      <td>1.0</td>\n",
       "      <td>White</td>\n",
       "      <td>...</td>\n",
       "      <td>http://www.nndb.com/people/309/000032213/</td>\n",
       "      <td>NaN</td>\n",
       "      <td>NaN</td>\n",
       "      <td>The Constant Gardener</td>\n",
       "      <td>Rachel Weisz</td>\n",
       "      <td>NaN</td>\n",
       "      <td>NaN</td>\n",
       "      <td>NaN</td>\n",
       "      <td>NaN</td>\n",
       "      <td>35.0</td>\n",
       "    </tr>\n",
       "    <tr>\n",
       "      <th>437</th>\n",
       "      <td>670946299</td>\n",
       "      <td>False</td>\n",
       "      <td>finalized</td>\n",
       "      <td>3</td>\n",
       "      <td>2/10/15 2:04</td>\n",
       "      <td>Manchester, England</td>\n",
       "      <td>1.0</td>\n",
       "      <td>2056-10-20</td>\n",
       "      <td>1.0</td>\n",
       "      <td>White</td>\n",
       "      <td>...</td>\n",
       "      <td>http://www.nndb.com/people/887/000044755/</td>\n",
       "      <td>NaN</td>\n",
       "      <td>NaN</td>\n",
       "      <td>Slumdog Millionaire</td>\n",
       "      <td>Danny Boyle</td>\n",
       "      <td>NaN</td>\n",
       "      <td>NaN</td>\n",
       "      <td>NaN</td>\n",
       "      <td>NaN</td>\n",
       "      <td>-47.0</td>\n",
       "    </tr>\n",
       "    <tr>\n",
       "      <th>438</th>\n",
       "      <td>670964912</td>\n",
       "      <td>False</td>\n",
       "      <td>finalized</td>\n",
       "      <td>3</td>\n",
       "      <td>2/10/15 2:03</td>\n",
       "      <td>Chicago, Il</td>\n",
       "      <td>1.0</td>\n",
       "      <td>2022-07-26</td>\n",
       "      <td>1.0</td>\n",
       "      <td>White</td>\n",
       "      <td>...</td>\n",
       "      <td>http://www.nndb.com/people/224/000032128/</td>\n",
       "      <td>NaN</td>\n",
       "      <td>NaN</td>\n",
       "      <td>All the President's Men</td>\n",
       "      <td>Jason Robards</td>\n",
       "      <td>NaN</td>\n",
       "      <td>NaN</td>\n",
       "      <td>NaN</td>\n",
       "      <td>NaN</td>\n",
       "      <td>-45.0</td>\n",
       "    </tr>\n",
       "    <tr>\n",
       "      <th>439</th>\n",
       "      <td>670964956</td>\n",
       "      <td>False</td>\n",
       "      <td>finalized</td>\n",
       "      <td>3</td>\n",
       "      <td>2/10/15 2:01</td>\n",
       "      <td>Laurel, Ne</td>\n",
       "      <td>1.0</td>\n",
       "      <td>2028-08-31</td>\n",
       "      <td>1.0</td>\n",
       "      <td>White</td>\n",
       "      <td>...</td>\n",
       "      <td>http://www.nndb.com/people/764/000022698/</td>\n",
       "      <td>NaN</td>\n",
       "      <td>NaN</td>\n",
       "      <td>Affliction</td>\n",
       "      <td>James Coburn</td>\n",
       "      <td>NaN</td>\n",
       "      <td>NaN</td>\n",
       "      <td>NaN</td>\n",
       "      <td>NaN</td>\n",
       "      <td>-29.0</td>\n",
       "    </tr>\n",
       "    <tr>\n",
       "      <th>440</th>\n",
       "      <td>670972898</td>\n",
       "      <td>False</td>\n",
       "      <td>finalized</td>\n",
       "      <td>3</td>\n",
       "      <td>2/10/15 2:01</td>\n",
       "      <td>Nevada, Mo</td>\n",
       "      <td>1.0</td>\n",
       "      <td>2006-08-05</td>\n",
       "      <td>1.0</td>\n",
       "      <td>White</td>\n",
       "      <td>...</td>\n",
       "      <td>http://www.nndb.com/people/704/000024632/</td>\n",
       "      <td>NaN</td>\n",
       "      <td>NaN</td>\n",
       "      <td>The Treasure of the Sierra Madre</td>\n",
       "      <td>John Huston</td>\n",
       "      <td>NaN</td>\n",
       "      <td>NaN</td>\n",
       "      <td>NaN</td>\n",
       "      <td>NaN</td>\n",
       "      <td>-57.0</td>\n",
       "    </tr>\n",
       "  </tbody>\n",
       "</table>\n",
       "<p>5 rows × 28 columns</p>\n",
       "</div>"
      ],
      "text/plain": [
       "      _unit_id  _golden _unit_state  _trusted_judgments _last_judgment_at  \\\n",
       "436  670946276    False   finalized                   3      2/10/15 2:00   \n",
       "437  670946299    False   finalized                   3      2/10/15 2:04   \n",
       "438  670964912    False   finalized                   3      2/10/15 2:03   \n",
       "439  670964956    False   finalized                   3      2/10/15 2:01   \n",
       "440  670972898    False   finalized                   3      2/10/15 2:01   \n",
       "\n",
       "              birthplace  birthplace:confidence date_of_birth  \\\n",
       "436      London, England                    1.0    1971-03-07   \n",
       "437  Manchester, England                    1.0    2056-10-20   \n",
       "438          Chicago, Il                    1.0    2022-07-26   \n",
       "439           Laurel, Ne                    1.0    2028-08-31   \n",
       "440           Nevada, Mo                    1.0    2006-08-05   \n",
       "\n",
       "     date_of_birth:confidence race_ethnicity  ...  \\\n",
       "436                       1.0          White  ...   \n",
       "437                       1.0          White  ...   \n",
       "438                       1.0          White  ...   \n",
       "439                       1.0          White  ...   \n",
       "440                       1.0          White  ...   \n",
       "\n",
       "                                        biourl birthplace_gold  \\\n",
       "436  http://www.nndb.com/people/309/000032213/             NaN   \n",
       "437  http://www.nndb.com/people/887/000044755/             NaN   \n",
       "438  http://www.nndb.com/people/224/000032128/             NaN   \n",
       "439  http://www.nndb.com/people/764/000022698/             NaN   \n",
       "440  http://www.nndb.com/people/704/000024632/             NaN   \n",
       "\n",
       "     date_of_birth_gold                             movie         person  \\\n",
       "436                 NaN             The Constant Gardener   Rachel Weisz   \n",
       "437                 NaN               Slumdog Millionaire    Danny Boyle   \n",
       "438                 NaN           All the President's Men  Jason Robards   \n",
       "439                 NaN                        Affliction   James Coburn   \n",
       "440                 NaN  The Treasure of the Sierra Madre    John Huston   \n",
       "\n",
       "     race_ethnicity_gold  religion_gold sexual_orientation_gold  \\\n",
       "436                  NaN            NaN                     NaN   \n",
       "437                  NaN            NaN                     NaN   \n",
       "438                  NaN            NaN                     NaN   \n",
       "439                  NaN            NaN                     NaN   \n",
       "440                  NaN            NaN                     NaN   \n",
       "\n",
       "    year_of_award_gold age_at_award  \n",
       "436                NaN         35.0  \n",
       "437                NaN        -47.0  \n",
       "438                NaN        -45.0  \n",
       "439                NaN        -29.0  \n",
       "440                NaN        -57.0  \n",
       "\n",
       "[5 rows x 28 columns]"
      ]
     },
     "execution_count": 10,
     "metadata": {},
     "output_type": "execute_result"
    }
   ],
   "source": [
    "oscars.loc[:, 'date_of_birth'] = pd.to_datetime(oscars['date_of_birth'], errors='coerce')\n",
    "oscars['age_at_award'] = oscars['year_of_award'] - (oscars['date_of_birth'].dt.year)\n",
    "oscars.tail()"
   ]
  },
  {
   "cell_type": "code",
   "execution_count": 11,
   "metadata": {},
   "outputs": [],
   "source": [
    "#Correción de las fechas de nacimiento incorrectas\n",
    "oscars['year_of_birth'] = oscars.loc[:, 'date_of_birth'].dt.year\n",
    "oscars['age_at_award'] = oscars['year_of_award'] - (oscars['date_of_birth'].dt.year)\n",
    "oscars.loc[oscars['age_at_award'] < 1, 'year_of_birth'] = oscars.loc[oscars['age_at_award'] < 1, 'year_of_birth'] - 100\n"
   ]
  },
  {
   "cell_type": "code",
   "execution_count": 12,
   "metadata": {},
   "outputs": [],
   "source": [
    "oscars['age_at_award'] = oscars['year_of_award'] - oscars['year_of_birth']"
   ]
  },
  {
   "cell_type": "code",
   "execution_count": 13,
   "metadata": {},
   "outputs": [
    {
     "data": {
      "text/plain": [
       "False    441\n",
       "Name: age_at_award, dtype: int64"
      ]
     },
     "execution_count": 13,
     "metadata": {},
     "output_type": "execute_result"
    }
   ],
   "source": [
    "(oscars['age_at_award'] < 0).value_counts()"
   ]
  },
  {
   "cell_type": "code",
   "execution_count": 14,
   "metadata": {},
   "outputs": [
    {
     "data": {
      "text/html": [
       "<div>\n",
       "<style scoped>\n",
       "    .dataframe tbody tr th:only-of-type {\n",
       "        vertical-align: middle;\n",
       "    }\n",
       "\n",
       "    .dataframe tbody tr th {\n",
       "        vertical-align: top;\n",
       "    }\n",
       "\n",
       "    .dataframe thead th {\n",
       "        text-align: right;\n",
       "    }\n",
       "</style>\n",
       "<table border=\"1\" class=\"dataframe\">\n",
       "  <thead>\n",
       "    <tr style=\"text-align: right;\">\n",
       "      <th></th>\n",
       "      <th>_unit_id</th>\n",
       "      <th>_golden</th>\n",
       "      <th>_unit_state</th>\n",
       "      <th>_trusted_judgments</th>\n",
       "      <th>_last_judgment_at</th>\n",
       "      <th>birthplace</th>\n",
       "      <th>birthplace:confidence</th>\n",
       "      <th>date_of_birth</th>\n",
       "      <th>date_of_birth:confidence</th>\n",
       "      <th>race_ethnicity</th>\n",
       "      <th>...</th>\n",
       "      <th>birthplace_gold</th>\n",
       "      <th>date_of_birth_gold</th>\n",
       "      <th>movie</th>\n",
       "      <th>person</th>\n",
       "      <th>race_ethnicity_gold</th>\n",
       "      <th>religion_gold</th>\n",
       "      <th>sexual_orientation_gold</th>\n",
       "      <th>year_of_award_gold</th>\n",
       "      <th>age_at_award</th>\n",
       "      <th>year_of_birth</th>\n",
       "    </tr>\n",
       "  </thead>\n",
       "  <tbody>\n",
       "    <tr>\n",
       "      <th>436</th>\n",
       "      <td>670946276</td>\n",
       "      <td>False</td>\n",
       "      <td>finalized</td>\n",
       "      <td>3</td>\n",
       "      <td>2/10/15 2:00</td>\n",
       "      <td>London, England</td>\n",
       "      <td>1.0</td>\n",
       "      <td>1971-03-07</td>\n",
       "      <td>1.0</td>\n",
       "      <td>White</td>\n",
       "      <td>...</td>\n",
       "      <td>NaN</td>\n",
       "      <td>NaN</td>\n",
       "      <td>The Constant Gardener</td>\n",
       "      <td>Rachel Weisz</td>\n",
       "      <td>NaN</td>\n",
       "      <td>NaN</td>\n",
       "      <td>NaN</td>\n",
       "      <td>NaN</td>\n",
       "      <td>35.0</td>\n",
       "      <td>1971.0</td>\n",
       "    </tr>\n",
       "    <tr>\n",
       "      <th>437</th>\n",
       "      <td>670946299</td>\n",
       "      <td>False</td>\n",
       "      <td>finalized</td>\n",
       "      <td>3</td>\n",
       "      <td>2/10/15 2:04</td>\n",
       "      <td>Manchester, England</td>\n",
       "      <td>1.0</td>\n",
       "      <td>2056-10-20</td>\n",
       "      <td>1.0</td>\n",
       "      <td>White</td>\n",
       "      <td>...</td>\n",
       "      <td>NaN</td>\n",
       "      <td>NaN</td>\n",
       "      <td>Slumdog Millionaire</td>\n",
       "      <td>Danny Boyle</td>\n",
       "      <td>NaN</td>\n",
       "      <td>NaN</td>\n",
       "      <td>NaN</td>\n",
       "      <td>NaN</td>\n",
       "      <td>53.0</td>\n",
       "      <td>1956.0</td>\n",
       "    </tr>\n",
       "    <tr>\n",
       "      <th>438</th>\n",
       "      <td>670964912</td>\n",
       "      <td>False</td>\n",
       "      <td>finalized</td>\n",
       "      <td>3</td>\n",
       "      <td>2/10/15 2:03</td>\n",
       "      <td>Chicago, Il</td>\n",
       "      <td>1.0</td>\n",
       "      <td>2022-07-26</td>\n",
       "      <td>1.0</td>\n",
       "      <td>White</td>\n",
       "      <td>...</td>\n",
       "      <td>NaN</td>\n",
       "      <td>NaN</td>\n",
       "      <td>All the President's Men</td>\n",
       "      <td>Jason Robards</td>\n",
       "      <td>NaN</td>\n",
       "      <td>NaN</td>\n",
       "      <td>NaN</td>\n",
       "      <td>NaN</td>\n",
       "      <td>55.0</td>\n",
       "      <td>1922.0</td>\n",
       "    </tr>\n",
       "    <tr>\n",
       "      <th>439</th>\n",
       "      <td>670964956</td>\n",
       "      <td>False</td>\n",
       "      <td>finalized</td>\n",
       "      <td>3</td>\n",
       "      <td>2/10/15 2:01</td>\n",
       "      <td>Laurel, Ne</td>\n",
       "      <td>1.0</td>\n",
       "      <td>2028-08-31</td>\n",
       "      <td>1.0</td>\n",
       "      <td>White</td>\n",
       "      <td>...</td>\n",
       "      <td>NaN</td>\n",
       "      <td>NaN</td>\n",
       "      <td>Affliction</td>\n",
       "      <td>James Coburn</td>\n",
       "      <td>NaN</td>\n",
       "      <td>NaN</td>\n",
       "      <td>NaN</td>\n",
       "      <td>NaN</td>\n",
       "      <td>71.0</td>\n",
       "      <td>1928.0</td>\n",
       "    </tr>\n",
       "    <tr>\n",
       "      <th>440</th>\n",
       "      <td>670972898</td>\n",
       "      <td>False</td>\n",
       "      <td>finalized</td>\n",
       "      <td>3</td>\n",
       "      <td>2/10/15 2:01</td>\n",
       "      <td>Nevada, Mo</td>\n",
       "      <td>1.0</td>\n",
       "      <td>2006-08-05</td>\n",
       "      <td>1.0</td>\n",
       "      <td>White</td>\n",
       "      <td>...</td>\n",
       "      <td>NaN</td>\n",
       "      <td>NaN</td>\n",
       "      <td>The Treasure of the Sierra Madre</td>\n",
       "      <td>John Huston</td>\n",
       "      <td>NaN</td>\n",
       "      <td>NaN</td>\n",
       "      <td>NaN</td>\n",
       "      <td>NaN</td>\n",
       "      <td>43.0</td>\n",
       "      <td>1906.0</td>\n",
       "    </tr>\n",
       "  </tbody>\n",
       "</table>\n",
       "<p>5 rows × 29 columns</p>\n",
       "</div>"
      ],
      "text/plain": [
       "      _unit_id  _golden _unit_state  _trusted_judgments _last_judgment_at  \\\n",
       "436  670946276    False   finalized                   3      2/10/15 2:00   \n",
       "437  670946299    False   finalized                   3      2/10/15 2:04   \n",
       "438  670964912    False   finalized                   3      2/10/15 2:03   \n",
       "439  670964956    False   finalized                   3      2/10/15 2:01   \n",
       "440  670972898    False   finalized                   3      2/10/15 2:01   \n",
       "\n",
       "              birthplace  birthplace:confidence date_of_birth  \\\n",
       "436      London, England                    1.0    1971-03-07   \n",
       "437  Manchester, England                    1.0    2056-10-20   \n",
       "438          Chicago, Il                    1.0    2022-07-26   \n",
       "439           Laurel, Ne                    1.0    2028-08-31   \n",
       "440           Nevada, Mo                    1.0    2006-08-05   \n",
       "\n",
       "     date_of_birth:confidence race_ethnicity  ...  birthplace_gold  \\\n",
       "436                       1.0          White  ...              NaN   \n",
       "437                       1.0          White  ...              NaN   \n",
       "438                       1.0          White  ...              NaN   \n",
       "439                       1.0          White  ...              NaN   \n",
       "440                       1.0          White  ...              NaN   \n",
       "\n",
       "    date_of_birth_gold                             movie         person  \\\n",
       "436                NaN             The Constant Gardener   Rachel Weisz   \n",
       "437                NaN               Slumdog Millionaire    Danny Boyle   \n",
       "438                NaN           All the President's Men  Jason Robards   \n",
       "439                NaN                        Affliction   James Coburn   \n",
       "440                NaN  The Treasure of the Sierra Madre    John Huston   \n",
       "\n",
       "     race_ethnicity_gold  religion_gold  sexual_orientation_gold  \\\n",
       "436                  NaN            NaN                      NaN   \n",
       "437                  NaN            NaN                      NaN   \n",
       "438                  NaN            NaN                      NaN   \n",
       "439                  NaN            NaN                      NaN   \n",
       "440                  NaN            NaN                      NaN   \n",
       "\n",
       "    year_of_award_gold age_at_award year_of_birth  \n",
       "436                NaN         35.0        1971.0  \n",
       "437                NaN         53.0        1956.0  \n",
       "438                NaN         55.0        1922.0  \n",
       "439                NaN         71.0        1928.0  \n",
       "440                NaN         43.0        1906.0  \n",
       "\n",
       "[5 rows x 29 columns]"
      ]
     },
     "execution_count": 14,
     "metadata": {},
     "output_type": "execute_result"
    }
   ],
   "source": [
    "oscars.tail()"
   ]
  },
  {
   "cell_type": "code",
   "execution_count": 15,
   "metadata": {},
   "outputs": [
    {
     "data": {
      "text/plain": [
       "Text(0.5, 0, 'Year')"
      ]
     },
     "execution_count": 15,
     "metadata": {},
     "output_type": "execute_result"
    },
    {
     "data": {
      "image/png": "[encoded data removed]",
      "text/plain": [
       "<Figure size 864x576 with 1 Axes>"
      ]
     },
     "metadata": {
      "needs_background": "light"
     },
     "output_type": "display_data"
    }
   ],
   "source": [
    "oscars.plot.scatter('year_of_award', 'age_at_award',\\\n",
    "                    title='Relation between Year of Award and Age',\\\n",
    "                    figsize=(12,8), alpha=0.90)\n",
    "ax = plt.gca()\n",
    "ax.set_ylabel('Age')\n",
    "ax.set_xlabel('Year')"
   ]
  },
  {
   "cell_type": "code",
   "execution_count": 16,
   "metadata": {},
   "outputs": [
    {
     "data": {
      "text/plain": [
       "441"
      ]
     },
     "execution_count": 16,
     "metadata": {},
     "output_type": "execute_result"
    }
   ],
   "source": [
    "oscars['race_ethnicity'].count()"
   ]
  }
 ],
 "metadata": {
  "kernelspec": {
   "display_name": "Python 3",
   "language": "python",
   "name": "python3"
  },
  "language_info": {
   "codemirror_mode": {
    "name": "ipython",
    "version": 3
   },
   "file_extension": ".py",
   "mimetype": "text/x-python",
   "name": "python",
   "nbconvert_exporter": "python",
   "pygments_lexer": "ipython3",
   "version": "3.7.7"
  }
 },
 "nbformat": 4,
 "nbformat_minor": 2
}
