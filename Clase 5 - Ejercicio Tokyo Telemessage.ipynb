{
 "cells": [
  {
   "cell_type": "markdown",
   "metadata": {},
   "source": [
    "### 2019 2C 1ra Oportunidad ###\n",
    "\n",
    "Tokyo Telemessage se encuentra analizando la posibilidad de dar finalmente de baja su servicio de pager que mantiene desde la década de 1980. Los pagers son un dispositivo de mensajería que realiza un ‘beep’ al recibir un mensaje de texto de un número limitado de caracteres. Para poder enviar un mensaje, uno debe llamar a un número telefónico que representa al pager dejando el mensaje a una operadora. Para el analisis se cuenta con dos csv’s: clientes.csv del siguiente formato (id_pager, numero_telefono, codigo_de_area, fecha_creacion_cuenta, nombre_cliente, region, categoria_cliente) y eventos.csv (año,mes,dia,hora,minutos,segundos, id_pager, mensaje, numero_origen).\n",
    "\n",
    "Como parte del análisis se desea responder: ¿Cuál es la región que aún tiene activos la mayor cantidad de pagers, entendiendo como activo aquellos que recibieron por lo menos un mensaje en el último mes? ¿Cuál es el porcentaje de pagers activos que solamente reciben mensajes únicamente de una persona (es decir, siempre desde el mismo número de origen)? Utilizar pandas para responder las anteriores preguntas."
   ]
  },
  {
   "cell_type": "code",
   "execution_count": 1,
   "metadata": {},
   "outputs": [],
   "source": [
    "import pandas as pd\n",
    "import numpy as np\n",
    "import matplotlib.pyplot as plt\n",
    "import seaborn as sns\n",
    "\n",
    "%matplotlib inline\n",
    "plt.style.use('default')\n",
    "sns.set(style=\"whitegrid\") # seteando tipo de grid en seaborn\n",
    "pd.options.display.float_format = '{:20,.2f}'.format # suprimimos la notacion cientifica en los outputs\n",
    "\n",
    "import warnings\n",
    "warnings.filterwarnings('ignore')"
   ]
  },
  {
   "cell_type": "code",
   "execution_count": 2,
   "metadata": {},
   "outputs": [],
   "source": [
    "# armamos un data frame para usarlo como ejemplo de S&OP 500\n",
    "tt_clients_data = {\n",
    "        'id_pager': ['1','2','3','4','5'],\n",
    "        'numero_telefono': ['1','2','3','4','5'],\n",
    "        'codigo_de_area': ['11','11','11','22','22'],\n",
    "        'fecha_creacion_cuenta': ['1983-01-01','1984-01-01','1984-01-01','1985-01-01','1986-01-01'],\n",
    "        'nombre_cliente': ['Okabe', 'Kurisu', 'Mayuri','Suzuha', 'Daru'],\n",
    "        'region': ['Akihabara', 'Akihabara', 'Akihabara', 'Kyoto', 'Kyoto'],\n",
    "        'categoria_cliente': ['1','1','2','2','1']\n",
    "}\n",
    "\n",
    "tt_clients = pd.DataFrame(tt_clients_data, columns = tt_clients_data.keys())"
   ]
  },
  {
   "cell_type": "code",
   "execution_count": 3,
   "metadata": {},
   "outputs": [],
   "source": [
    "# armamos un data frame para usarlo como ejemplo de S&OP 500\n",
    "tt_msgs_data = {\n",
    "        'anio': ['2020','2020','2020','2020','2020','2020','2020','2020','2020','2020'],\n",
    "        'mes': ['3','3','3','3','4','4','4','4','4','4'],\n",
    "        'dia': ['1','2','3','11','12','13','11','22','23','22'],\n",
    "        'minutos': ['1','2','3','11','12','13','11','22','23','22'],\n",
    "        'segundos': ['1','2','3','11','12','13','11','22','23','22'],\n",
    "        'id_pager': ['2','1','2','1','5','1','2','1','2','1'],\n",
    "        'mensaje': [\"I'm the great mad scientist, Hououin Kyoma\", \"I am a scientist, I have to act on my own theory.\", \n",
    "                    \"It's an intellectual drink for the chosen ones\", \"People's feelings are memories that transcend time.\",\n",
    "                    \"El Psy Kongroo\", \"Something must be wrong for you to use my actual name.\",\n",
    "                    \"It's the choice of Steins Gate.\", \"You've pretty much figured it all out by now, right?\",\n",
    "                    \"Sorry, The Zombie~~\", \"There was a scientific rationale for that!\"],\n",
    "        'numero_origen': ['1','2','1','2','1','1','2','1','2','1']\n",
    "}\n",
    "\n",
    "tt_msgs = pd.DataFrame(tt_msgs_data, columns = tt_msgs_data.keys())"
   ]
  },
  {
   "cell_type": "code",
   "execution_count": 4,
   "metadata": {},
   "outputs": [
    {
     "data": {
      "text/html": [
       "<div>\n",
       "<style scoped>\n",
       "    .dataframe tbody tr th:only-of-type {\n",
       "        vertical-align: middle;\n",
       "    }\n",
       "\n",
       "    .dataframe tbody tr th {\n",
       "        vertical-align: top;\n",
       "    }\n",
       "\n",
       "    .dataframe thead th {\n",
       "        text-align: right;\n",
       "    }\n",
       "</style>\n",
       "<table border=\"1\" class=\"dataframe\">\n",
       "  <thead>\n",
       "    <tr style=\"text-align: right;\">\n",
       "      <th></th>\n",
       "      <th>id_pager</th>\n",
       "      <th>numero_telefono</th>\n",
       "      <th>codigo_de_area</th>\n",
       "      <th>fecha_creacion_cuenta</th>\n",
       "      <th>nombre_cliente</th>\n",
       "      <th>region</th>\n",
       "      <th>categoria_cliente</th>\n",
       "    </tr>\n",
       "  </thead>\n",
       "  <tbody>\n",
       "    <tr>\n",
       "      <th>0</th>\n",
       "      <td>1</td>\n",
       "      <td>1</td>\n",
       "      <td>11</td>\n",
       "      <td>1983-01-01</td>\n",
       "      <td>Okabe</td>\n",
       "      <td>Akihabara</td>\n",
       "      <td>1</td>\n",
       "    </tr>\n",
       "    <tr>\n",
       "      <th>1</th>\n",
       "      <td>2</td>\n",
       "      <td>2</td>\n",
       "      <td>11</td>\n",
       "      <td>1984-01-01</td>\n",
       "      <td>Kurisu</td>\n",
       "      <td>Akihabara</td>\n",
       "      <td>1</td>\n",
       "    </tr>\n",
       "    <tr>\n",
       "      <th>2</th>\n",
       "      <td>3</td>\n",
       "      <td>3</td>\n",
       "      <td>11</td>\n",
       "      <td>1984-01-01</td>\n",
       "      <td>Mayuri</td>\n",
       "      <td>Akihabara</td>\n",
       "      <td>2</td>\n",
       "    </tr>\n",
       "    <tr>\n",
       "      <th>3</th>\n",
       "      <td>4</td>\n",
       "      <td>4</td>\n",
       "      <td>22</td>\n",
       "      <td>1985-01-01</td>\n",
       "      <td>Suzuha</td>\n",
       "      <td>Kyoto</td>\n",
       "      <td>2</td>\n",
       "    </tr>\n",
       "    <tr>\n",
       "      <th>4</th>\n",
       "      <td>5</td>\n",
       "      <td>5</td>\n",
       "      <td>22</td>\n",
       "      <td>1986-01-01</td>\n",
       "      <td>Daru</td>\n",
       "      <td>Kyoto</td>\n",
       "      <td>1</td>\n",
       "    </tr>\n",
       "  </tbody>\n",
       "</table>\n",
       "</div>"
      ],
      "text/plain": [
       "  id_pager numero_telefono codigo_de_area fecha_creacion_cuenta  \\\n",
       "0        1               1             11            1983-01-01   \n",
       "1        2               2             11            1984-01-01   \n",
       "2        3               3             11            1984-01-01   \n",
       "3        4               4             22            1985-01-01   \n",
       "4        5               5             22            1986-01-01   \n",
       "\n",
       "  nombre_cliente     region categoria_cliente  \n",
       "0          Okabe  Akihabara                 1  \n",
       "1         Kurisu  Akihabara                 1  \n",
       "2         Mayuri  Akihabara                 2  \n",
       "3         Suzuha      Kyoto                 2  \n",
       "4           Daru      Kyoto                 1  "
      ]
     },
     "execution_count": 4,
     "metadata": {},
     "output_type": "execute_result"
    }
   ],
   "source": [
    "tt_clients.head(10)"
   ]
  },
  {
   "cell_type": "code",
   "execution_count": 5,
   "metadata": {},
   "outputs": [
    {
     "data": {
      "text/html": [
       "<div>\n",
       "<style scoped>\n",
       "    .dataframe tbody tr th:only-of-type {\n",
       "        vertical-align: middle;\n",
       "    }\n",
       "\n",
       "    .dataframe tbody tr th {\n",
       "        vertical-align: top;\n",
       "    }\n",
       "\n",
       "    .dataframe thead th {\n",
       "        text-align: right;\n",
       "    }\n",
       "</style>\n",
       "<table border=\"1\" class=\"dataframe\">\n",
       "  <thead>\n",
       "    <tr style=\"text-align: right;\">\n",
       "      <th></th>\n",
       "      <th>anio</th>\n",
       "      <th>mes</th>\n",
       "      <th>dia</th>\n",
       "      <th>minutos</th>\n",
       "      <th>segundos</th>\n",
       "      <th>id_pager</th>\n",
       "      <th>mensaje</th>\n",
       "      <th>numero_origen</th>\n",
       "    </tr>\n",
       "  </thead>\n",
       "  <tbody>\n",
       "    <tr>\n",
       "      <th>0</th>\n",
       "      <td>2020</td>\n",
       "      <td>3</td>\n",
       "      <td>1</td>\n",
       "      <td>1</td>\n",
       "      <td>1</td>\n",
       "      <td>2</td>\n",
       "      <td>I'm the great mad scientist, Hououin Kyoma</td>\n",
       "      <td>1</td>\n",
       "    </tr>\n",
       "    <tr>\n",
       "      <th>1</th>\n",
       "      <td>2020</td>\n",
       "      <td>3</td>\n",
       "      <td>2</td>\n",
       "      <td>2</td>\n",
       "      <td>2</td>\n",
       "      <td>1</td>\n",
       "      <td>I am a scientist, I have to act on my own theory.</td>\n",
       "      <td>2</td>\n",
       "    </tr>\n",
       "    <tr>\n",
       "      <th>2</th>\n",
       "      <td>2020</td>\n",
       "      <td>3</td>\n",
       "      <td>3</td>\n",
       "      <td>3</td>\n",
       "      <td>3</td>\n",
       "      <td>2</td>\n",
       "      <td>It's an intellectual drink for the chosen ones</td>\n",
       "      <td>1</td>\n",
       "    </tr>\n",
       "    <tr>\n",
       "      <th>3</th>\n",
       "      <td>2020</td>\n",
       "      <td>3</td>\n",
       "      <td>11</td>\n",
       "      <td>11</td>\n",
       "      <td>11</td>\n",
       "      <td>1</td>\n",
       "      <td>People's feelings are memories that transcend ...</td>\n",
       "      <td>2</td>\n",
       "    </tr>\n",
       "    <tr>\n",
       "      <th>4</th>\n",
       "      <td>2020</td>\n",
       "      <td>4</td>\n",
       "      <td>12</td>\n",
       "      <td>12</td>\n",
       "      <td>12</td>\n",
       "      <td>5</td>\n",
       "      <td>El Psy Kongroo</td>\n",
       "      <td>1</td>\n",
       "    </tr>\n",
       "    <tr>\n",
       "      <th>5</th>\n",
       "      <td>2020</td>\n",
       "      <td>4</td>\n",
       "      <td>13</td>\n",
       "      <td>13</td>\n",
       "      <td>13</td>\n",
       "      <td>1</td>\n",
       "      <td>Something must be wrong for you to use my actu...</td>\n",
       "      <td>1</td>\n",
       "    </tr>\n",
       "    <tr>\n",
       "      <th>6</th>\n",
       "      <td>2020</td>\n",
       "      <td>4</td>\n",
       "      <td>11</td>\n",
       "      <td>11</td>\n",
       "      <td>11</td>\n",
       "      <td>2</td>\n",
       "      <td>It's the choice of Steins Gate.</td>\n",
       "      <td>2</td>\n",
       "    </tr>\n",
       "    <tr>\n",
       "      <th>7</th>\n",
       "      <td>2020</td>\n",
       "      <td>4</td>\n",
       "      <td>22</td>\n",
       "      <td>22</td>\n",
       "      <td>22</td>\n",
       "      <td>1</td>\n",
       "      <td>You've pretty much figured it all out by now, ...</td>\n",
       "      <td>1</td>\n",
       "    </tr>\n",
       "    <tr>\n",
       "      <th>8</th>\n",
       "      <td>2020</td>\n",
       "      <td>4</td>\n",
       "      <td>23</td>\n",
       "      <td>23</td>\n",
       "      <td>23</td>\n",
       "      <td>2</td>\n",
       "      <td>Sorry, The Zombie~~</td>\n",
       "      <td>2</td>\n",
       "    </tr>\n",
       "    <tr>\n",
       "      <th>9</th>\n",
       "      <td>2020</td>\n",
       "      <td>4</td>\n",
       "      <td>22</td>\n",
       "      <td>22</td>\n",
       "      <td>22</td>\n",
       "      <td>1</td>\n",
       "      <td>There was a scientific rationale for that!</td>\n",
       "      <td>1</td>\n",
       "    </tr>\n",
       "  </tbody>\n",
       "</table>\n",
       "</div>"
      ],
      "text/plain": [
       "   anio mes dia minutos segundos id_pager  \\\n",
       "0  2020   3   1       1        1        2   \n",
       "1  2020   3   2       2        2        1   \n",
       "2  2020   3   3       3        3        2   \n",
       "3  2020   3  11      11       11        1   \n",
       "4  2020   4  12      12       12        5   \n",
       "5  2020   4  13      13       13        1   \n",
       "6  2020   4  11      11       11        2   \n",
       "7  2020   4  22      22       22        1   \n",
       "8  2020   4  23      23       23        2   \n",
       "9  2020   4  22      22       22        1   \n",
       "\n",
       "                                             mensaje numero_origen  \n",
       "0         I'm the great mad scientist, Hououin Kyoma             1  \n",
       "1  I am a scientist, I have to act on my own theory.             2  \n",
       "2     It's an intellectual drink for the chosen ones             1  \n",
       "3  People's feelings are memories that transcend ...             2  \n",
       "4                                     El Psy Kongroo             1  \n",
       "5  Something must be wrong for you to use my actu...             1  \n",
       "6                    It's the choice of Steins Gate.             2  \n",
       "7  You've pretty much figured it all out by now, ...             1  \n",
       "8                                Sorry, The Zombie~~             2  \n",
       "9         There was a scientific rationale for that!             1  "
      ]
     },
     "execution_count": 5,
     "metadata": {},
     "output_type": "execute_result"
    }
   ],
   "source": [
    "tt_msgs.head(10)"
   ]
  },
  {
   "cell_type": "markdown",
   "metadata": {},
   "source": [
    "¿Cuál es la región que aún tiene activos la mayor cantidad de pagers, entendiendo como activo aquellos que recibieron por lo menos un mensaje en el último mes?"
   ]
  },
  {
   "cell_type": "code",
   "execution_count": 10,
   "metadata": {},
   "outputs": [
    {
     "data": {
      "text/html": [
       "<div>\n",
       "<style scoped>\n",
       "    .dataframe tbody tr th:only-of-type {\n",
       "        vertical-align: middle;\n",
       "    }\n",
       "\n",
       "    .dataframe tbody tr th {\n",
       "        vertical-align: top;\n",
       "    }\n",
       "\n",
       "    .dataframe thead th {\n",
       "        text-align: right;\n",
       "    }\n",
       "</style>\n",
       "<table border=\"1\" class=\"dataframe\">\n",
       "  <thead>\n",
       "    <tr style=\"text-align: right;\">\n",
       "      <th></th>\n",
       "      <th>anio</th>\n",
       "      <th>mes</th>\n",
       "      <th>id_pager</th>\n",
       "      <th>count</th>\n",
       "    </tr>\n",
       "  </thead>\n",
       "  <tbody>\n",
       "    <tr>\n",
       "      <th>0</th>\n",
       "      <td>2020</td>\n",
       "      <td>4</td>\n",
       "      <td>1</td>\n",
       "      <td>3</td>\n",
       "    </tr>\n",
       "    <tr>\n",
       "      <th>1</th>\n",
       "      <td>2020</td>\n",
       "      <td>4</td>\n",
       "      <td>2</td>\n",
       "      <td>2</td>\n",
       "    </tr>\n",
       "    <tr>\n",
       "      <th>2</th>\n",
       "      <td>2020</td>\n",
       "      <td>4</td>\n",
       "      <td>5</td>\n",
       "      <td>1</td>\n",
       "    </tr>\n",
       "  </tbody>\n",
       "</table>\n",
       "</div>"
      ],
      "text/plain": [
       "   anio mes id_pager  count\n",
       "0  2020   4        1      3\n",
       "1  2020   4        2      2\n",
       "2  2020   4        5      1"
      ]
     },
     "execution_count": 10,
     "metadata": {},
     "output_type": "execute_result"
    }
   ],
   "source": [
    "# Filtro los mensajes del mes 4 del 2020\n",
    "# Agrupo por año, mes, id_pager y cuento una columna cualquiera\n",
    "# Solo necesito el número de filas\n",
    "\n",
    "tt_totals = tt_msgs[(tt_msgs['anio'] == '2020') & (tt_msgs['mes'] == '4')]\\\n",
    "            .groupby(['anio','mes','id_pager'])['dia'].agg(['count']).reset_index()\n",
    "\n",
    "tt_totals                                                                                                      "
   ]
  },
  {
   "cell_type": "code",
   "execution_count": 13,
   "metadata": {},
   "outputs": [],
   "source": [
    "merged = tt_totals[tt_totals['count'] >= 1].merge(tt_clients)"
   ]
  },
  {
   "cell_type": "code",
   "execution_count": 14,
   "metadata": {},
   "outputs": [
    {
     "data": {
      "text/plain": [
       "Akihabara    2\n",
       "Name: region, dtype: int64"
      ]
     },
     "execution_count": 14,
     "metadata": {},
     "output_type": "execute_result"
    }
   ],
   "source": [
    "merged['region'].value_counts().nlargest(1)"
   ]
  },
  {
   "cell_type": "markdown",
   "metadata": {},
   "source": [
    "¿Cuál es el porcentaje de pagers activos que solamente reciben mensajes únicamente de una persona (es decir, siempre desde el mismo número de origen)?"
   ]
  },
  {
   "cell_type": "code",
   "execution_count": 15,
   "metadata": {},
   "outputs": [],
   "source": [
    "total_active_pagers = len(tt_totals.index)"
   ]
  },
  {
   "cell_type": "code",
   "execution_count": 16,
   "metadata": {},
   "outputs": [
    {
     "data": {
      "text/plain": [
       "3"
      ]
     },
     "execution_count": 16,
     "metadata": {},
     "output_type": "execute_result"
    }
   ],
   "source": [
    "total_active_pagers"
   ]
  },
  {
   "cell_type": "code",
   "execution_count": 21,
   "metadata": {},
   "outputs": [],
   "source": [
    "msg_by_contact = tt_msgs[(tt_msgs['anio'] == '2020') & (tt_msgs['mes'] == '4')]\\\n",
    "                .groupby(['anio', 'mes', 'numero_origen', 'id_pager'])['dia']\\\n",
    "                .agg(['count']).reset_index()"
   ]
  },
  {
   "cell_type": "code",
   "execution_count": 22,
   "metadata": {},
   "outputs": [
    {
     "data": {
      "text/html": [
       "<div>\n",
       "<style scoped>\n",
       "    .dataframe tbody tr th:only-of-type {\n",
       "        vertical-align: middle;\n",
       "    }\n",
       "\n",
       "    .dataframe tbody tr th {\n",
       "        vertical-align: top;\n",
       "    }\n",
       "\n",
       "    .dataframe thead th {\n",
       "        text-align: right;\n",
       "    }\n",
       "</style>\n",
       "<table border=\"1\" class=\"dataframe\">\n",
       "  <thead>\n",
       "    <tr style=\"text-align: right;\">\n",
       "      <th></th>\n",
       "      <th>anio</th>\n",
       "      <th>mes</th>\n",
       "      <th>numero_origen</th>\n",
       "      <th>id_pager</th>\n",
       "      <th>count</th>\n",
       "    </tr>\n",
       "  </thead>\n",
       "  <tbody>\n",
       "    <tr>\n",
       "      <th>0</th>\n",
       "      <td>2020</td>\n",
       "      <td>4</td>\n",
       "      <td>1</td>\n",
       "      <td>1</td>\n",
       "      <td>3</td>\n",
       "    </tr>\n",
       "    <tr>\n",
       "      <th>1</th>\n",
       "      <td>2020</td>\n",
       "      <td>4</td>\n",
       "      <td>1</td>\n",
       "      <td>5</td>\n",
       "      <td>1</td>\n",
       "    </tr>\n",
       "    <tr>\n",
       "      <th>2</th>\n",
       "      <td>2020</td>\n",
       "      <td>4</td>\n",
       "      <td>2</td>\n",
       "      <td>2</td>\n",
       "      <td>2</td>\n",
       "    </tr>\n",
       "  </tbody>\n",
       "</table>\n",
       "</div>"
      ],
      "text/plain": [
       "   anio mes numero_origen id_pager  count\n",
       "0  2020   4             1        1      3\n",
       "1  2020   4             1        5      1\n",
       "2  2020   4             2        2      2"
      ]
     },
     "execution_count": 22,
     "metadata": {},
     "output_type": "execute_result"
    }
   ],
   "source": [
    "msg_by_contact"
   ]
  },
  {
   "cell_type": "code",
   "execution_count": 27,
   "metadata": {},
   "outputs": [
    {
     "data": {
      "text/html": [
       "<div>\n",
       "<style scoped>\n",
       "    .dataframe tbody tr th:only-of-type {\n",
       "        vertical-align: middle;\n",
       "    }\n",
       "\n",
       "    .dataframe tbody tr th {\n",
       "        vertical-align: top;\n",
       "    }\n",
       "\n",
       "    .dataframe thead th {\n",
       "        text-align: right;\n",
       "    }\n",
       "</style>\n",
       "<table border=\"1\" class=\"dataframe\">\n",
       "  <thead>\n",
       "    <tr style=\"text-align: right;\">\n",
       "      <th></th>\n",
       "      <th>anio</th>\n",
       "      <th>mes</th>\n",
       "      <th>numero_origen</th>\n",
       "      <th>id_pager</th>\n",
       "      <th>count</th>\n",
       "    </tr>\n",
       "  </thead>\n",
       "  <tbody>\n",
       "    <tr>\n",
       "      <th>2</th>\n",
       "      <td>2020</td>\n",
       "      <td>4</td>\n",
       "      <td>2</td>\n",
       "      <td>2</td>\n",
       "      <td>2</td>\n",
       "    </tr>\n",
       "  </tbody>\n",
       "</table>\n",
       "</div>"
      ],
      "text/plain": [
       "   anio mes numero_origen id_pager  count\n",
       "2  2020   4             2        2      2"
      ]
     },
     "execution_count": 27,
     "metadata": {},
     "output_type": "execute_result"
    }
   ],
   "source": [
    "one_contact = msg_by_contact.groupby('numero_origen').filter(lambda x: len(x) == 1)\n",
    "one_contact"
   ]
  },
  {
   "cell_type": "code",
   "execution_count": 24,
   "metadata": {},
   "outputs": [],
   "source": [
    "one_contact_cant = len(one_contact)"
   ]
  },
  {
   "cell_type": "code",
   "execution_count": 25,
   "metadata": {},
   "outputs": [
    {
     "name": "stdout",
     "output_type": "stream",
     "text": [
      "33.333333333333336\n"
     ]
    }
   ],
   "source": [
    "print(one_contact_cant * 100 / total_active_pagers)"
   ]
  }
 ],
 "metadata": {
  "kernelspec": {
   "display_name": "Python 3",
   "language": "python",
   "name": "python3"
  },
  "language_info": {
   "codemirror_mode": {
    "name": "ipython",
    "version": 3
   },
   "file_extension": ".py",
   "mimetype": "text/x-python",
   "name": "python",
   "nbconvert_exporter": "python",
   "pygments_lexer": "ipython3",
   "version": "3.7.7"
  }
 },
 "nbformat": 4,
 "nbformat_minor": 2
}
