{
 "cells": [
  {
   "cell_type": "markdown",
   "metadata": {
    "colab_type": "text",
    "id": "VDf7rnTBP9H1"
   },
   "source": [
    "### PySpark RDD API\n",
    "\n",
    "https://www.kaggle.com/divyansh22/flight-delay-prediction\n",
    "\n",
    "(No esta flights.parquet en la carpeta de datasets)\n",
    "\n",
    "* Ejercicios"
   ]
  },
  {
   "cell_type": "code",
   "execution_count": 0,
   "metadata": {
    "colab": {},
    "colab_type": "code",
    "id": "QgsuFPKpv4mW"
   },
   "outputs": [],
   "source": [
    "from pyspark.sql import *\n",
    "from pyspark.sql.functions import *\n",
    "from pyspark import SparkContext\n",
    "import pandas as pd\n",
    "from pyspark.sql import SQLContext, SparkSession\n",
    "\n",
    "# create the Spark Session\n",
    "spark = SparkSession.builder.getOrCreate()\n",
    "\n",
    "# create the Spark Context\n",
    "sc = spark.sparkContext"
   ]
  },
  {
   "cell_type": "code",
   "execution_count": 0,
   "metadata": {
    "colab": {},
    "colab_type": "code",
    "id": "W7Zkre-dwEOS"
   },
   "outputs": [],
   "source": [
    "sqlContext = SQLContext(sc)\n",
    "rdd = sqlContext.read.parquet('flights.parquet').rdd.repartition(8).cache() # Cache o sino cada vez que llamamos a rdd se hace la reparticion"
   ]
  },
  {
   "cell_type": "code",
   "execution_count": 9,
   "metadata": {
    "colab": {
     "base_uri": "https://localhost:8080/",
     "height": 34
    },
    "colab_type": "code",
    "id": "EqMLZNVb24Vf",
    "outputId": "47845014-212c-447d-9302-f9e34af06b5d"
   },
   "outputs": [
    {
     "data": {
      "text/plain": [
       "598963"
      ]
     },
     "execution_count": 9,
     "metadata": {
      "tags": []
     },
     "output_type": "execute_result"
    }
   ],
   "source": [
    "rdd.count()"
   ]
  },
  {
   "cell_type": "code",
   "execution_count": 10,
   "metadata": {
    "colab": {
     "base_uri": "https://localhost:8080/",
     "height": 71
    },
    "colab_type": "code",
    "id": "tb4qf9RTxSnN",
    "outputId": "f3fe1d03-57f3-4902-f116-b8f6fc7eaa3c"
   },
   "outputs": [
    {
     "data": {
      "text/plain": [
       "[Row(DAY_OF_MONTH=7, DAY_OF_WEEK=2, OP_UNIQUE_CARRIER='DL', OP_CARRIER_AIRLINE_ID=19790, OP_CARRIER='DL', TAIL_NUM='N987DN', OP_CARRIER_FL_NUM=2336, ORIGIN_AIRPORT_ID=11057, ORIGIN_AIRPORT_SEQ_ID=1105703, ORIGIN='CLT', DEST_AIRPORT_ID=10397, DEST_AIRPORT_SEQ_ID=1039707, DEST='ATL', DEP_TIME=657.0, DEP_DEL15=0.0, DEP_TIME_BLK='0700-0759', ARR_TIME=813.0, ARR_DEL15=0.0, CANCELLED=0.0, DIVERTED=0.0, DISTANCE=226.0, TIMEDIFF=0),\n",
       " Row(DAY_OF_MONTH=3, DAY_OF_WEEK=5, OP_UNIQUE_CARRIER='OO', OP_CARRIER_AIRLINE_ID=20304, OP_CARRIER='OO', TAIL_NUM='N906SW', OP_CARRIER_FL_NUM=3873, ORIGIN_AIRPORT_ID=14869, ORIGIN_AIRPORT_SEQ_ID=1486903, ORIGIN='SLC', DEST_AIRPORT_ID=12156, DEST_AIRPORT_SEQ_ID=1215605, DEST='HLN', DEP_TIME=1107.0, DEP_DEL15=0.0, DEP_TIME_BLK='1100-1159', ARR_TIME=1245.0, ARR_DEL15=0.0, CANCELLED=0.0, DIVERTED=0.0, DISTANCE=402.0, TIMEDIFF=0)]"
      ]
     },
     "execution_count": 10,
     "metadata": {
      "tags": []
     },
     "output_type": "execute_result"
    }
   ],
   "source": [
    "rdd.takeSample(False, 2) # Toma la cantidad de filas que queremos y las trae al driver"
   ]
  },
  {
   "cell_type": "code",
   "execution_count": 11,
   "metadata": {
    "colab": {
     "base_uri": "https://localhost:8080/",
     "height": 34
    },
    "colab_type": "code",
    "id": "kYhd6yuBNomg",
    "outputId": "ba491a7b-cb8f-4606-ccc8-2b1b916a4bfd"
   },
   "outputs": [
    {
     "data": {
      "text/plain": [
       "PythonRDD[15] at RDD at PythonRDD.scala:53"
      ]
     },
     "execution_count": 11,
     "metadata": {
      "tags": []
     },
     "output_type": "execute_result"
    }
   ],
   "source": [
    "rdd.sample(False, 0.1) # Toma porcentaje del rdd y devuelve un RDD"
   ]
  },
  {
   "cell_type": "code",
   "execution_count": 0,
   "metadata": {
    "colab": {},
    "colab_type": "code",
    "id": "ctPLDZ1--Q4k"
   },
   "outputs": [],
   "source": [
    "# DISTANCE, DEP_TIME, ARR_TIME, DAY_OF_WEEK, ORIGIN, DEST, TAIL_NUM, DAY_OF_MONTH, DAY_OF_WEEK\n",
    "# Ejemplo rdd.map(lambda x: (x.ORIGIN, x.DEST))"
   ]
  },
  {
   "cell_type": "markdown",
   "metadata": {
    "colab_type": "text",
    "id": "nXvVZrvGwMNf"
   },
   "source": [
    "**Ejercicio 1:** Calcular la cantidad de vuelos por línea aérea (usar \n",
    "OP_UNIQUE_CARRIER). Calcular las diez (10) líneas aéreas con mayor cantidad de vuelos. Devolver una lista de Python con los códigos de estas 10 líneas."
   ]
  },
  {
   "cell_type": "code",
   "execution_count": 13,
   "metadata": {
    "colab": {
     "base_uri": "https://localhost:8080/",
     "height": 187
    },
    "colab_type": "code",
    "id": "1TGN0x2MvBt3",
    "outputId": "63e1ecb5-60a5-41c7-e7fe-c1cfea4c0ff8"
   },
   "outputs": [
    {
     "data": {
      "text/plain": [
       "[('WN', 107708),\n",
       " ('DL', 79928),\n",
       " ('AA', 75472),\n",
       " ('OO', 69196),\n",
       " ('UA', 48019),\n",
       " ('YX', 28826),\n",
       " ('MQ', 25284),\n",
       " ('B6', 24621),\n",
       " ('OH', 23999),\n",
       " ('9E', 22955)]"
      ]
     },
     "execution_count": 13,
     "metadata": {
      "tags": []
     },
     "output_type": "execute_result"
    }
   ],
   "source": [
    "carriers = rdd.map(lambda x: (x.OP_UNIQUE_CARRIER, 1))\\\n",
    "              .reduceByKey(lambda x,y: (x + y)).cache()\n",
    "              \n",
    "top10carriers = carriers.takeOrdered(10, lambda x: -x[1])\n",
    "top10carriers"
   ]
  },
  {
   "cell_type": "code",
   "execution_count": 0,
   "metadata": {
    "colab": {},
    "colab_type": "code",
    "id": "j10wD885wI6V"
   },
   "outputs": [],
   "source": [
    "top10carriers = [x[0] for x in top10carriers]"
   ]
  },
  {
   "cell_type": "code",
   "execution_count": 15,
   "metadata": {
    "colab": {
     "base_uri": "https://localhost:8080/",
     "height": 34
    },
    "colab_type": "code",
    "id": "mEe_Z2ZKwTSS",
    "outputId": "def08755-3cce-4f4b-a8df-2cd3d2e521b2"
   },
   "outputs": [
    {
     "data": {
      "text/plain": [
       "['WN', 'DL', 'AA', 'OO', 'UA', 'YX', 'MQ', 'B6', 'OH', '9E']"
      ]
     },
     "execution_count": 15,
     "metadata": {
      "tags": []
     },
     "output_type": "execute_result"
    }
   ],
   "source": [
    "top10carriers"
   ]
  },
  {
   "cell_type": "markdown",
   "metadata": {
    "colab_type": "text",
    "id": "vwABFH9cwm8k"
   },
   "source": [
    "**Ejercicio 2:** Calcular el promedio de vuelos que llegaron con 15 minutos de demora o mas (ARR_DEL15 ==1) para las 10 líneas con mas vuelos (usar el ejercicio anterior), de estas indicar las tres mejores y las tres peores."
   ]
  },
  {
   "cell_type": "code",
   "execution_count": 0,
   "metadata": {
    "colab": {},
    "colab_type": "code",
    "id": "MaGRG5QQwio8"
   },
   "outputs": [],
   "source": [
    "delays = rdd.filter(lambda x: x.OP_UNIQUE_CARRIER in top10carriers)\\\n",
    "            .map(lambda x: (x.OP_UNIQUE_CARRIER, (float(x.ARR_DEL15), 1)))\\\n",
    "            .reduceByKey(lambda x,y: ( x[0] + y[0], x[1] + y[1]))\\\n",
    "            .map(lambda x: (x[0], x[1][0] / x[1][1])).collect()"
   ]
  },
  {
   "cell_type": "code",
   "execution_count": 17,
   "metadata": {
    "colab": {
     "base_uri": "https://localhost:8080/",
     "height": 68
    },
    "colab_type": "code",
    "id": "XSUe-SiBx1tm",
    "outputId": "a4c44b5e-c6ec-4ca4-a822-b9ec2258d433"
   },
   "outputs": [
    {
     "data": {
      "text/plain": [
       "[('OH', 0.21525896912371348),\n",
       " ('MQ', 0.19692295522860306),\n",
       " ('OO', 0.15386727556506155)]"
      ]
     },
     "execution_count": 17,
     "metadata": {
      "tags": []
     },
     "output_type": "execute_result"
    }
   ],
   "source": [
    "sorted(delays, key = lambda x:x[1], reverse = True)[:3]"
   ]
  },
  {
   "cell_type": "code",
   "execution_count": 18,
   "metadata": {
    "colab": {
     "base_uri": "https://localhost:8080/",
     "height": 68
    },
    "colab_type": "code",
    "id": "xfroLuaTyEJK",
    "outputId": "7fb1ecf8-5c09-48fc-b926-b391d0846bc9"
   },
   "outputs": [
    {
     "data": {
      "text/plain": [
       "[('WN', 0.09582389423255469),\n",
       " ('DL', 0.10583274947452707),\n",
       " ('9E', 0.10956218688738836)]"
      ]
     },
     "execution_count": 18,
     "metadata": {
      "tags": []
     },
     "output_type": "execute_result"
    }
   ],
   "source": [
    "sorted(delays, key = lambda x:x[1], reverse = False)[:3]"
   ]
  },
  {
   "cell_type": "markdown",
   "metadata": {
    "colab_type": "text",
    "id": "9FVk5EaqyeNu"
   },
   "source": [
    "**Ejercicio 3:** Calcular la cantidad de vuelos por ruta. Usando ORIGIN y DEST para la ruta. Devolver un rdd con la siguiente estructura: (RUTA, #Vuelos). Indicar además cuáles son las 10 rutas mas frecuentes y su cantidad de vuelos."
   ]
  },
  {
   "cell_type": "code",
   "execution_count": 0,
   "metadata": {
    "colab": {},
    "colab_type": "code",
    "id": "XA2591LLyxjp"
   },
   "outputs": [],
   "source": [
    "routes = rdd.map(lambda x: ((x.ORIGIN + x.DEST),1))\\\n",
    "            .reduceByKey(lambda x,y : x + y)\\\n",
    "            .cache()"
   ]
  },
  {
   "cell_type": "code",
   "execution_count": 21,
   "metadata": {
    "colab": {
     "base_uri": "https://localhost:8080/",
     "height": 187
    },
    "colab_type": "code",
    "id": "Vz1iPZ8Ezq-u",
    "outputId": "7d644841-98d6-479b-b95c-c90d431e6627"
   },
   "outputs": [
    {
     "data": {
      "text/plain": [
       "[('LAXSFO', 1191),\n",
       " ('SFOLAX', 1189),\n",
       " ('LASLAX', 1050),\n",
       " ('LAXLAS', 1033),\n",
       " ('JFKLAX', 1023),\n",
       " ('ORDLGA', 1022),\n",
       " ('LAXJFK', 1020),\n",
       " ('LGAORD', 1015),\n",
       " ('HNLOGG', 941),\n",
       " ('OGGHNL', 939)]"
      ]
     },
     "execution_count": 21,
     "metadata": {
      "tags": []
     },
     "output_type": "execute_result"
    }
   ],
   "source": [
    "routes.takeOrdered(10, lambda x:-x[1])"
   ]
  },
  {
   "cell_type": "markdown",
   "metadata": {
    "colab_type": "text",
    "id": "hey4Zw0rzPCP"
   },
   "source": [
    "**Ejercicio 4:** Consideremos ahora la cantidad de líneas aéreas que transitan cada ruta, queremos saber cuáles son las diez rutas realizadas por mayor cantidad de líneas aéreas y cuáles son las diez líneas aéreas con mayor cantidad de rutas.\n",
    "Devolver: Una lista de 10 tuplas de forma (ROUTE, #CARRIERS) y Una lista de 10 tuplas de tipo (Carrier, #ROUTES)"
   ]
  },
  {
   "cell_type": "code",
   "execution_count": 0,
   "metadata": {
    "colab": {},
    "colab_type": "code",
    "id": "vlbx19iQ0dhZ"
   },
   "outputs": [],
   "source": [
    "routes_by_lines = rdd.map(lambda x: ((x.ORIGIN + x.DEST, x.OP_UNIQUE_CARRIER), 1))\\\n",
    "                     .reduceByKey(lambda x,y : x + y).cache()"
   ]
  },
  {
   "cell_type": "code",
   "execution_count": 11,
   "metadata": {
    "colab": {
     "base_uri": "https://localhost:8080/",
     "height": 34
    },
    "colab_type": "code",
    "id": "dSc6L5851COW",
    "outputId": "055624e5-f406-49b1-e35d-8e1119a20b87"
   },
   "outputs": [
    {
     "data": {
      "text/plain": [
       "[(('ORDABQ', 'MQ'), 37)]"
      ]
     },
     "execution_count": 11,
     "metadata": {
      "tags": []
     },
     "output_type": "execute_result"
    }
   ],
   "source": [
    "routes_by_lines.take(1)"
   ]
  },
  {
   "cell_type": "code",
   "execution_count": 14,
   "metadata": {
    "colab": {
     "base_uri": "https://localhost:8080/",
     "height": 187
    },
    "colab_type": "code",
    "id": "WjsZ-lXn1HKH",
    "outputId": "7551456a-3a3f-47a8-a1e0-a3998a0fce9d"
   },
   "outputs": [
    {
     "data": {
      "text/plain": [
       "[('ORDATL', 8),\n",
       " ('LGAORD', 8),\n",
       " ('ATLORD', 8),\n",
       " ('ORDLGA', 8),\n",
       " ('LASLAX', 8),\n",
       " ('ORDRDU', 8),\n",
       " ('RDUORD', 8),\n",
       " ('LAXLAS', 8),\n",
       " ('SEADEN', 7),\n",
       " ('MSPORD', 7)]"
      ]
     },
     "execution_count": 14,
     "metadata": {
      "tags": []
     },
     "output_type": "execute_result"
    }
   ],
   "source": [
    "routes_by_lines.map(lambda x: (x[0][0],1))\\\n",
    "              .reduceByKey(lambda x,y: x + y)\\\n",
    "              .takeOrdered(10, lambda x: -x[1])"
   ]
  },
  {
   "cell_type": "code",
   "execution_count": 15,
   "metadata": {
    "colab": {
     "base_uri": "https://localhost:8080/",
     "height": 187
    },
    "colab_type": "code",
    "id": "7hAKVTtB2BDd",
    "outputId": "bc6833b1-95a4-45fe-c024-4d264c08a6b6"
   },
   "outputs": [
    {
     "data": {
      "text/plain": [
       "[('OO', 1425),\n",
       " ('WN', 1413),\n",
       " ('DL', 874),\n",
       " ('YX', 808),\n",
       " ('AA', 777),\n",
       " ('UA', 693),\n",
       " ('G4', 685),\n",
       " ('F9', 502),\n",
       " ('MQ', 481),\n",
       " ('9E', 464)]"
      ]
     },
     "execution_count": 15,
     "metadata": {
      "tags": []
     },
     "output_type": "execute_result"
    }
   ],
   "source": [
    "routes_by_lines.map(lambda x: (x[0][1],1))\\\n",
    ".reduceByKey(lambda x,y: x + y).takeOrdered(10, lambda x: -x[1])"
   ]
  },
  {
   "cell_type": "markdown",
   "metadata": {
    "colab_type": "text",
    "id": "NSXlYTZmzdRx"
   },
   "source": [
    "**Ejercicio 5:** Por cada ruta aérea calcular el promedio de tiempo de vuelo. Calculando ARR_TIME - DEP_TIME usando la función provista. Al calculo del tiempo de vuelo en minutos hay que sumarle TIMEDIFF que es la diferencia horaria entre las ciudades (en horas). Por lo tanto el calculo es:\n",
    "\n",
    "```\n",
    "hhmmtimediff(x.DEP_TIME,x.ARR_TIME) + (x.TIMEDIFF * 60)\n",
    "```\n",
    "\n",
    "Puntos extras: Además del promedio de tiempo de vuelo calcular la desviación standard del tiempo de vuelo para cada ruta.\n",
    "Devolver: \n",
    "- Una lista de 10 tuplas de tipo (ROUTE, average_time)\n",
    "- Una lista de 10 tuplas de tipo (ROUTE, time_std) (solo para las rutas con mas de 50 vuelos)"
   ]
  },
  {
   "cell_type": "code",
   "execution_count": 0,
   "metadata": {
    "colab": {},
    "colab_type": "code",
    "id": "nmsYsUqZJSer"
   },
   "outputs": [],
   "source": [
    "from numpy import sqrt\n",
    "# Computes time diff in format HHMM (in minutes)\n",
    "def hhmmtimediff(t1, t2):\n",
    "  m2 = (t2 // 100) * 60 + (t2 % 100)\n",
    "  m1 = (t1 // 100) * 60 + (t1 % 100)\n",
    "  return m2 - m1 "
   ]
  },
  {
   "cell_type": "code",
   "execution_count": 0,
   "metadata": {
    "colab": {},
    "colab_type": "code",
    "id": "sBe-J54E2_DR"
   },
   "outputs": [],
   "source": [
    "routes_duration = rdd.map(lambda x: ((x.ORIGIN + x.DEST), hhmmtimediff(x.DEP_TIME, x.ARR_TIME) + (x.TIMEDIFF * 60)))\\\n",
    ".filter(lambda x:x[0] != 'GUMHNL')\\\n",
    ".filter(lambda x:x[1]>0)\\\n",
    ".cache()"
   ]
  },
  {
   "cell_type": "code",
   "execution_count": 18,
   "metadata": {
    "colab": {
     "base_uri": "https://localhost:8080/",
     "height": 187
    },
    "colab_type": "code",
    "id": "VKsYCWFG4oi1",
    "outputId": "8658e5f4-6533-42c0-e60e-ff4c3d02238e"
   },
   "outputs": [
    {
     "data": {
      "text/plain": [
       "[('ORDGRB', 47.0),\n",
       " ('ORDGRB', 84.0),\n",
       " ('ORDGRB', 64.0),\n",
       " ('ORDGRB', 75.0),\n",
       " ('ORDGRB', 69.0),\n",
       " ('ORDGRB', 50.0),\n",
       " ('ORDGRB', 56.0),\n",
       " ('ORDGRB', 73.0),\n",
       " ('ORDGRB', 45.0),\n",
       " ('ORDGRB', 57.0)]"
      ]
     },
     "execution_count": 18,
     "metadata": {
      "tags": []
     },
     "output_type": "execute_result"
    }
   ],
   "source": [
    "routes_duration.take(10)"
   ]
  },
  {
   "cell_type": "code",
   "execution_count": 22,
   "metadata": {
    "colab": {
     "base_uri": "https://localhost:8080/",
     "height": 187
    },
    "colab_type": "code",
    "id": "lwWviTQUP64e",
    "outputId": "4c674c9c-ace8-4133-ff64-19db3f4d4a96"
   },
   "outputs": [
    {
     "data": {
      "text/plain": [
       "[('DTWGRB', 80.77064220183486),\n",
       " ('IAHABQ', 141.89),\n",
       " ('SLCABQ', 94.39024390243902),\n",
       " ('OKCDCA', 155.61666666666667),\n",
       " ('SAVDCA', 94.53846153846153),\n",
       " ('ORFDCA', 56.88636363636363),\n",
       " ('RDUDCA', 68.32558139534883),\n",
       " ('CLTDCA', 79.61685823754789),\n",
       " ('JANDCA', 138.31034482758622),\n",
       " ('INDDCA', 97.00689655172414)]"
      ]
     },
     "execution_count": 22,
     "metadata": {
      "tags": []
     },
     "output_type": "execute_result"
    }
   ],
   "source": [
    "routes_duration.map(lambda x: (x[0], (x[1], 1))).reduceByKey(lambda x, y: (x[0] + y[0], x[1] + y[1]))\\\n",
    "                .map(lambda x: (x[0], x[1][0] / x[1][1])).take(10)"
   ]
  },
  {
   "cell_type": "markdown",
   "metadata": {
    "colab_type": "text",
    "id": "6eC2FzuK5uT_"
   },
   "source": [
    "Para la desviacion standard usamos:\n",
    "stdev = sqrt((sum_x2 / n) - (mean * mean))"
   ]
  },
  {
   "cell_type": "code",
   "execution_count": 27,
   "metadata": {
    "colab": {
     "base_uri": "https://localhost:8080/",
     "height": 187
    },
    "colab_type": "code",
    "id": "eT79ZGLtR0GQ",
    "outputId": "5307a8c0-ef9a-4a13-ce4a-ac5b94fe4fa0"
   },
   "outputs": [
    {
     "data": {
      "text/plain": [
       "[('DTWGRB', 11.122861016944148),\n",
       " ('IAHABQ', 16.166567353647043),\n",
       " ('SLCABQ', 10.700759145124943),\n",
       " ('OKCDCA', 12.690011382535715),\n",
       " ('SAVDCA', 6.766607883461319),\n",
       " ('ORFDCA', 14.06028563832917),\n",
       " ('RDUDCA', 12.566328079680467),\n",
       " ('CLTDCA', 10.773119276309428),\n",
       " ('JANDCA', 14.5153983595443),\n",
       " ('INDDCA', 11.405078452449999)]"
      ]
     },
     "execution_count": 27,
     "metadata": {
      "tags": []
     },
     "output_type": "execute_result"
    }
   ],
   "source": [
    "routes_duration.map(lambda x: (x[0], (x[1], 1, x[1]**2))).reduceByKey(lambda x, y: (x[0] + y[0], x[1] + y[1], x[2] + y[2]))\\\n",
    "                .map(lambda x: (x[0], sqrt(x[1][2]/x[1][1] - (x[1][0] / x[1][1])**2))).take(10)"
   ]
  },
  {
   "cell_type": "code",
   "execution_count": 0,
   "metadata": {
    "colab": {},
    "colab_type": "code",
    "id": "F_5wBP8Q4wAn"
   },
   "outputs": [],
   "source": [
    "# Misma resolucion pero pasado a rows\n",
    "routes_stats = routes_duration.map(lambda x: (x[0],(x[1],x[1] ** 2,1)))\\\n",
    ".reduceByKey(lambda x, y : (x[0] + y[0], x[1] + y[1], x[2] + y[2]))\\\n",
    ".map(lambda x: (x[0], x[1][0] / x[1][2], x[1][2], sqrt((x[1][1] / x[1][2])- ((x[1][0]/x[1][2])**2))))\\\n",
    ".map(lambda x: Row(ROUTE=x[0],AVERAGE_DURATION=x[1],NUM_FLIGHTS=x[2],DURATION_STD=x[3] )).cache()"
   ]
  },
  {
   "cell_type": "code",
   "execution_count": 29,
   "metadata": {
    "colab": {
     "base_uri": "https://localhost:8080/",
     "height": 187
    },
    "colab_type": "code",
    "id": "di_PB9vr7y_t",
    "outputId": "4c86852b-873d-44e7-d9c4-13fca6b41715"
   },
   "outputs": [
    {
     "data": {
      "text/plain": [
       "[Row(AVERAGE_DURATION=677.0, DURATION_STD=25.78297703450658, NUM_FLIGHTS=21, ROUTE='BOSHNL'),\n",
       " Row(AVERAGE_DURATION=670.2, DURATION_STD=23.25240386958354, NUM_FLIGHTS=35, ROUTE='JFKHNL'),\n",
       " Row(AVERAGE_DURATION=664.0322580645161, DURATION_STD=21.654894210968795, NUM_FLIGHTS=31, ROUTE='EWRHNL'),\n",
       " Row(AVERAGE_DURATION=651.125, DURATION_STD=21.43850216316429, NUM_FLIGHTS=8, ROUTE='IADHNL'),\n",
       " Row(AVERAGE_DURATION=597.9666666666667, DURATION_STD=17.11428902668256, NUM_FLIGHTS=30, ROUTE='ATLHNL'),\n",
       " Row(AVERAGE_DURATION=589.0, DURATION_STD=7.035623639735144, NUM_FLIGHTS=4, ROUTE='DTWHNL'),\n",
       " Row(AVERAGE_DURATION=559.25, DURATION_STD=23.411519914475928, NUM_FLIGHTS=68, ROUTE='ORDHNL'),\n",
       " Row(AVERAGE_DURATION=559.0909090909091, DURATION_STD=19.05949796846426, NUM_FLIGHTS=22, ROUTE='ORDOGG'),\n",
       " Row(AVERAGE_DURATION=538.0909090909091, DURATION_STD=27.14759170786847, NUM_FLIGHTS=22, ROUTE='MSPHNL'),\n",
       " Row(AVERAGE_DURATION=522.2258064516129, DURATION_STD=12.696734854383065, NUM_FLIGHTS=31, ROUTE='IAHHNL')]"
      ]
     },
     "execution_count": 29,
     "metadata": {
      "tags": []
     },
     "output_type": "execute_result"
    }
   ],
   "source": [
    "routes_stats.takeOrdered(10, lambda x: -x.AVERAGE_DURATION)"
   ]
  },
  {
   "cell_type": "code",
   "execution_count": 30,
   "metadata": {
    "colab": {
     "base_uri": "https://localhost:8080/",
     "height": 187
    },
    "colab_type": "code",
    "id": "PNdizsRM8IVy",
    "outputId": "39f90ce6-368d-41c0-ae46-3fca49a9677e"
   },
   "outputs": [
    {
     "data": {
      "text/plain": [
       "[Row(AVERAGE_DURATION=25.466666666666665, DURATION_STD=5.891990797307446, NUM_FLIGHTS=30, ROUTE='PSGWRG'),\n",
       " Row(AVERAGE_DURATION=25.821428571428573, DURATION_STD=6.530442839001753, NUM_FLIGHTS=28, ROUTE='WRGPSG'),\n",
       " Row(AVERAGE_DURATION=33.32142857142857, DURATION_STD=4.375692365040032, NUM_FLIGHTS=28, ROUTE='SFOSTS'),\n",
       " Row(AVERAGE_DURATION=34.728813559322035, DURATION_STD=5.436320130240698, NUM_FLIGHTS=59, ROUTE='SJUSTT'),\n",
       " Row(AVERAGE_DURATION=35.9941348973607, DURATION_STD=4.460970618117005, NUM_FLIGHTS=682, ROUTE='LIHHNL'),\n",
       " Row(AVERAGE_DURATION=36.0, DURATION_STD=3.0, NUM_FLIGHTS=2, ROUTE='RICIAD'),\n",
       " Row(AVERAGE_DURATION=36.56190476190476, DURATION_STD=4.922105259074188, NUM_FLIGHTS=105, ROUTE='KOAOGG'),\n",
       " Row(AVERAGE_DURATION=36.953125, DURATION_STD=4.641624471494328, NUM_FLIGHTS=64, ROUTE='STTSJU'),\n",
       " Row(AVERAGE_DURATION=37.285714285714285, DURATION_STD=5.267536309842602, NUM_FLIGHTS=105, ROUTE='OGGKOA'),\n",
       " Row(AVERAGE_DURATION=37.96551724137931, DURATION_STD=7.53604102879183, NUM_FLIGHTS=29, ROUTE='WRGKTN')]"
      ]
     },
     "execution_count": 30,
     "metadata": {
      "tags": []
     },
     "output_type": "execute_result"
    }
   ],
   "source": [
    "routes_stats.takeOrdered(10, lambda x: x.AVERAGE_DURATION)"
   ]
  },
  {
   "cell_type": "code",
   "execution_count": 31,
   "metadata": {
    "colab": {
     "base_uri": "https://localhost:8080/",
     "height": 187
    },
    "colab_type": "code",
    "id": "2oUcv7TJ8oAE",
    "outputId": "0a5fc34e-0b1c-482f-c573-310fd256ac31"
   },
   "outputs": [
    {
     "data": {
      "text/plain": [
       "[Row(AVERAGE_DURATION=67.28395061728395, DURATION_STD=100.71723460935365, NUM_FLIGHTS=405, ROUTE='ATLBNA'),\n",
       " Row(AVERAGE_DURATION=52.194945848375454, DURATION_STD=86.06523998701414, NUM_FLIGHTS=277, ROUTE='ATLBHM'),\n",
       " Row(AVERAGE_DURATION=307.0, DURATION_STD=71.17935093831638, NUM_FLIGHTS=4, ROUTE='DFWSTT'),\n",
       " Row(AVERAGE_DURATION=252.66666666666666, DURATION_STD=40.17185305382092, NUM_FLIGHTS=9, ROUTE='HDNFLL'),\n",
       " Row(AVERAGE_DURATION=141.08333333333334, DURATION_STD=37.34402748618423, NUM_FLIGHTS=12, ROUTE='SGFSFB'),\n",
       " Row(AVERAGE_DURATION=221.25, DURATION_STD=36.77890020106637, NUM_FLIGHTS=4, ROUTE='HDNIAD'),\n",
       " Row(AVERAGE_DURATION=310.22222222222223, DURATION_STD=36.328066216931056, NUM_FLIGHTS=9, ROUTE='BOSHDN'),\n",
       " Row(AVERAGE_DURATION=236.6, DURATION_STD=33.75559212930507, NUM_FLIGHTS=5, ROUTE='HDNEWR'),\n",
       " Row(AVERAGE_DURATION=298.4, DURATION_STD=32.96422303043125, NUM_FLIGHTS=5, ROUTE='EWRHDN'),\n",
       " Row(AVERAGE_DURATION=168.0, DURATION_STD=32.526911934581186, NUM_FLIGHTS=10, ROUTE='DSMPIE')]"
      ]
     },
     "execution_count": 31,
     "metadata": {
      "tags": []
     },
     "output_type": "execute_result"
    }
   ],
   "source": [
    "routes_stats.takeOrdered(10, lambda x: -x.DURATION_STD)"
   ]
  },
  {
   "cell_type": "markdown",
   "metadata": {
    "colab_type": "text",
    "id": "FVNU3LbB0P_i"
   },
   "source": [
    "**Ejercicio 6:** Para cada linea aerea contar cuantos vuelos tuvieron cuya duracion se excedio en 15 minutos o mas la duracion promedio de la ruta (para todas las lineas). Indicar las 10 mejores lineas aereas y las 10 peores de acuerdo a esta metrica."
   ]
  },
  {
   "cell_type": "code",
   "execution_count": 0,
   "metadata": {
    "colab": {},
    "colab_type": "code",
    "id": "seokgySG9MN0"
   },
   "outputs": [],
   "source": [
    "rdd_1 = routes_stats.map(lambda x: (x.ROUTE, x.AVERAGE_DURATION))\n",
    "rdd_2 = rdd.map(lambda x: (x.ORIGIN + x.DEST,(x.OP_UNIQUE_CARRIER, hhmmtimediff(x.DEP_TIME, x.ARR_TIME) + (x.TIMEDIFF * 60))))"
   ]
  },
  {
   "cell_type": "code",
   "execution_count": 0,
   "metadata": {
    "colab": {},
    "colab_type": "code",
    "id": "kqWyytwL9naP"
   },
   "outputs": [],
   "source": [
    "carrier_delays = rdd_1.join(rdd_2).cache()"
   ]
  },
  {
   "cell_type": "code",
   "execution_count": 37,
   "metadata": {
    "colab": {
     "base_uri": "https://localhost:8080/",
     "height": 34
    },
    "colab_type": "code",
    "id": "0To2THvI-gSv",
    "outputId": "1574e490-0c1c-403a-a921-1a0478831311"
   },
   "outputs": [
    {
     "data": {
      "text/plain": [
       "[('SLCABQ', (94.39024390243902, ('OO', 85.0)))]"
      ]
     },
     "execution_count": 37,
     "metadata": {
      "tags": []
     },
     "output_type": "execute_result"
    }
   ],
   "source": [
    "carrier_delays.take(1)"
   ]
  },
  {
   "cell_type": "code",
   "execution_count": 0,
   "metadata": {
    "colab": {},
    "colab_type": "code",
    "id": "M7fIGhAiYBBn"
   },
   "outputs": [],
   "source": [
    "delays_by_carrier = carrier_delays.filter(lambda x: (x[1][1][1] - x[1][0]) > 15)\\\n",
    "                                  .map(lambda x: (x[1][1][0], 1))\\\n",
    "                                  .reduceByKey(lambda x, y: x + y).cache()"
   ]
  },
  {
   "cell_type": "code",
   "execution_count": 49,
   "metadata": {
    "colab": {
     "base_uri": "https://localhost:8080/",
     "height": 187
    },
    "colab_type": "code",
    "id": "R0koXAw6YA_N",
    "outputId": "d9fa00dc-f375-4111-d87b-6b62d53eefdf"
   },
   "outputs": [
    {
     "data": {
      "text/plain": [
       "[('HA', 389),\n",
       " ('G4', 521),\n",
       " ('EV', 1447),\n",
       " ('NK', 1557),\n",
       " ('YV', 1565),\n",
       " ('F9', 1777),\n",
       " ('9E', 2288),\n",
       " ('B6', 2427),\n",
       " ('OH', 2696),\n",
       " ('MQ', 2962)]"
      ]
     },
     "execution_count": 49,
     "metadata": {
      "tags": []
     },
     "output_type": "execute_result"
    }
   ],
   "source": [
    "# 10 mejores\n",
    "delays_by_carrier.takeOrdered(10, lambda x: x[1])"
   ]
  },
  {
   "cell_type": "code",
   "execution_count": 50,
   "metadata": {
    "colab": {
     "base_uri": "https://localhost:8080/",
     "height": 187
    },
    "colab_type": "code",
    "id": "tt0pUWH6YA8y",
    "outputId": "c9fecd32-70b5-475c-913f-860babac1724"
   },
   "outputs": [
    {
     "data": {
      "text/plain": [
       "[('OO', 8281),\n",
       " ('AA', 7949),\n",
       " ('DL', 6890),\n",
       " ('WN', 4896),\n",
       " ('UA', 4622),\n",
       " ('YX', 3908),\n",
       " ('AS', 3448),\n",
       " ('MQ', 2962),\n",
       " ('OH', 2696),\n",
       " ('B6', 2427)]"
      ]
     },
     "execution_count": 50,
     "metadata": {
      "tags": []
     },
     "output_type": "execute_result"
    }
   ],
   "source": [
    "# 10 peores\n",
    "delays_by_carrier.takeOrdered(10, lambda x: -x[1])"
   ]
  },
  {
   "cell_type": "code",
   "execution_count": 0,
   "metadata": {
    "colab": {},
    "colab_type": "code",
    "id": "qNJ4iqlD9mM2"
   },
   "outputs": [],
   "source": [
    "carrier_delays = carrier_delays.filter(lambda x: (x[1][1][1] - x[1][0]) > 15)\\\n",
    ".map(lambda x: (x[1][1][0],1))\\\n",
    ".reduceByKey(lambda x,y: x + y)\\\n",
    ".cache()"
   ]
  },
  {
   "cell_type": "code",
   "execution_count": 0,
   "metadata": {
    "colab": {
     "base_uri": "https://localhost:8080/",
     "height": 192
    },
    "colab_type": "code",
    "id": "-cibwyqc_GtJ",
    "outputId": "8887e747-a5fb-454a-ec6f-8c0271e0947c"
   },
   "outputs": [
    {
     "data": {
      "text/plain": [
       "[('OO', 8281),\n",
       " ('AA', 7949),\n",
       " ('DL', 6890),\n",
       " ('WN', 4896),\n",
       " ('UA', 4622),\n",
       " ('YX', 3908),\n",
       " ('AS', 3448),\n",
       " ('MQ', 2962),\n",
       " ('OH', 2696),\n",
       " ('B6', 2427)]"
      ]
     },
     "execution_count": 84,
     "metadata": {
      "tags": []
     },
     "output_type": "execute_result"
    }
   ],
   "source": [
    "carrier_delays.takeOrdered(10, lambda x: -x[1])"
   ]
  },
  {
   "cell_type": "code",
   "execution_count": 0,
   "metadata": {
    "colab": {
     "base_uri": "https://localhost:8080/",
     "height": 192
    },
    "colab_type": "code",
    "id": "itJjBMhB-uQC",
    "outputId": "46d637a2-3ec9-4490-9b11-4e4c762bd2ac"
   },
   "outputs": [
    {
     "data": {
      "text/plain": [
       "[('HA', 389),\n",
       " ('G4', 521),\n",
       " ('EV', 1447),\n",
       " ('NK', 1557),\n",
       " ('YV', 1565),\n",
       " ('F9', 1777),\n",
       " ('9E', 2288),\n",
       " ('B6', 2427),\n",
       " ('OH', 2696),\n",
       " ('MQ', 2962)]"
      ]
     },
     "execution_count": 85,
     "metadata": {
      "tags": []
     },
     "output_type": "execute_result"
    }
   ],
   "source": [
    "carrier_delays.takeOrdered(10, lambda x: x[1])"
   ]
  },
  {
   "cell_type": "markdown",
   "metadata": {
    "colab_type": "text",
    "id": "W0S8KsUKAEr0"
   },
   "source": [
    "#### Anexo de comentarios extra\n",
    "* CombineByKey "
   ]
  },
  {
   "cell_type": "code",
   "execution_count": 0,
   "metadata": {
    "colab": {},
    "colab_type": "code",
    "id": "BNKHfm6F_Xdx"
   },
   "outputs": [],
   "source": [
    "r1 = sc.parallelize([('A',1),('B',2),('C',3),('A',2),('C',28),('A',2)],4)"
   ]
  },
  {
   "cell_type": "code",
   "execution_count": 0,
   "metadata": {
    "colab": {
     "base_uri": "https://localhost:8080/",
     "height": 35
    },
    "colab_type": "code",
    "id": "OwVbfeFfAD3j",
    "outputId": "59b2d45e-c1a7-49ea-b204-5a5286acea2b"
   },
   "outputs": [
    {
     "data": {
      "text/plain": [
       "[('A', 5), ('B', 2), ('C', 31)]"
      ]
     },
     "execution_count": 89,
     "metadata": {
      "tags": []
     },
     "output_type": "execute_result"
    }
   ],
   "source": [
    "r1.reduceByKey(lambda x,y : x + y).collect()"
   ]
  },
  {
   "cell_type": "code",
   "execution_count": 0,
   "metadata": {
    "colab": {
     "base_uri": "https://localhost:8080/",
     "height": 35
    },
    "colab_type": "code",
    "id": "verYIwhhAe_l",
    "outputId": "8926fd6b-af19-4823-9fde-f2bbe556ab6c"
   },
   "outputs": [
    {
     "data": {
      "text/plain": [
       "[('A', (5, 3)), ('B', (2, 1)), ('C', (31, 2))]"
      ]
     },
     "execution_count": 93,
     "metadata": {
      "tags": []
     },
     "output_type": "execute_result"
    }
   ],
   "source": [
    "r1.combineByKey(lambda x: (x,1), lambda x,y: (x[0] + y[0] ,x[1] + y[1]), lambda x,y: (x[0] + y[0], x[1] + y[1])).collect()"
   ]
  },
  {
   "cell_type": "markdown",
   "metadata": {
    "colab_type": "text",
    "id": "Ac2ERKGcCcvF"
   },
   "source": [
    "* Tablas sql"
   ]
  },
  {
   "cell_type": "code",
   "execution_count": 0,
   "metadata": {
    "colab": {},
    "colab_type": "code",
    "id": "jd6ub54dBhWK"
   },
   "outputs": [],
   "source": [
    "sqlContext.read.parquet('flights.parquet').registerTempTable('flights')\n"
   ]
  },
  {
   "cell_type": "code",
   "execution_count": 0,
   "metadata": {
    "colab": {
     "base_uri": "https://localhost:8080/",
     "height": 315
    },
    "colab_type": "code",
    "id": "eYvgVbzWCoWJ",
    "outputId": "3f0f0560-8d13-4cd3-fb48-ee73b7e5349e"
   },
   "outputs": [
    {
     "name": "stdout",
     "output_type": "stream",
     "text": [
      "+-----------------+\n",
      "|OP_UNIQUE_CARRIER|\n",
      "+-----------------+\n",
      "|               UA|\n",
      "|               NK|\n",
      "|               AA|\n",
      "|               EV|\n",
      "|               B6|\n",
      "|               DL|\n",
      "|               OO|\n",
      "|               F9|\n",
      "|               MQ|\n",
      "|               YX|\n",
      "|               AS|\n",
      "|               9E|\n",
      "+-----------------+\n",
      "\n"
     ]
    }
   ],
   "source": [
    "sqlContext.sql(\"SELECT distinct(OP_UNIQUE_CARRIER) from flights WHERE ORIGIN = 'ORD'\").show()"
   ]
  }
 ],
 "metadata": {
  "colab": {
   "collapsed_sections": [],
   "name": "Clase 7 - Ejercicio vuelos",
   "provenance": []
  },
  "kernelspec": {
   "display_name": "Python 3",
   "language": "python",
   "name": "python3"
  },
  "language_info": {
   "codemirror_mode": {
    "name": "ipython",
    "version": 3
   },
   "file_extension": ".py",
   "mimetype": "text/x-python",
   "name": "python",
   "nbconvert_exporter": "python",
   "pygments_lexer": "ipython3",
   "version": "3.7.7"
  }
 },
 "nbformat": 4,
 "nbformat_minor": 1
}
