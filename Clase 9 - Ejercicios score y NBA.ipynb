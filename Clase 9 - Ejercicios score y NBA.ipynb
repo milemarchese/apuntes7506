{
  "nbformat": 4,
  "nbformat_minor": 0,
  "metadata": {
    "colab": {
      "name": "Clase 9 - Ejercicios score y NBA",
      "provenance": [],
      "collapsed_sections": []
    },
    "kernelspec": {
      "name": "python3",
      "display_name": "Python 3"
    }
  },
  "cells": [
    {
      "cell_type": "markdown",
      "metadata": {
        "id": "KHdU05jEP1EY",
        "colab_type": "text"
      },
      "source": [
        "# Instalamos e importamos librerías"
      ]
    },
    {
      "cell_type": "code",
      "metadata": {
        "id": "fnV5re322Wz9",
        "colab_type": "code",
        "outputId": "1d9b7020-db4e-428e-8adf-640fcfae1532",
        "colab": {
          "base_uri": "https://localhost:8080/",
          "height": 853
        }
      },
      "source": [
        "!pip install pyspark\n",
        "!pip install -U -q PyDrive\n",
        "!apt install openjdk-8-jdk-headless -qq\n",
        "import os\n",
        "os.environ[\"JAVA_HOME\"] = \"/usr/lib/jvm/java-8-openjdk-amd64\""
      ],
      "execution_count": 1,
      "outputs": [
        {
          "output_type": "stream",
          "text": [
            "Collecting pyspark\n",
            "\u001b[?25l  Downloading https://files.pythonhosted.org/packages/e9/e4/5c15ab8d354c4e3528510821865e6748209a9b0ff6a1788f4cd36cc2a5dc/pyspark-2.4.6.tar.gz (218.4MB)\n",
            "\u001b[K     |████████████████████████████████| 218.4MB 60kB/s \n",
            "\u001b[?25hCollecting py4j==0.10.7\n",
            "\u001b[?25l  Downloading https://files.pythonhosted.org/packages/e3/53/c737818eb9a7dc32a7cd4f1396e787bd94200c3997c72c1dbe028587bd76/py4j-0.10.7-py2.py3-none-any.whl (197kB)\n",
            "\u001b[K     |████████████████████████████████| 204kB 44.8MB/s \n",
            "\u001b[?25hBuilding wheels for collected packages: pyspark\n",
            "  Building wheel for pyspark (setup.py) ... \u001b[?25l\u001b[?25hdone\n",
            "  Created wheel for pyspark: filename=pyspark-2.4.6-py2.py3-none-any.whl size=218814406 sha256=3a5ebb2e53e199dcd3a94ac11fee12c4363bab36c13f2ba84ab7a3fe648013b6\n",
            "  Stored in directory: /root/.cache/pip/wheels/1e/5e/6a/17e906c94ec7246f260330a66e44a06a0809033ba2738a74a8\n",
            "Successfully built pyspark\n",
            "Installing collected packages: py4j, pyspark\n",
            "Successfully installed py4j-0.10.7 pyspark-2.4.6\n",
            "The following additional packages will be installed:\n",
            "  openjdk-8-jre-headless\n",
            "Suggested packages:\n",
            "  openjdk-8-demo openjdk-8-source libnss-mdns fonts-dejavu-extra\n",
            "  fonts-ipafont-gothic fonts-ipafont-mincho fonts-wqy-microhei\n",
            "  fonts-wqy-zenhei fonts-indic\n",
            "The following NEW packages will be installed:\n",
            "  openjdk-8-jdk-headless openjdk-8-jre-headless\n",
            "0 upgraded, 2 newly installed, 0 to remove and 32 not upgraded.\n",
            "Need to get 35.8 MB of archives.\n",
            "After this operation, 140 MB of additional disk space will be used.\n",
            "Selecting previously unselected package openjdk-8-jre-headless:amd64.\n",
            "(Reading database ... 144467 files and directories currently installed.)\n",
            "Preparing to unpack .../openjdk-8-jre-headless_8u252-b09-1~18.04_amd64.deb ...\n",
            "Unpacking openjdk-8-jre-headless:amd64 (8u252-b09-1~18.04) ...\n",
            "Selecting previously unselected package openjdk-8-jdk-headless:amd64.\n",
            "Preparing to unpack .../openjdk-8-jdk-headless_8u252-b09-1~18.04_amd64.deb ...\n",
            "Unpacking openjdk-8-jdk-headless:amd64 (8u252-b09-1~18.04) ...\n",
            "Setting up openjdk-8-jre-headless:amd64 (8u252-b09-1~18.04) ...\n",
            "update-alternatives: using /usr/lib/jvm/java-8-openjdk-amd64/jre/bin/orbd to provide /usr/bin/orbd (orbd) in auto mode\n",
            "update-alternatives: using /usr/lib/jvm/java-8-openjdk-amd64/jre/bin/servertool to provide /usr/bin/servertool (servertool) in auto mode\n",
            "update-alternatives: using /usr/lib/jvm/java-8-openjdk-amd64/jre/bin/tnameserv to provide /usr/bin/tnameserv (tnameserv) in auto mode\n",
            "Setting up openjdk-8-jdk-headless:amd64 (8u252-b09-1~18.04) ...\n",
            "update-alternatives: using /usr/lib/jvm/java-8-openjdk-amd64/bin/idlj to provide /usr/bin/idlj (idlj) in auto mode\n",
            "update-alternatives: using /usr/lib/jvm/java-8-openjdk-amd64/bin/wsimport to provide /usr/bin/wsimport (wsimport) in auto mode\n",
            "update-alternatives: using /usr/lib/jvm/java-8-openjdk-amd64/bin/jsadebugd to provide /usr/bin/jsadebugd (jsadebugd) in auto mode\n",
            "update-alternatives: using /usr/lib/jvm/java-8-openjdk-amd64/bin/native2ascii to provide /usr/bin/native2ascii (native2ascii) in auto mode\n",
            "update-alternatives: using /usr/lib/jvm/java-8-openjdk-amd64/bin/javah to provide /usr/bin/javah (javah) in auto mode\n",
            "update-alternatives: using /usr/lib/jvm/java-8-openjdk-amd64/bin/clhsdb to provide /usr/bin/clhsdb (clhsdb) in auto mode\n",
            "update-alternatives: using /usr/lib/jvm/java-8-openjdk-amd64/bin/extcheck to provide /usr/bin/extcheck (extcheck) in auto mode\n",
            "update-alternatives: using /usr/lib/jvm/java-8-openjdk-amd64/bin/hsdb to provide /usr/bin/hsdb (hsdb) in auto mode\n",
            "update-alternatives: using /usr/lib/jvm/java-8-openjdk-amd64/bin/schemagen to provide /usr/bin/schemagen (schemagen) in auto mode\n",
            "update-alternatives: using /usr/lib/jvm/java-8-openjdk-amd64/bin/xjc to provide /usr/bin/xjc (xjc) in auto mode\n",
            "update-alternatives: using /usr/lib/jvm/java-8-openjdk-amd64/bin/jhat to provide /usr/bin/jhat (jhat) in auto mode\n",
            "update-alternatives: using /usr/lib/jvm/java-8-openjdk-amd64/bin/wsgen to provide /usr/bin/wsgen (wsgen) in auto mode\n"
          ],
          "name": "stdout"
        }
      ]
    },
    {
      "cell_type": "code",
      "metadata": {
        "id": "nhYIAjti3iaf",
        "colab_type": "code",
        "colab": {}
      },
      "source": [
        "from pydrive.auth import GoogleAuth\n",
        "from pydrive.drive import GoogleDrive\n",
        "from google.colab import auth\n",
        "from oauth2client.client import GoogleCredentials\n",
        "from pyspark.sql import *\n",
        "from pyspark.sql.functions import *\n",
        "from pyspark import SparkContext\n",
        "from pyspark.sql import SQLContext\n",
        "import pandas as pd"
      ],
      "execution_count": 0,
      "outputs": []
    },
    {
      "cell_type": "markdown",
      "metadata": {
        "id": "JCKfIhFUQiyg",
        "colab_type": "text"
      },
      "source": [
        "# Creamos el Spark Context"
      ]
    },
    {
      "cell_type": "code",
      "metadata": {
        "id": "5ENPglW_4Cco",
        "colab_type": "code",
        "colab": {}
      },
      "source": [
        "# create the Spark Session\n",
        "spark = SparkSession.builder.getOrCreate()\n",
        "\n",
        "# create the Spark Context\n",
        "sc = spark.sparkContext"
      ],
      "execution_count": 0,
      "outputs": []
    },
    {
      "cell_type": "markdown",
      "metadata": {
        "id": "Gr9ZHM8c7x8h",
        "colab_type": "text"
      },
      "source": [
        "# 2016 2C 1 Parcial"
      ]
    },
    {
      "cell_type": "markdown",
      "metadata": {
        "id": "-__EzR357o4r",
        "colab_type": "text"
      },
      "source": [
        "En este ejercicio queremos programar un sistema que recomiende textos a usuarios en base a sus gustos sobre ciertos términos (palabras).\n",
        "\n",
        "Se cuenta con un RDD de textos de la forma (docId, texto) donde texto es un string de longitud variable.\n",
        "\n",
        "Además contamos con un RDD que indica qué términos le gustan o no a cada usuario de la forma (userId, término, score) por ejemplo (23, “calesita”, -2).\n",
        "\n",
        "Se pide programar en Spark un programa que calcule el score total de cada documento para cada usuario generando un RDD de la forma (userId, docId, score) en donde el score es simplemente la suma de los scores del usuario para los términos que aparecen en el documento.\n",
        "\n",
        "Puede haber términos en los documentos para los cuales no exista score de algunos usuarios, en estos casos simplemente los consideramos neutros (score=0)"
      ]
    },
    {
      "cell_type": "code",
      "metadata": {
        "id": "lNvzWFoH70p7",
        "colab_type": "code",
        "colab": {}
      },
      "source": [
        "documents = [\n",
        "    (1, 'pablo honey'),\n",
        "    (2, 'the bends'),\n",
        "    (3, 'ok computer'),\n",
        "    (4, 'kid a'),\n",
        "    (5, 'amnesiac'),\n",
        "    (6, 'hail to the thief'),\n",
        "    (7, 'in rainbows'),\n",
        "    (8, 'the king of limbs'),\n",
        "    (9, 'a moon shaped pool')\n",
        "]\n",
        "\n",
        "scores = [\n",
        "    ('thom', 'pablo', 1),\n",
        "    ('thom', 'honey', 1),\n",
        "    ('martin', 'pablo', -1),\n",
        "    ('martin', 'honey', -1),\n",
        "    ('martin', 'ok', 30),\n",
        "    ('martin', 'computer', 30),\n",
        "]"
      ],
      "execution_count": 0,
      "outputs": []
    },
    {
      "cell_type": "code",
      "metadata": {
        "id": "nzs9K63A7-dr",
        "colab_type": "code",
        "colab": {}
      },
      "source": [
        "documents = sc.parallelize(documents)\n",
        "scores = sc.parallelize(scores)"
      ],
      "execution_count": 0,
      "outputs": []
    },
    {
      "cell_type": "code",
      "metadata": {
        "id": "WVs7cmvcKI-C",
        "colab_type": "code",
        "colab": {}
      },
      "source": [
        "terms = documents.flatMap(lambda x: [(word, x[0]) for word in x[1].split()])"
      ],
      "execution_count": 0,
      "outputs": []
    },
    {
      "cell_type": "code",
      "metadata": {
        "id": "YiHW6FoVK9r_",
        "colab_type": "code",
        "colab": {}
      },
      "source": [
        "scores_by_word = scores.map(lambda x: (x[1], (x[0], x[2])))"
      ],
      "execution_count": 0,
      "outputs": []
    },
    {
      "cell_type": "code",
      "metadata": {
        "id": "Lq-Z6aT0LMNj",
        "colab_type": "code",
        "colab": {
          "base_uri": "https://localhost:8080/",
          "height": 119
        },
        "outputId": "18f4ab83-d1e7-441e-b316-9446d92888e6"
      },
      "source": [
        "total = terms.join(scores_by_word)\n",
        "total.collect()"
      ],
      "execution_count": 61,
      "outputs": [
        {
          "output_type": "execute_result",
          "data": {
            "text/plain": [
              "[('pablo', (1, ('thom', 1))),\n",
              " ('pablo', (1, ('martin', -1))),\n",
              " ('honey', (1, ('thom', 1))),\n",
              " ('honey', (1, ('martin', -1))),\n",
              " ('ok', (3, ('martin', 30))),\n",
              " ('computer', (3, ('martin', 30)))]"
            ]
          },
          "metadata": {
            "tags": []
          },
          "execution_count": 61
        }
      ]
    },
    {
      "cell_type": "code",
      "metadata": {
        "id": "akPXU_UJLdX_",
        "colab_type": "code",
        "colab": {
          "base_uri": "https://localhost:8080/",
          "height": 34
        },
        "outputId": "4bb797cf-4d2d-4e57-e29f-de5b77ca8963"
      },
      "source": [
        "by_user = total.map(lambda x: ((x[1][1][0], x[1][0]), x[1][1][1])).reduceByKey(lambda x, y: x + y).cache()\n",
        "by_user.first()"
      ],
      "execution_count": 88,
      "outputs": [
        {
          "output_type": "execute_result",
          "data": {
            "text/plain": [
              "(('thom', 1), 2)"
            ]
          },
          "metadata": {
            "tags": []
          },
          "execution_count": 88
        }
      ]
    },
    {
      "cell_type": "code",
      "metadata": {
        "id": "qnkheR5YVP2W",
        "colab_type": "code",
        "colab": {
          "base_uri": "https://localhost:8080/",
          "height": 323
        },
        "outputId": "07446279-2e98-4e3f-f9a0-71d210ed0ed3"
      },
      "source": [
        "users = scoresRDD.map(lambda x: x[0]).distinct() # Usuarios unicos\n",
        "docs = documentsRDD.map(lambda x: x[0])\n",
        "users_docs = users.cartesian(docs).map(lambda x: ((x[0],x[1]), 0)).cache()\n",
        "users_docs.collect()"
      ],
      "execution_count": 96,
      "outputs": [
        {
          "output_type": "execute_result",
          "data": {
            "text/plain": [
              "[(('thom', 1), 0),\n",
              " (('thom', 2), 0),\n",
              " (('thom', 3), 0),\n",
              " (('thom', 4), 0),\n",
              " (('martin', 1), 0),\n",
              " (('martin', 2), 0),\n",
              " (('martin', 3), 0),\n",
              " (('martin', 4), 0),\n",
              " (('thom', 5), 0),\n",
              " (('thom', 6), 0),\n",
              " (('thom', 7), 0),\n",
              " (('thom', 8), 0),\n",
              " (('thom', 9), 0),\n",
              " (('martin', 5), 0),\n",
              " (('martin', 6), 0),\n",
              " (('martin', 7), 0),\n",
              " (('martin', 8), 0),\n",
              " (('martin', 9), 0)]"
            ]
          },
          "metadata": {
            "tags": []
          },
          "execution_count": 96
        }
      ]
    },
    {
      "cell_type": "code",
      "metadata": {
        "id": "qIsRgg3VbdzM",
        "colab_type": "code",
        "colab": {
          "base_uri": "https://localhost:8080/",
          "height": 323
        },
        "outputId": "5edea2af-d2f6-4445-c1d8-5366b889287d"
      },
      "source": [
        "by_user.rightOuterJoin(users_docs).map(lambda x: (x[0][0], x[0][1], 0 if x[1][0] is None else x[1][0])).collect()"
      ],
      "execution_count": 98,
      "outputs": [
        {
          "output_type": "execute_result",
          "data": {
            "text/plain": [
              "[('martin', 2, 0),\n",
              " ('thom', 6, 0),\n",
              " ('thom', 1, 2),\n",
              " ('thom', 9, 0),\n",
              " ('martin', 5, 0),\n",
              " ('martin', 4, 0),\n",
              " ('thom', 8, 0),\n",
              " ('thom', 3, 0),\n",
              " ('martin', 7, 0),\n",
              " ('thom', 2, 0),\n",
              " ('martin', 6, 0),\n",
              " ('martin', 1, -2),\n",
              " ('thom', 5, 0),\n",
              " ('martin', 9, 0),\n",
              " ('thom', 4, 0),\n",
              " ('martin', 8, 0),\n",
              " ('martin', 3, 60),\n",
              " ('thom', 7, 0)]"
            ]
          },
          "metadata": {
            "tags": []
          },
          "execution_count": 98
        }
      ]
    },
    {
      "cell_type": "markdown",
      "metadata": {
        "id": "UVu85ePR8DT3",
        "colab_type": "text"
      },
      "source": [
        "# 2017 1C 1 Parcial"
      ]
    },
    {
      "cell_type": "markdown",
      "metadata": {
        "id": "_xD-DVqW8ghO",
        "colab_type": "text"
      },
      "source": [
        "Se tiene información estadística de la temporada regular de todos los jugadores de la NBA en un RDD de tuplas con el siguiente formato: (id_jugador, nombre, promedio_puntos, promedio_asistencias, promedio_robos, promedio_bloqueos, promedio_rebotes, promedio_faltas).\n",
        "\n",
        "Un analista de la cadena ESPN está trabajando con un RDD que corresponde a la primera ronda de playoffs y que tiene el siguiente formato: (id_jugador, id_partido, timestamp, cantidad_puntos, cantidad_rebotes, cantidad_bloqueos, cantidad_robos, cantidad_asistencias, cantidad_faltas).\n",
        "\n",
        "En base a estos RDDs se quiere programar en PySpark un programa que genere un RDD con los nombres (sin duplicados) de los jugadores que lograron en algún partido de playoffs una cantidad de asistencias mayor a su promedio histórico."
      ]
    },
    {
      "cell_type": "code",
      "metadata": {
        "id": "vTpCLayaoZfh",
        "colab_type": "code",
        "colab": {}
      },
      "source": [
        "# usamos para simplificar el formato, que puede obtenerse con un map.\n",
        "# (id_jugador, nombre, promedio_asistencias)\n",
        "players_all_time_stats = [\n",
        "    (1, 'Manu Ginobili', 800),\n",
        "    (2, 'Kobe Bryant', 100),\n",
        "    (3, 'Marc Gasol', 25),\n",
        "    (4, 'James Harden', 1000)]\n",
        "\n",
        "# usamos para simplificar el formato, que puede obtenerse con un map.\n",
        "# (id_jugador, id_partido, timestamp, cantidad_asistencias)\n",
        "scores = [\n",
        "  (1, 1, 1, 100),\n",
        "  (1, 1, 3, 100),\n",
        "  (2, 1, 1, 150),\n",
        "  (2, 1, 3, 150),\n",
        "  (3, 2, 2, 50),\n",
        "  (3, 2, 3, 50),      \n",
        "  (1, 2, 1, 150),\n",
        "  (1, 2, 3, 150),\n",
        "]\n",
        "\n",
        "stats = sc.parallelize(players_all_time_stats)\n",
        "scores = sc.parallelize(scores)"
      ],
      "execution_count": 0,
      "outputs": []
    },
    {
      "cell_type": "code",
      "metadata": {
        "id": "zDg7WpYsgzds",
        "colab_type": "code",
        "colab": {
          "base_uri": "https://localhost:8080/",
          "height": 34
        },
        "outputId": "04e1d23a-5d87-4ff1-8843-d9bbd8e62b41"
      },
      "source": [
        "stats = stats.map(lambda x: (x[0], (x[1],x[2])))\n",
        "stats.first()"
      ],
      "execution_count": 123,
      "outputs": [
        {
          "output_type": "execute_result",
          "data": {
            "text/plain": [
              "(1, ('Manu Ginobili', 800))"
            ]
          },
          "metadata": {
            "tags": []
          },
          "execution_count": 123
        }
      ]
    },
    {
      "cell_type": "code",
      "metadata": {
        "id": "GKfuyH4whgcA",
        "colab_type": "code",
        "colab": {
          "base_uri": "https://localhost:8080/",
          "height": 34
        },
        "outputId": "71676afe-3583-49e3-9f1d-f92841f2b2b4"
      },
      "source": [
        "scores_by_match = scores.map(lambda x: ((x[0], x[1]), x[3])).reduceByKey(lambda x, y: x + y)\\\n",
        "                                  .map(lambda x: (x[0][0], x[1]))\n",
        "scores_by_match.first()"
      ],
      "execution_count": 115,
      "outputs": [
        {
          "output_type": "execute_result",
          "data": {
            "text/plain": [
              "(1, 200)"
            ]
          },
          "metadata": {
            "tags": []
          },
          "execution_count": 115
        }
      ]
    },
    {
      "cell_type": "code",
      "metadata": {
        "id": "DG8PbfYNhydT",
        "colab_type": "code",
        "colab": {}
      },
      "source": [
        "resul = scores_by_match.join(stats).filter(lambda x: x[1][0] > x[1][1][1]).map(lambda x: (x[1][1][0])).distinct()"
      ],
      "execution_count": 0,
      "outputs": []
    },
    {
      "cell_type": "code",
      "metadata": {
        "id": "iqsTlobCj1aW",
        "colab_type": "code",
        "colab": {
          "base_uri": "https://localhost:8080/",
          "height": 34
        },
        "outputId": "d54e0d75-6f73-48f8-d73f-2cb420d6a2cb"
      },
      "source": [
        "resul.collect()"
      ],
      "execution_count": 129,
      "outputs": [
        {
          "output_type": "execute_result",
          "data": {
            "text/plain": [
              "['Kobe Bryant', 'Marc Gasol']"
            ]
          },
          "metadata": {
            "tags": []
          },
          "execution_count": 129
        }
      ]
    }
  ]
}